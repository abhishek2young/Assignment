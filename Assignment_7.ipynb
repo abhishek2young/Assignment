{
 "cells": [
  {
   "cell_type": "markdown",
   "metadata": {},
   "source": [
    "# 1. Write a python program to read an entire text file"
   ]
  },
  {
   "cell_type": "code",
   "execution_count": 2,
   "metadata": {},
   "outputs": [
    {
     "name": "stdout",
     "output_type": "stream",
     "text": [
      "Reading Entire file\n",
      "Data Science:\n",
      "    It is an Interdisciplinary field that uses Scientific methods, processes, algorithms and systems to extract knowledge\n",
      "    and insights from noisy, structured and unstructured data, and apply knowledge from data across a broad range of \n",
      "    application domains.\n"
     ]
    }
   ],
   "source": [
    "with open(\"Question_1_solution.txt\" , \"w\") as f:\n",
    "    f.write(\"\"\"Data Science:\n",
    "    It is an Interdisciplinary field that uses Scientific methods, processes, algorithms and systems to extract knowledge\n",
    "    and insights from noisy, structured and unstructured data, and apply knowledge from data across a broad range of \n",
    "    application domains.\"\"\")\n",
    "with open(\"Question_1_solution.txt\" , \"r\") as f:\n",
    "    solution = f.read()\n",
    "    print(\"Reading Entire file\")\n",
    "    print(solution)"
   ]
  },
  {
   "cell_type": "markdown",
   "metadata": {},
   "source": [
    "# 2. Write a python program to read the first n lines of a file"
   ]
  },
  {
   "cell_type": "code",
   "execution_count": 3,
   "metadata": {},
   "outputs": [
    {
     "name": "stdout",
     "output_type": "stream",
     "text": [
      "Data Science:\n",
      "\n"
     ]
    }
   ],
   "source": [
    "f = open(\"Question_1_solution.txt\" , \"r\")\n",
    "a = f.readline()\n",
    "print(a)"
   ]
  },
  {
   "cell_type": "markdown",
   "metadata": {},
   "source": [
    "# 3. Write a python program to append a text file and display the text "
   ]
  },
  {
   "cell_type": "code",
   "execution_count": 4,
   "metadata": {},
   "outputs": [],
   "source": [
    "text = \"\"\"1st:- Data Science\n",
    " 2nd:- Machine Learning\n",
    " 3rd:- Deep Learning\n",
    " 4th:- Natural Language Processing\"\"\"\n",
    "f = open(\"Question_1_solution.txt\" , \"a\")\n",
    "f.write(text)\n",
    "f.close()"
   ]
  },
  {
   "cell_type": "markdown",
   "metadata": {},
   "source": [
    "# 4. Write a python program to read the last n lines of a file"
   ]
  },
  {
   "cell_type": "code",
   "execution_count": 6,
   "metadata": {},
   "outputs": [
    {
     "name": "stdout",
     "output_type": "stream",
     "text": [
      "Data Science:\n",
      "    It is an Interdisciplinary field that uses Scientific methods, processes, algorithms and systems to extract knowledge\n",
      "    and insights from noisy, structured and unstructured data, and apply knowledge from data across a broad range of \n",
      "    application domains.1st:- Data Science\n",
      " 2nd:- Machine Learning\n",
      " 3rd:- Deep Learning\n",
      " 4th:- Natural Language Processing\n"
     ]
    }
   ],
   "source": [
    "f = open(\"Question_1_solution.txt\" , \"r\")\n",
    "text = f.read(-2)\n",
    "print(text)\n",
    "f.close()"
   ]
  },
  {
   "cell_type": "code",
   "execution_count": 9,
   "metadata": {},
   "outputs": [
    {
     "name": "stdout",
     "output_type": "stream",
     "text": [
      "[' 3rd:- Deep Learning\\n', ' 4th:- Natural Language Processing']\n"
     ]
    }
   ],
   "source": [
    "with open(\"Question_1_solution.txt\" , \"r\") as f:\n",
    "    lines = f.readlines()\n",
    "    last_line = lines[-2:]\n",
    "    print(last_line)"
   ]
  },
  {
   "cell_type": "markdown",
   "metadata": {},
   "source": [
    "# 5. Write a python program to read a file line by line and store it in a list"
   ]
  },
  {
   "cell_type": "code",
   "execution_count": 10,
   "metadata": {},
   "outputs": [
    {
     "name": "stdout",
     "output_type": "stream",
     "text": [
      "['Data Science:\\n', '    It is an Interdisciplinary field that uses Scientific methods, processes, algorithms and systems to extract knowledge\\n', '    and insights from noisy, structured and unstructured data, and apply knowledge from data across a broad range of \\n', '    application domains.1st:- Data Science\\n', ' 2nd:- Machine Learning\\n', ' 3rd:- Deep Learning\\n', ' 4th:- Natural Language Processing']\n"
     ]
    }
   ],
   "source": [
    "with open(\"Question_1_solution.txt\" , \"r\") as f:\n",
    "    text = f.readlines()\n",
    "    print(text)\n",
    "    f.close()"
   ]
  },
  {
   "cell_type": "markdown",
   "metadata": {},
   "source": [
    "# 6. Write a pyhton program to count the number of lines in a text file "
   ]
  },
  {
   "cell_type": "code",
   "execution_count": 11,
   "metadata": {},
   "outputs": [
    {
     "name": "stdout",
     "output_type": "stream",
     "text": [
      "Number of lines in text file are : 7\n"
     ]
    }
   ],
   "source": [
    "with open(\"Question_1_solution.txt\" , \"r\") as f:\n",
    "    text = f.readlines()\n",
    "    print(\"Number of lines in text file are :\",len(text))\n",
    "    f.close()"
   ]
  },
  {
   "cell_type": "markdown",
   "metadata": {},
   "source": [
    "# 7. Write a pyhton program to count the frequency of words in a file"
   ]
  },
  {
   "cell_type": "code",
   "execution_count": 15,
   "metadata": {},
   "outputs": [
    {
     "name": "stdout",
     "output_type": "stream",
     "text": [
      "Data Science:\n",
      "    It is an Interdisciplinary field that uses Scientific methods, processes, algorithms and systems to extract knowledge\n",
      "    and insights from noisy, structured and unstructured data, and apply knowledge from data across a broad range of \n",
      "    application domains.1st:- Data Science\n",
      " 2nd:- Machine Learning\n",
      " 3rd:- Deep Learning\n",
      " 4th:- Natural Language Processing\n",
      "Number of words in text file are : 376\n"
     ]
    }
   ],
   "source": [
    "with open(\"Question_1_solution.txt\" , \"r\") as f:\n",
    "    text = f.read()\n",
    "    print(text)\n",
    "    print(\"Number of words in text file are :\",len(text))\n",
    "    f.close()"
   ]
  },
  {
   "cell_type": "markdown",
   "metadata": {},
   "source": [
    "# 8. Write a python program to copy the contents of a file to another file "
   ]
  },
  {
   "cell_type": "code",
   "execution_count": 16,
   "metadata": {},
   "outputs": [
    {
     "name": "stdout",
     "output_type": "stream",
     "text": [
      "Original file contents: Data Science:\n",
      "    It is an Interdisciplinary field that uses Scientific methods, processes, algorithms and systems to extract knowledge\n",
      "    and insights from noisy, structured and unstructured data, and apply knowledge from data across a broad range of \n",
      "    application domains.1st:- Data Science\n",
      " 2nd:- Machine Learning\n",
      " 3rd:- Deep Learning\n",
      " 4th:- Natural Language Processing\n"
     ]
    },
    {
     "data": {
      "text/plain": [
       "'Question.txt'"
      ]
     },
     "execution_count": 16,
     "metadata": {},
     "output_type": "execute_result"
    }
   ],
   "source": [
    "import shutil\n",
    "with open(\"Question_1_solution.txt\" , \"r\") as f:\n",
    "    data = f.read()\n",
    "    print(\"Original file contents:\",data)\n",
    "\n",
    "shutil.copy(\"Question_1_solution.txt\" , \"Question.txt\")"
   ]
  },
  {
   "cell_type": "code",
   "execution_count": 17,
   "metadata": {},
   "outputs": [
    {
     "name": "stdout",
     "output_type": "stream",
     "text": [
      "Copied data : Data Science:\n",
      "    It is an Interdisciplinary field that uses Scientific methods, processes, algorithms and systems to extract knowledge\n",
      "    and insights from noisy, structured and unstructured data, and apply knowledge from data across a broad range of \n",
      "    application domains.1st:- Data Science\n",
      " 2nd:- Machine Learning\n",
      " 3rd:- Deep Learning\n",
      " 4th:- Natural Language Processing\n"
     ]
    }
   ],
   "source": [
    "with open(\"Question.txt\" , \"r\") as f:\n",
    "    copied_data = f.read()\n",
    "    print(\"Copied data :\",copied_data)"
   ]
  },
  {
   "cell_type": "markdown",
   "metadata": {},
   "source": [
    "# 9. Write a python script to display the various Date Time formats - Go to the editor \n",
    "* Current date and time\n",
    "* Current Year\n",
    "* Month of the Year \n",
    "* Week number of the Year \n",
    "* Weekday of the Week\n",
    "* Day of the Year\n",
    "* Day of the Month \n",
    "* Day of the Week"
   ]
  },
  {
   "cell_type": "code",
   "execution_count": 1,
   "metadata": {},
   "outputs": [
    {
     "name": "stdout",
     "output_type": "stream",
     "text": [
      "Current date and time: 2024-02-16 07:38:16.113735\n",
      "Current Year: 2024\n",
      "Month of the Year: February\n",
      "Week number of the Year: 06\n",
      "Weekday of the Week: Friday\n",
      "Day of the Year: 047\n",
      "Day of the Month: 16\n",
      "Day of the Week: Friday\n"
     ]
    }
   ],
   "source": [
    "from datetime import datetime\n",
    "\n",
    "# Current date and time\n",
    "current_datetime = datetime.now()\n",
    "print(\"Current date and time:\", current_datetime)\n",
    "\n",
    "# Current Year\n",
    "current_year = current_datetime.year\n",
    "print(\"Current Year:\", current_year)\n",
    "\n",
    "# Month of the Year\n",
    "month_of_year = current_datetime.strftime(\"%B\")\n",
    "print(\"Month of the Year:\", month_of_year)\n",
    "\n",
    "# Week number of the Year\n",
    "week_number = current_datetime.strftime(\"%U\")\n",
    "print(\"Week number of the Year:\", week_number)\n",
    "\n",
    "# Weekday of the Week\n",
    "weekday = current_datetime.strftime(\"%A\")\n",
    "print(\"Weekday of the Week:\", weekday)\n",
    "\n",
    "# Day of the Year\n",
    "day_of_year = current_datetime.strftime(\"%j\")\n",
    "print(\"Day of the Year:\", day_of_year)\n",
    "\n",
    "# Day of the Month\n",
    "day_of_month = current_datetime.strftime(\"%d\")\n",
    "print(\"Day of the Month:\", day_of_month)\n",
    "\n",
    "# Day of the Week\n",
    "day_of_week = current_datetime.strftime(\"%A\")\n",
    "print(\"Day of the Week:\", day_of_week)\n"
   ]
  },
  {
   "cell_type": "markdown",
   "metadata": {},
   "source": [
    "# 10. Write a python program to determine whether a given year is a leap year"
   ]
  },
  {
   "cell_type": "code",
   "execution_count": 2,
   "metadata": {},
   "outputs": [
    {
     "name": "stdout",
     "output_type": "stream",
     "text": [
      "2004 is a leap year.\n"
     ]
    }
   ],
   "source": [
    "year = int(input(\"Enter a year: \"))\n",
    "\n",
    "# Check if the entered year is a leap year\n",
    "if (year % 4 == 0 and year % 100 != 0) or (year % 400 == 0):\n",
    "    print(f\"{year} is a leap year.\")\n",
    "else:\n",
    "    print(f\"{year} is not a leap year.\")\n"
   ]
  },
  {
   "cell_type": "markdown",
   "metadata": {},
   "source": [
    "# 11. Write a python program to convert a string to datetime.Go to the editor\n",
    "* ○ Sample String : Jan 1 2014 2:43PM ○ Expected Output : 2014-07-01 14:43:00"
   ]
  },
  {
   "cell_type": "code",
   "execution_count": 21,
   "metadata": {},
   "outputs": [
    {
     "name": "stdout",
     "output_type": "stream",
     "text": [
      "2014-01-01 14:43:00\n"
     ]
    }
   ],
   "source": [
    "date_format = \"jan 1 2014 2:43PM\"\n",
    "date1 = \"%b %d %Y %I:%M%p\"\n",
    "new_date = datetime.datetime.strptime(date_format , date1)\n",
    "print(new_date)"
   ]
  },
  {
   "cell_type": "markdown",
   "metadata": {},
   "source": [
    "# 12. Write a python program to subtract five days from the current date"
   ]
  },
  {
   "cell_type": "code",
   "execution_count": 22,
   "metadata": {},
   "outputs": [
    {
     "name": "stdout",
     "output_type": "stream",
     "text": [
      "Subtracted five days from 2024-01-24 20:21:33.517491 is:2024-01-19 20:21:33.517491\n"
     ]
    }
   ],
   "source": [
    "current_datetime = datetime.datetime.today()\n",
    "new_date = current_datetime + datetime.timedelta(days=-5)\n",
    "print(f\"Subtracted five days from {current_datetime} is:{new_date}\")"
   ]
  },
  {
   "cell_type": "markdown",
   "metadata": {},
   "source": [
    "# 13. Write a python program to print Yesterday , Today and Tomorrow"
   ]
  },
  {
   "cell_type": "code",
   "execution_count": 23,
   "metadata": {},
   "outputs": [
    {
     "name": "stdout",
     "output_type": "stream",
     "text": [
      "Date of Yesterday: 2024-01-23 20:39:19.518984\n",
      "Date of Today: 2024-01-24 20:39:19.520143\n",
      "Date of Tomorrow: 2024-01-25 20:39:19.520143\n"
     ]
    }
   ],
   "source": [
    "new_date = datetime.datetime.today() + datetime.timedelta(days=-1)\n",
    "print(\"Date of Yesterday:\", new_date)\n",
    "new_date = datetime.datetime.today() + datetime.timedelta(days=0)\n",
    "print(\"Date of Today:\", new_date)\n",
    "new_date = datetime.datetime.today() + datetime.timedelta(days=+1)\n",
    "print(\"Date of Tomorrow:\", new_date)"
   ]
  },
  {
   "cell_type": "markdown",
   "metadata": {},
   "source": [
    "# 14. Write a python program to print next 5 days starting from today"
   ]
  },
  {
   "cell_type": "code",
   "execution_count": 24,
   "metadata": {},
   "outputs": [
    {
     "name": "stdout",
     "output_type": "stream",
     "text": [
      "2024-01-24 20:42:06.562829\n"
     ]
    }
   ],
   "source": [
    "current_datetime = datetime.datetime.today()\n",
    "print(current_datetime)"
   ]
  },
  {
   "cell_type": "code",
   "execution_count": 25,
   "metadata": {},
   "outputs": [
    {
     "name": "stdout",
     "output_type": "stream",
     "text": [
      "2024-01-24\n"
     ]
    }
   ],
   "source": [
    "current_datetime = datetime.datetime.now().date()\n",
    "print(current_datetime)"
   ]
  },
  {
   "cell_type": "code",
   "execution_count": 26,
   "metadata": {},
   "outputs": [
    {
     "name": "stdout",
     "output_type": "stream",
     "text": [
      "Next 5 days starting from today: 2024-01-24\n",
      "Next 5 days starting from today: 2024-01-25\n",
      "Next 5 days starting from today: 2024-01-26\n",
      "Next 5 days starting from today: 2024-01-27\n",
      "Next 5 days starting from today: 2024-01-28\n"
     ]
    }
   ],
   "source": [
    "for i in range(5):\n",
    "    new_date = current_datetime + datetime.timedelta(days=i)\n",
    "    print(\"Next 5 days starting from today:\", new_date)"
   ]
  },
  {
   "cell_type": "markdown",
   "metadata": {},
   "source": [
    "# 15. Write a python program to drop microseconds from datetime "
   ]
  },
  {
   "cell_type": "code",
   "execution_count": 28,
   "metadata": {},
   "outputs": [
    {
     "name": "stdout",
     "output_type": "stream",
     "text": [
      "Before time is : 2024-01-24 20:46:35.405935\n",
      "After time is : 2024-01-24 20:46:35\n"
     ]
    }
   ],
   "source": [
    "current_datetime = datetime.datetime.now()\n",
    "print(\"Before time is :\",current_datetime)\n",
    "new_time = current_datetime.replace(microsecond=0)\n",
    "print(\"After time is :\",new_time)"
   ]
  },
  {
   "cell_type": "markdown",
   "metadata": {},
   "source": [
    "# 16. Write a python program to find the date of the first monday of a given week"
   ]
  },
  {
   "cell_type": "code",
   "execution_count": 29,
   "metadata": {},
   "outputs": [
    {
     "name": "stdout",
     "output_type": "stream",
     "text": [
      "2024-08-12 00:00:00\n",
      "Mon 12 Aug 2024 32\n"
     ]
    }
   ],
   "source": [
    "random_day = datetime.datetime(2024 , 8 , 12)\n",
    "print(random_day)\n",
    "day = random_day.strftime(\"%a %d %b %Y %U\")\n",
    "print(day)"
   ]
  },
  {
   "cell_type": "markdown",
   "metadata": {},
   "source": [
    "# 18. Write a python program to create a file and write some text and rename the file name "
   ]
  },
  {
   "cell_type": "code",
   "execution_count": 30,
   "metadata": {},
   "outputs": [
    {
     "name": "stdout",
     "output_type": "stream",
     "text": [
      "He is a Gods own Soldier\n"
     ]
    }
   ],
   "source": [
    "import os \n",
    "with open(\"Abhishek.txt\", \"w\") as f:\n",
    "    f.write(\"He is a Gods own Soldier\")\n",
    "\n",
    "with open(\"Abhishek.txt\", \"r\") as f:\n",
    "    data = f.read()\n",
    "    print(data)\n",
    "    "
   ]
  },
  {
   "cell_type": "code",
   "execution_count": 31,
   "metadata": {},
   "outputs": [],
   "source": [
    "os.rename(\"Abhishek.txt\", \"Abhishek7741\")"
   ]
  },
  {
   "cell_type": "markdown",
   "metadata": {},
   "source": [
    "# 19. What are the different methods available in the OS module for creating a directory?"
   ]
  },
  {
   "cell_type": "code",
   "execution_count": 32,
   "metadata": {},
   "outputs": [
    {
     "data": {
      "text/plain": [
       "'d:\\\\abhi python\\\\Python hands on\\\\Python-Hands-ON'"
      ]
     },
     "execution_count": 32,
     "metadata": {},
     "output_type": "execute_result"
    }
   ],
   "source": [
    "os.getcwd()"
   ]
  },
  {
   "cell_type": "markdown",
   "metadata": {},
   "source": [
    "1. os.mkdir(folder path) >> We can create single folder in the directory\n"
   ]
  },
  {
   "cell_type": "code",
   "execution_count": 33,
   "metadata": {},
   "outputs": [],
   "source": [
    "os.mkdir(r'd:\\\\abhi python\\\\Python hands on\\\\Python-Hands-ON\\\\Abhi')"
   ]
  },
  {
   "cell_type": "markdown",
   "metadata": {},
   "source": [
    "2. os.makedirs() >> We can create multiple folder in one directory"
   ]
  },
  {
   "cell_type": "markdown",
   "metadata": {},
   "source": [
    "# 20. Explain os.listdir() method"
   ]
  },
  {
   "cell_type": "code",
   "execution_count": 34,
   "metadata": {},
   "outputs": [
    {
     "data": {
      "text/plain": [
       "['.git',\n",
       " 'Abhi',\n",
       " 'Abhishek7741',\n",
       " 'adaboost.ipynb',\n",
       " 'Adaboost_Ass.ipynb',\n",
       " 'Ann_implementation.ipynb',\n",
       " 'Assignment_1.ipynb',\n",
       " 'Assignment_2.ipynb',\n",
       " 'Assignment_3.ipynb',\n",
       " 'Assignment_4.ipynb',\n",
       " 'Assignment_6.ipynb',\n",
       " 'Assignment_7.ipynb',\n",
       " 'Assignment_DT.ipynb',\n",
       " 'Assignment_KNN.ipynb',\n",
       " 'autos_dataset.csv',\n",
       " 'Bangalore.ipynb',\n",
       " 'Bengaluru_House_Data.csv',\n",
       " 'Boston.csv',\n",
       " 'CNN.ipynb',\n",
       " 'CNN_proj_explanation.ipynb',\n",
       " 'CNN_rev.ipynb',\n",
       " 'Country_clusters.csv',\n",
       " 'dataset_es_train.csv',\n",
       " 'Decision tree HYP_Tuning.png',\n",
       " 'Decision Tree.png',\n",
       " 'DecisionTree.ipynb',\n",
       " 'Decision_Tree.png',\n",
       " 'Decision_Tree_HYP.png',\n",
       " 'Decision_Tree_REG_WithoutHYP.png',\n",
       " 'Decision_TRee_Working.ipynb',\n",
       " 'Deep_Learning.ipynb',\n",
       " 'Deep_Learning_rev.ipynb',\n",
       " 'DegreeofFreedom.png',\n",
       " 'diabetes.csv',\n",
       " 'Dim_red_tech.ipynb',\n",
       " 'DRT.REV.ipynb',\n",
       " 'DT_multiclass_clf.ipynb',\n",
       " 'DT_Multiclass_clf_withoutHYP.png',\n",
       " 'DT_Pruning.ipynb',\n",
       " 'DT_pruning_revision.ipynb',\n",
       " 'DT_regression.ipynb',\n",
       " 'Elbow_method.png',\n",
       " 'heart.csv',\n",
       " 'Imp_Interview_approach.ipynb',\n",
       " 'IMP_Questions.ipynb',\n",
       " 'Interview_questions.ipynb',\n",
       " 'Iris.csv',\n",
       " 'kmeans_clustering.ipynb',\n",
       " 'KNN_classification.ipynb',\n",
       " 'KNN_Clustering_Ass.ipynb',\n",
       " 'Knn_Imputer.ipynb',\n",
       " 'KNN_Regression.ipynb',\n",
       " 'KNN_revision.ipynb',\n",
       " 'Linear_reg_assignment.ipynb',\n",
       " 'Linear_reg_theory.ipynb',\n",
       " 'Logistic_reg_assignment.ipynb',\n",
       " 'Naive_Bayes.ipynb',\n",
       " 'Naive_Bayes_Ass.ipynb',\n",
       " 'neg',\n",
       " 'NLP.ipynb',\n",
       " 'NLP_mini_project',\n",
       " 'NLP_rev.ipynb',\n",
       " 'PCA.ipynb',\n",
       " 'PCA_rev.ipynb',\n",
       " 'pos',\n",
       " 'Python 1.ipynb',\n",
       " 'python 10.ipynb',\n",
       " 'python 11.ipynb',\n",
       " 'python 12.ipynb',\n",
       " 'python 2.ipynb',\n",
       " 'python 3.ipynb',\n",
       " 'python 4.ipynb',\n",
       " 'python 5.ipynb',\n",
       " 'python 6.ipynb',\n",
       " 'python 7.ipynb',\n",
       " 'python 8.ipynb',\n",
       " 'python 9.ipynb',\n",
       " 'Question.txt',\n",
       " 'Question_1_solution.txt',\n",
       " 'Random_forest_clf.ipynb',\n",
       " 'README.md',\n",
       " 'Sampling.ipynb',\n",
       " 'Scoring.png',\n",
       " 'Social_Network_Ads.csv',\n",
       " 'Support_vector_machine.ipynb',\n",
       " 'SVM_Assignment.ipynb',\n",
       " 'titanic.csv',\n",
       " 'Train.csv',\n",
       " 'weather.csv',\n",
       " 'weather1.csv',\n",
       " 'word2vec.model']"
      ]
     },
     "execution_count": 34,
     "metadata": {},
     "output_type": "execute_result"
    }
   ],
   "source": [
    "os.listdir()"
   ]
  },
  {
   "cell_type": "markdown",
   "metadata": {},
   "source": [
    "* os.listdir() >> It is used to check the folders present in the directory"
   ]
  },
  {
   "cell_type": "markdown",
   "metadata": {},
   "source": [
    "# 21. What are the different methods for removing directories and files in python"
   ]
  },
  {
   "cell_type": "markdown",
   "metadata": {},
   "source": [
    "* There are two types of methods are as follows:\n",
    "1. Delete empty directory : It removes directory only if empty.\n",
    "* os.rmdir(folder path)\n",
    "2. Delete Non empty directory : It removes files whether it is empty or not.\n",
    "* shutil.rmtree(folder path)"
   ]
  },
  {
   "cell_type": "markdown",
   "metadata": {},
   "source": [
    "# 22. What are exceptions in Python?"
   ]
  },
  {
   "cell_type": "code",
   "execution_count": 35,
   "metadata": {},
   "outputs": [
    {
     "name": "stdout",
     "output_type": "stream",
     "text": [
      "Hello\n"
     ]
    }
   ],
   "source": [
    "\"\"\"When an exceptional situation arises , an exception is raised indicating that something unexpected happened.\n",
    "These exceptions can be handled and managed by the program to provide appropriate responses and \n",
    "prevent the program from crashing.\"\"\"\n",
    "try:\n",
    "    print(\"Hello\")\n",
    "except:\n",
    "    print(\"I am here\")"
   ]
  },
  {
   "cell_type": "markdown",
   "metadata": {},
   "source": [
    "# 23. What are built-in exceptions"
   ]
  },
  {
   "cell_type": "markdown",
   "metadata": {},
   "source": [
    "1. Nameerror : When a local name or global name is not found.\n",
    "2. ZeroDivisionError : When division by zero occurs.\n",
    "3. TypeError : When there is a data type error\n",
    "4. Syntax error : When syntax is wrong \n",
    "5. value error : inappropriate values\n",
    "6. index error : when index is out of range\n",
    "7. KeyError : It raises when key is not found\n",
    "8. FileNotFoundError: When file is not found"
   ]
  },
  {
   "cell_type": "markdown",
   "metadata": {},
   "source": [
    "# 24. What are User defined exceptions?"
   ]
  },
  {
   "cell_type": "markdown",
   "metadata": {},
   "source": [
    "* Using User defined exceptions can make your code more expressive and handle specific error conditions in a clean and organized way."
   ]
  },
  {
   "cell_type": "markdown",
   "metadata": {},
   "source": [
    "# 25. When you would not use try-except?"
   ]
  },
  {
   "cell_type": "markdown",
   "metadata": {},
   "source": [
    "1. Overusing it \n",
    "2. Uninentional suppression\n",
    "3. Performance concerns\n",
    "4. Resouce cleanup\n",
    "5. Unexpected flow \n",
    "6. Known errors\n"
   ]
  },
  {
   "cell_type": "markdown",
   "metadata": {},
   "source": [
    "# 26. Can try except catch the error if a file cant be opened?"
   ]
  },
  {
   "cell_type": "markdown",
   "metadata": {},
   "source": [
    "* Yes , if file is not opening by any reason in try block then error will get occured and except block will be executed from which we can get the error details by using traceback library method --traceback.print.exc()"
   ]
  },
  {
   "cell_type": "code",
   "execution_count": null,
   "metadata": {},
   "outputs": [],
   "source": []
  }
 ],
 "metadata": {
  "kernelspec": {
   "display_name": "Python 3",
   "language": "python",
   "name": "python3"
  },
  "language_info": {
   "codemirror_mode": {
    "name": "ipython",
    "version": 3
   },
   "file_extension": ".py",
   "mimetype": "text/x-python",
   "name": "python",
   "nbconvert_exporter": "python",
   "pygments_lexer": "ipython3",
   "version": "3.11.3"
  }
 },
 "nbformat": 4,
 "nbformat_minor": 2
}
