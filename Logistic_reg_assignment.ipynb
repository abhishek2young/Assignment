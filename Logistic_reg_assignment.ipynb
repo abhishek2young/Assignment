{
 "cells": [
  {
   "cell_type": "markdown",
   "metadata": {},
   "source": [
    "# 1. What is Data Science? List the differences between supervised and unsupervised Learning."
   ]
  },
  {
   "cell_type": "markdown",
   "metadata": {},
   "source": [
    "> What is Data Science?\n",
    "* use datasets to get insights can be used to guide decision making and strategic planning \n",
    "\n",
    "> Difference beteween Supervised and Unsupervised learning?\n",
    "* Supervised learning \n",
    "1. Trains data using labelled data \n",
    "2. Takes direct feedback to check predictions\n",
    "3. predicts the output\n",
    "4. Input and output data is provided\n",
    "5. Needs supervision to train the model\n",
    "6. Classification and regression problems \n",
    "7. Used where we know the input data and the output data\n",
    "8. Linear regression and Logistic regression \n",
    "9. More accurate \n",
    "\n",
    "* Unsupervised learning \n",
    "1. Trains data using Unlabeled data \n",
    "2. Doenot take feedback to check predictions\n",
    "3. Finds the hidden patterns in the data\n",
    "4. Input data is provided\n",
    "5. Doesnot need any supervision to train the model\n",
    "6. Clustering and association problems \n",
    "7. Only input data and no corresponding output data\n",
    "8. Less accurate\n",
    "9. KNN Clustering , Support Vector machine\n",
    "\n",
    "> What is Unlabelled data?\n",
    "* Any data that doesnot have any labels specifying its characteristics,identity,classification or properties can be considered as Unlabelled data .For example photos, videos,text that doesnot have any category or classification assigned to it can be referred as Unlabelled data.\n",
    "\n",
    "> WHat is Labeled data ?the \n",
    "* Any data which has characteristics,identity,classification or properties can be considered as Labeled data.\n",
    "* For example a photo of a Cat , the height of a Human,price of a product \n",
    "\n",
    "* Data Science combines math and statistics, specialized programming ,advance analytics,artificial intelligence and machine learning to uncover actionable insights hidden in a organizations data .These insights can be used to guide decision-making and strategic planning\n",
    "\n",
    "> Supervised Learning \n",
    "1. Supervised Learning algorithms are trained using labeled data.\n",
    "2. Supervised learning model takes direct feedback to check if it is predicting correctly or not.\n",
    "3. Supervised learning predicts the output \n",
    "4. In Supervised Learning algorithms input data is provided along with output.\n",
    "5. The goal of the Supervised learning is to train the model so that it can predict the output for new data.\n",
    "6. Supervised learning needs supervision to train the model\n",
    "7. Supervised learning can be categorized in Classification and regression problems.\n",
    "8. Supervised learning model produces more accurate predictions.\n",
    "9. Supervised learning is not close to artificial intelligence as in this method we first train the model for each data and then only it can predict the correct output.\n",
    "10. It includes various algorithms such as Linear Regression,Logistic Regression,Support Vector Machine,Multi class Classification,Decision Tree ,Bayesian Logic etc\n",
    "\n",
    "> Unsupervised learning \n",
    "1. Unsupervised learning model find the hidden patterns in the data.\n",
    "2. In Unsupervised learning only input data is provided to the model\n",
    "3. Unsupervised learning is used to find hidden patterns and useful insights from the unknown data set\n",
    "4. Uspervised learning doesnot need supervision to train the model\n",
    "5. Unsupervised learning can be classified in clustering and association problems\n",
    "6. Unsupervised learning can be used in cases where we have only independent variables and no dependent variable.\n",
    "7. Unsupervised learning may give less accurate result as compared to Supervised learning.\n",
    "8. Unsupervised learning is more close to the artificial intelligence.\n",
    "9. It includes various algorithms such as clustering,KNN and Apriori algorithm.\n",
    "\n",
    "* Supervised learning is a machine learning algorithm used to train a model using labeled data .In Supervised learning\n",
    "models need to find the mapping function to map the input variable (X) with the output variable (Y).\n",
    "* Supervised learning needs supervision while training the model.\n",
    "* Supervised learning can be used for two types Classification and regression.\n",
    "\n",
    "* Example >> Suppose we have an image of different types of fruits. The task of our supervised learning model is to identify the type of fruit and classify them accordingly.So to identify the type of fruit we need to supervised learning our model we will provide input data such as shape,size,color and taste of each fruit to train the model.Tye model will then give output for the unknown data.\n",
    "* unsupervised learning is a machine learning algorithm in which model find out the hidden patterns from the input unlabeled data. The goal of the unsupervised learning algorithm is to find the hidden patterns and structure of the input data..Unsupervised learning doenot need supervision while training the model.Instead it find out patterns on its own.\n",
    "\n",
    "* Unsupervised learning can be used for two types of problems >> Clustering and association\n",
    "* Example >> In Unsupervised learning we will only handle with independent variables and we donot have dependent variables.We donot need to provide supervision for training the model .With the help of suitable algorithms,the model will train itself.\n",
    "\n",
    "> Difference between Supervised and Unsupervised\n",
    "1. Supervised learning algorithm trains model on labeled data while Unsupervised learning trains model on unlabeled data.\n",
    "2. Supervised learning algorithm takes direct feedback to check if it is predicting correctly or not,Unsupervised learning algorithm doenot take any feedback.\n",
    "3. Supervised learning algorithm model predicts the output while Unsupervised learning algorithm finds the hidden patterns in the data.\n",
    "4. In Supervised learning algorithm independent variables as well as dependent variable is provided to the model while in unsupervised algorithm uses only independent variable is provided to the model.\n",
    "5. The goal of Supervised learning algorithm is to predict from the new data while unsupervised learning algorithm finds out hidden patterns and useful insights from the unknown dataset.\n",
    "6. Supervised learning algorithm needs superision while training the model while in unsupervised learning algorithm we donot need any supervision while training the model.\n",
    "7. Supervised learning algorithm can be categorized in classification and regression problems while in unsupervised learning algorithm can be categorized in clustering and association problems.\n",
    "8. Supervised learning algorithm used where we know inputs and outputs while in unsupervised learning algorithm we only have input data and no corresponding output data.\n",
    "\n",
    "\n"
   ]
  },
  {
   "cell_type": "markdown",
   "metadata": {},
   "source": [
    "# what is Unlabelled data ?"
   ]
  },
  {
   "cell_type": "markdown",
   "metadata": {},
   "source": [
    "* Any data that doesnot have labels specifying its characteristics,identity,classification or properties can be consirded as Unlabelled data.For example photos and videos or text that doenot have any category or classification assigned to it can be referred to as Unlabelled data.\n"
   ]
  },
  {
   "cell_type": "markdown",
   "metadata": {},
   "source": [
    "# What is Labeled data?"
   ]
  },
  {
   "cell_type": "markdown",
   "metadata": {},
   "source": [
    "* Any data which has charcteristics,category or attributes assigned to it can be referred to as labelled data.For Example a photo of cat,height of Human,price of product is some examples of Labelled data.\n",
    " "
   ]
  },
  {
   "cell_type": "markdown",
   "metadata": {},
   "source": [
    "> Extra \n",
    "* Data science combines maths and statistics ,specialized programming,advance analytics,artificial intelligence and machine learning with specific subject matter expertise to uncover actionable insights hidden in an organizations data.These insights can be used to guide decision making and strategic planning.\n"
   ]
  },
  {
   "cell_type": "markdown",
   "metadata": {},
   "source": [
    "> Difference between the Supervised learning and Unsupervised learning \n",
    "\n",
    "1. Supervised learning algorithm are trained using labelled data and Unsupervised learning algorithm are trained using Unlabeled data.\n",
    "2. Supervised learning algorithm takes direct feedback to check if it is predicting correct output or not and in Unsupervised learning algorithm model doesnot take any feedback.\n",
    "3. Supervised learning algorithm predicts the output and in Unsupervised learning algorithm model finds the hidden patterns in the data.\n",
    "4. In supervised learning algorithm input data is preovided to the model along with output while in Unsupervised learning algorithm only input data is provided to the model.\n",
    "5. The Goal of the Supervised Learning algorithm is to train the model so that it can predict the output when new data is given to it while in Unsupervised learning algorithm the goal is to find the hidden patterns in the data and meaningful insights from the unknown dataset.\n",
    "6. Supervised learning algorithm needs supervisor to trian the model while in Unsupervised learning algorithm no supervisor is needed while training the model.\n",
    "7. Supervised learning algorithm can be classified in classification and regression problems while in Unsupervised learning algorithm it can be classified in Clustering and association problems.\n",
    "8. Supervised learning algorithm can be used in cases where we have input data as well as output data while in Unsupervised learning algorithm we use it where only input data is provided and no corresponding output data is given.\n",
    "9. Supervised learning algorithm gives accurate result while in Unsupervisded learning algorithm gives less accurate result as comapared to Supervised learning algorithm.\n",
    "10. Supervised learning algorithm is not close to AI as in this we first train the model for each data and then only it will predict the correct output while in Unsupervised learning algorithm we are close to AI for example as child learns daily routine thing by his experiences.\n",
    "11. Supervised learning algorithm uses linear regression,logistic regression,Support vector machine,Multi class classification,KNN,Decision Tree,Bayesian Logic and Unsupervised learning algorithm includes KNN Clustering,Aprori algorithm.\n",
    "\n",
    "* Supervised learning algorithm is a machine learning method in which models are trained using labelled data.In SUpervised learning algorithm models needs to find the mapping function to map the input vraiable(X) with the output vraiable(Y).\n",
    "\n",
    "Y = f(X)\n",
    "\n",
    "* Supervised learning algorithm needs supervision to train the model which is similar to as a student learn things in the presence of teacher.Supervised learning can be used for 2 types of problems classification and regression.\n",
    "\n",
    "> Example \n",
    "* Suppose we have an image of different types of fruits.The task of our Supervised learning model is to identify the fruits and classify them accosdingly.So to identify the image in Supervised learning we will give the input data as well as the output data which means that we will train the model by the shape,size,color and taste of each fruit.Once the training is completed we will test the model by giving the new set of fruit.Model will identify the fruit an predict the output using a suitable algorithm.\n",
    "\n",
    "> Unsupervised learning algorithm \n",
    "* The goal of the unsupervised learning algorithm is to find the structure and patterns from the input data.Unsupervised learning doesnot need any supervision.Instead it finds the patterns from the data by its own.\n",
    "* Unsupervised learning algorithm can be used for two types clustering and association.\n",
    ">Example \n",
    "* To understand the Unsupervised learning algorithm we will use the example given above .So unlike Supervised learning algorithm we will not provide any supervision to the model.We will just provide the input data to the model and the model will find the hidden patterns and meaningful insights from the data.with the help of suitable algorithm the model will ttrtain itself and divide the fruits into different groups according to the most similar features between them.\n"
   ]
  },
  {
   "cell_type": "markdown",
   "metadata": {},
   "source": [
    "# 2. What is logistic regression?\n"
   ]
  },
  {
   "cell_type": "markdown",
   "metadata": {},
   "source": [
    "* It is Supervised machine learning Classification algorithm,which is used to predict the categorical dependent varaiable with the help of independent variables.The output of logistic regression can only between 0 and 1.\n",
    "> In Target variable >> Categorical types data classification\n",
    " "
   ]
  },
  {
   "cell_type": "markdown",
   "metadata": {},
   "source": [
    "# 3. How will you deal with the multiclass classification problem using logistic regression?\n"
   ]
  },
  {
   "cell_type": "markdown",
   "metadata": {},
   "source": [
    "* Muliclass Logistics Regression - OVR \n",
    "* One vs rest (OVR or One vs all or OVA) is a heuristic method for using Binary classification algorithms for Multi class classification.One approach for using Binary classification algorithms for Multi class classification problems is to split the Multiclass classification dataset into multiple binary classification datasets and fit a binary classification model on each and predict the outcome for new observation,the algorithm evaluates each of the four models and select the category with the highest predicted probability.\n",
    "> Advantages \n",
    "* It doesnot take into account of the corelation between Categories.\n",
    "\n",
    "> Disadvantages\n",
    "* It may struggle with imbalanced datasets where some categories have many more observations than others.\n",
    "\n",
    "* Spliting Multiclass into binary classification datasets and apply a binary classification model on each and predict the outcome for new observation,selects the category with highest predicted probability.\n",
    "\n",
    "> Extra \n",
    "* It involves splitting the Multiclass dataset into binary classification problems.\n",
    "* Algorithms such as Perceptron ,Logistic Regression,SVM were designed for binary classification problems.They donot natively support classification tasks with more than two classes.\n",
    "* One approach for using a binary classification algorithms for Multiclass classification problems is to split the Multiclass dataset into Multiple binary classification dataset and fit a binary classification model on each and predict the output for new observation the algorithm evaluates each of the four models and select the category with the highest predicted probability.\n",
    "* Two different examples of this approach are the One vs Rest  and One vs One strategies.\n",
    "* The One vs Rest strategy splits a Multi class classification into one binary classification problem per class \n",
    "* The one vs one strategy splits a muli class classification into one binary classification problem per each pair of classes.\n",
    "* In the OVR method the algorithm creates a binary logistic regression model for each category where the goal is to distinguish that category from all others \n",
    "* For example in a classification problem with four categories (A,B,C,D) the algorithm would create four binary logistic regression models.\n",
    "* Model 1 : Distinguishing A from (B,C,D)\n",
    "* Model 2 : Distinguishing B from (A,C,D)\n",
    "* Model 3 : Distinguishing C from (A,B,D)\n",
    "* Model 4 : Distinguishing D from (A,B,C)\n"
   ]
  },
  {
   "cell_type": "markdown",
   "metadata": {},
   "source": [
    "# 4. Why is logistic regression very popular/widely used?"
   ]
  },
  {
   "cell_type": "markdown",
   "metadata": {},
   "source": [
    "* Because it converts the logits (logodds) having range from -inf to +inf to a range between 0 and 1 which is useful for real life scenarios\n",
    "* Logistic regression is famous because it can convert the values of logits(logodds) having range from -inf to +inf to a range between 0 and 1.As logistic functions output the probability of occurence of an event,it can be applied to many real life scenarios.It is for that reason that the logistic regression model is very popular.\n"
   ]
  },
  {
   "cell_type": "markdown",
   "metadata": {},
   "source": [
    "# 5. Why can’t linear regression be used instead of logistic regression for classification?"
   ]
  },
  {
   "cell_type": "markdown",
   "metadata": {},
   "source": [
    "1. The main reason for that is the predicted values are continous in linear and probablistic in logistics so range in prediction in linear regression is +infinite to -infinite and in Classification prediction in value in range between 0 to 1.\n",
    "2. Outliers - very sensitive (It predicted wrong BFL)\n",
    "3. Linearity and normal assumptions get violated if classification data in use.\n",
    "4. If we use linear regression for categorical data then it is very senistive to imbalanced data.\n"
   ]
  },
  {
   "cell_type": "markdown",
   "metadata": {},
   "source": [
    "# 6. What is the formula for the logistic regression function?\n"
   ]
  },
  {
   "cell_type": "markdown",
   "metadata": {},
   "source": [
    "> Sigmoid function = P(Y) = 1 / (1 + e^(-mX + C ))\n",
    "\n",
    "* Sigmoid function is a mathematical function used to predict the probablistic value (0 to 1)\n",
    "* It maps any real value into within range of 0 and 1.\n",
    "* The value of the logistic regression must be between 0 and 1 which cannot go beyond this limit,so it forms a curve like the \"S\" form.\n",
    "* The S form curve is called as the Sigmoid function or Logistic function.\n",
    "* In Logistic regression we use the concept of threshold value which defines the probability of either 0 or 1.Such as values above the threshold values tends to 1 , and a value below the threshold values tend to 0.\n",
    "* Equation for Sigmoid function\n",
    "> Y = mX + C \n",
    "> Sigmoid function = P(Y) = 1 / (1 + e^(-mX + C ))\n",
    "* We use linear regression equation for logistic regression which means that at background of Logistic,Linear regression works so thats the reason being in to the category of Classification problems Logistic is called as Logistic regression.\n",
    "* This sigmoid function takes real values as input an then it is converted into 0 or 1 .\n",
    "* This sigmoid function is inverse of log-it function \n",
    " "
   ]
  },
  {
   "cell_type": "markdown",
   "metadata": {},
   "source": [
    "# 7. What are the assumptions of logistic regression?"
   ]
  },
  {
   "cell_type": "markdown",
   "metadata": {},
   "source": [
    "1. No multi collinearity >> Independent variables should not have Multi collinearity.\n",
    "2. Linearity >> Linear relationship between independent variables and log of odds from dependent variable.\n",
    "3. Required large size >> logistics regression work best on large number of independent variables.Logistics regression work best on more than 20 columns.\n",
    "4. Indepndent >> Observation in the dataset should be independent to each other.Means values of dependent variable for one point/observation doesnot affect the value of depndent vraible for another observation.\n",
    "5. categorical values >> The Target variable must be categorical in nature.\n",
    "6. No outliers >> Availablity of outliers affects on prediction.\n"
   ]
  },
  {
   "cell_type": "markdown",
   "metadata": {},
   "source": [
    "# 8. Why is logistic regression called regression and not classification?\n"
   ]
  },
  {
   "cell_type": "markdown",
   "metadata": {},
   "source": [
    "* It uses the same basic formula of Linear regression.\n",
    "*  Logistic regression uses the same basic formula as linear regression but it is regressing for the probablity of a categorical outcome.\n",
    "> Linear regression \n",
    "* Y = m1X1 + m2X2 + m3X3 + mnXn + C\n",
    "> Logistic regression\n",
    "* Y = Sigmoid(m1X1 + m2X2 + m3X3 + mnXn + C)\n",
    "\n",
    "* Logistic regression is a generalized linear model and it uses the same basic formula of Linear regression.So basically Logistic regression is just a Sigmoid of Linear regression.\n",
    "* Same as Linear regression logistic regression also uses the same linear equation of all the independent variables to predict target variable and also the coefficients of the independent variable in the same way.\n",
    "* Since Logistic regression is used for Classification problems it converts the equation into a Sigmoidal function to get probablities and use a suitable threshold ( like 0.5 or mean of probabilities) to classify the record. So thats why we call Logistic regression is called as regression instead of classification.\n"
   ]
  },
  {
   "cell_type": "markdown",
   "metadata": {},
   "source": [
    "# 9. Explain the general intuition behind logistic regression?"
   ]
  },
  {
   "cell_type": "markdown",
   "metadata": {},
   "source": [
    "* Logistic regression is used for Classification problems it converts the equation into a sigmoidal function to get  probabilities and uses a suitable threshold to classify the record.\n",
    "* In this article i will try to explain the intuition behind the Logistic regression algorithm step by step.In order to make it more robust and thorough we will start from the basics of probablity.\n",
    "* Probablity measures how likely an event is to occur.It is calculated as the number of desired outcomes divided by the number of all Outcomes and always takes a value between 0 and 1.\n",
    "* For example when you roll a die the probability of getting a even number is 0.5.The number of desired outcomes is 3(2,4,6) and the number of total outcomes is 6.\n",
    "* Consider we use a Logistic regression algorithm to do email spam detection. Logistic regression doesnot directly tell us if an email is spam.Instead it returns the probability of an email being spam.If this probability value is more than 0.5 ,we can classify that email as spam.otherwise the email is detected as not spam.\n"
   ]
  },
  {
   "cell_type": "markdown",
   "metadata": {},
   "source": [
    "# 10. Explain the significance of the sigmoid function?\n"
   ]
  },
  {
   "cell_type": "markdown",
   "metadata": {},
   "source": [
    "* Maps any real valued number to a value between 0 and 1.\n",
    "* The Sigmoid function smoothly maps any real valued number to a value between 0 and 1.This is crucial in logistic regression because it converts the linear combination of features and coefficients into a probability score,which is interpreted as the likelihood of the positive class.\n"
   ]
  },
  {
   "cell_type": "markdown",
   "metadata": {},
   "source": [
    "# 11. How does Gradient Descent work in Logistic Regression?\n"
   ]
  },
  {
   "cell_type": "markdown",
   "metadata": {},
   "source": [
    "1. Initialize the weight vector w to random values.\n",
    "2. Calculate the predicted values using the sigmoid function.\n",
    "3. Calculate the cost function using the predicted and actual values.\n",
    "4. Claculate the partial derivative of the cost function with repect to the weight vector.\n",
    "5. Update the weight vector using the update rule.\n",
    "6. Repeat 2-5 steps until the cost function is minimized.\n",
    "\n",
    "* Gradient descent is an optimizer (Optimization algorithm) used in Logistic Regression.\n",
    "* It is used to minimize the cost function by finding the optimal set of parameters.\n",
    "* In logistic regression we use the sigmoid function to predict the probability of an event and the cost function measures the difference between predicted values and actual values.\n",
    "* In Logistic Regression \"LogLoss\" or \"Cross-Entropy Loss\" is the cost function and by using Gradient Descent optimizer we minimize the cost function.\n",
    "> LogLoss  =  -1 / N sumation[Yi * log(Pi) + (1 - Yi) * log(1 - Pi)]\n",
    "\n",
    "* Steps involved in gradient descent algorithm in logistic regression are \n",
    "1. Intialize the weight vector w to random values.\n",
    "2. Calculate the predicted values using sigmoid function.\n",
    "3. Calculate the cost function using the predicted values and actual values.\n",
    "4. Calculate the partial derivative of the cost function with repect to the weight vector.\n",
    "5. Update the weight vector using the update rule.\n",
    "6. Repeat steps 2-5 until the cost function is minimized.\n",
    "\n",
    "* It is important to choose an appropriate learning rate \n",
    "* A large learning rate can cause the algorithm to Overshoot  and a small learning rate can result in a slow convergence and high computation time.\n"
   ]
  },
  {
   "cell_type": "markdown",
   "metadata": {},
   "source": [
    "# 12. What are outliers and how can the sigmoid function mitigate the problem of outliers in logistic regression?\n"
   ]
  },
  {
   "cell_type": "markdown",
   "metadata": {},
   "source": [
    "* Sigmoid function makes between 0 and 1 \n",
    "* Outliers are extreme data points that can affect the models performance.The Sigmoid function helps mitigate the impact of outliers by squashing large positive or negative values into (0 to 1) range making logistic regression less sensitive to extreme values.\n",
    "* The estimates of the Logistic regression are sensitive to unusual observations such as outliers,high leverage and influential observations.Therefore to solve the problem of outliers a sigmoid function is used in Logictic regression.\n",
    " "
   ]
  },
  {
   "cell_type": "markdown",
   "metadata": {},
   "source": [
    "# 13. What are the outputs of the logistic model and the logistic function?\n"
   ]
  },
  {
   "cell_type": "markdown",
   "metadata": {},
   "source": [
    "* In summary the logistic model produces odd values,while the logistic function(Sigmoid function) is used to convert these log-odds into probabilities making it easier to interpret and use the models output for binary classification tasks.\n",
    "* The Logistic model output the logits i.e log-odds whereas the logidtic function outputs the probabilities.\n",
    "> log it function = log(P / (1 - P))\n",
    "> odds = Probability of the event / 1 - Probability of the event\n"
   ]
  },
  {
   "cell_type": "markdown",
   "metadata": {},
   "source": [
    "# 14. Why can’t we use Mean Square Error (MSE) as a cost function for logistic regression?\n"
   ]
  },
  {
   "cell_type": "markdown",
   "metadata": {},
   "source": [
    "> Case 1 \n",
    "* In Logistic regression Y is the non linear function(Y = 1 / 1 + e^-y), if we put this in the above MSE equation it will give a non convex function.In Logistic regression we use the sigmoid function and perform a non linear transformation to obtain the probabilities.Squaring this non linear transformation will lead to form non convexity curve having multiple local minimums.And in this condition finding the global minima in such cases using gradient descent is not possible.Due to this reason MSE is not suitable for logistic regression.Cross entropy or Log loss is used as cost function for logistic regression.\n",
    "\n",
    "> Case 2 \n",
    "* If Ya = 1 and Yp = 0 (It is wrong prediction because if Ya is 1 then Yp should be also 1) at that case MSE =1 (It is good prediction) Log-loss = -infinity (infinite) means log loss is somuch greater than MSE in log loss function so much error i.e our prediction is wrong so thats why we do not use MSE because we give wrong prediction but MSE give good prediction. i.e Log loss is strongly penalize the miss classification.\n",
    "\n",
    "> case 3 \n",
    "* It is not guaranteed to minimize the cost function.This is because MSE function excepts real-valued inputs in the \n",
    "range (-infinity , infinitity) while binary classification models output probabilities in the range (0 to 1) through the sigmoid logistic function\n",
    "\n",
    "> Second explaination \n",
    "* In Logistic regression we use the sigmoid function to perform non linear transformation to obtain the probabilities.If we sqaure this non linear transformation then it will lead to the problem of non convexity with local minimums and by using gradient descent in such case , it is not possible to find the global minimum.As a result MSE is not suitable for logistic regression.\n",
    "* So in the Logistic regression algorithm  we use cross entropy or log loss as a cost function.The property of the cost function for the logistic regression is that \n",
    "* The confident wrong predictions are penalized heavily \n",
    "* The confident right predictions are rewarded less \n",
    "* By optimizing the cost function convergence is achieved.\n",
    "\n"
   ]
  },
  {
   "cell_type": "markdown",
   "metadata": {},
   "source": [
    "# 15. What is the Confusion Matrix?"
   ]
  },
  {
   "cell_type": "markdown",
   "metadata": {},
   "source": [
    "* Confusion matrix is the visual representation of actual vs predicted values.Confusion matrix is used for evaluating performance of classification model.It compares actual target values with predicted values by machine learning algorithm. \n",
    "* It gives how well our classification model is performing and what kind of error it is making. \n",
    "* It can be used to evaluate the performance of a classification model through the calculation of performance metrics.\n",
    "* Like precision ,accuracy ,recall and F1 score\n",
    "* A Good model is one which has high TP and TN rates while low FP and FN rates.\n",
    "* we can measure model accuracy by two methods \n",
    "* Accuracy simply means the number of values correctly predicted.\n",
    "1. Confusion Matrix \n",
    "2. Classification measure \n",
    "* A Confusion matrix also known as error matrix.\n"
   ]
  },
  {
   "cell_type": "markdown",
   "metadata": {},
   "source": [
    "# 16. How do you define a classification report?"
   ]
  },
  {
   "cell_type": "markdown",
   "metadata": {},
   "source": [
    "* A classification report is a tool used to evaluate the performance of the model in classfying different categories.\n",
    "* It provides information on the precision ,recall "
   ]
  }
 ],
 "metadata": {
  "kernelspec": {
   "display_name": "Python 3",
   "language": "python",
   "name": "python3"
  },
  "language_info": {
   "codemirror_mode": {
    "name": "ipython",
    "version": 3
   },
   "file_extension": ".py",
   "mimetype": "text/x-python",
   "name": "python",
   "nbconvert_exporter": "python",
   "pygments_lexer": "ipython3",
   "version": "3.11.3"
  }
 },
 "nbformat": 4,
 "nbformat_minor": 2
}
