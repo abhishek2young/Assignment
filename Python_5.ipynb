{
 "cells": [
  {
   "cell_type": "code",
   "execution_count": 1,
   "metadata": {},
   "outputs": [
    {
     "name": "stdout",
     "output_type": "stream",
     "text": [
      "Data Science:\n",
      "    It is an Interdisciplinary field that uses Scientific methods, processes, algorithms and systems to extract knowledge\n",
      "    and insights from noisy, structured and unstructured data, and apply knowledge from data across a broad range of \n",
      "    application domains.1st:- Data Science\n",
      " 2nd:- Machine Learning\n",
      " 3rd:- Deep Learning\n",
      " 4th:- Natural Language Processing1st:- Data Science\n",
      " 2nd:- Machine Learning\n",
      " 3rd:- Deep Learning\n",
      " 4th:- Natural Language Processing1st:- Data Science\n",
      " 2nd:- Machine Learning\n",
      " 3rd:- Deep Learning\n",
      " 4th:- Natural Language Processing1st:- Data Science\n",
      " 2nd:- Machine Learning\n",
      " 3rd:- Deep Learning\n",
      " 4th:- Natural Language Processing1st:- Data Science\n",
      " 2nd:- Machine Learning\n",
      " 3rd:- Deep Learning\n",
      " 4th:- Natural Language Processing\n"
     ]
    }
   ],
   "source": [
    "with open(\"deadshot.txt\",\"r\")as f:\n",
    "    result = f.read()\n",
    "    print(result)"
   ]
  },
  {
   "cell_type": "code",
   "execution_count": 2,
   "metadata": {},
   "outputs": [
    {
     "name": "stdout",
     "output_type": "stream",
     "text": [
      "Data Science:\n",
      "\n"
     ]
    }
   ],
   "source": [
    "with open(\"deadshot.txt\",\"r\")as f:\n",
    "    result = f.readline()\n",
    "    print(result)"
   ]
  },
  {
   "cell_type": "code",
   "execution_count": 4,
   "metadata": {},
   "outputs": [],
   "source": [
    "text = \"\"\"1st:- Data Science\n",
    " 2nd:- Machine Learning\n",
    " 3rd:- Deep Learning\n",
    " 4th:- Natural Language Processing\"\"\"\n",
    "with open(\"deadshot.txt\",\"a\")as f:\n",
    "    f.write(text)\n",
    "    f.close()"
   ]
  },
  {
   "cell_type": "code",
   "execution_count": 5,
   "metadata": {},
   "outputs": [
    {
     "name": "stdout",
     "output_type": "stream",
     "text": [
      "[' 3rd:- Deep Learning\\n', ' 4th:- Natural Language Processing']\n"
     ]
    }
   ],
   "source": [
    "with open(\"deadshot.txt\",\"r\")as f:\n",
    "    result = f.readlines()\n",
    "    final = result[-2:]\n",
    "    print(final)"
   ]
  },
  {
   "cell_type": "code",
   "execution_count": 6,
   "metadata": {},
   "outputs": [
    {
     "name": "stdout",
     "output_type": "stream",
     "text": [
      "['Data Science:\\n', '    It is an Interdisciplinary field that uses Scientific methods, processes, algorithms and systems to extract knowledge\\n', '    and insights from noisy, structured and unstructured data, and apply knowledge from data across a broad range of \\n', '    application domains.1st:- Data Science\\n', ' 2nd:- Machine Learning\\n', ' 3rd:- Deep Learning\\n', ' 4th:- Natural Language Processing1st:- Data Science\\n', ' 2nd:- Machine Learning\\n', ' 3rd:- Deep Learning\\n', ' 4th:- Natural Language Processing1st:- Data Science\\n', ' 2nd:- Machine Learning\\n', ' 3rd:- Deep Learning\\n', ' 4th:- Natural Language Processing1st:- Data Science\\n', ' 2nd:- Machine Learning\\n', ' 3rd:- Deep Learning\\n', ' 4th:- Natural Language Processing1st:- Data Science\\n', ' 2nd:- Machine Learning\\n', ' 3rd:- Deep Learning\\n', ' 4th:- Natural Language Processing1st:- Data Science\\n', ' 2nd:- Machine Learning\\n', ' 3rd:- Deep Learning\\n', ' 4th:- Natural Language Processing1st:- Data Science\\n', ' 2nd:- Machine Learning\\n', ' 3rd:- Deep Learning\\n', ' 4th:- Natural Language Processing']\n"
     ]
    }
   ],
   "source": [
    "with open(\"deadshot.txt\",\"r\")as f:\n",
    "    result = f.readlines()\n",
    "    print(result)"
   ]
  },
  {
   "cell_type": "code",
   "execution_count": 7,
   "metadata": {},
   "outputs": [
    {
     "name": "stdout",
     "output_type": "stream",
     "text": [
      "25\n"
     ]
    }
   ],
   "source": [
    "with open(\"deadshot.txt\",\"r\")as f:\n",
    "    result = f.readlines()\n",
    "    print(len(result))"
   ]
  },
  {
   "cell_type": "code",
   "execution_count": 8,
   "metadata": {},
   "outputs": [
    {
     "name": "stdout",
     "output_type": "stream",
     "text": [
      "964\n"
     ]
    }
   ],
   "source": [
    "with open(\"deadshot.txt\",\"r\")as f:\n",
    "    result = f.read()\n",
    "    print(len(result))"
   ]
  },
  {
   "cell_type": "code",
   "execution_count": 9,
   "metadata": {},
   "outputs": [
    {
     "data": {
      "text/plain": [
       "'Escobar.txt'"
      ]
     },
     "execution_count": 9,
     "metadata": {},
     "output_type": "execute_result"
    }
   ],
   "source": [
    "import shutil\n",
    "shutil.copy(\"deadshot.txt\",\"Escobar.txt\")\n"
   ]
  },
  {
   "cell_type": "code",
   "execution_count": 10,
   "metadata": {},
   "outputs": [
    {
     "name": "stdout",
     "output_type": "stream",
     "text": [
      "Data Science:\n",
      "    It is an Interdisciplinary field that uses Scientific methods, processes, algorithms and systems to extract knowledge\n",
      "    and insights from noisy, structured and unstructured data, and apply knowledge from data across a broad range of \n",
      "    application domains.1st:- Data Science\n",
      " 2nd:- Machine Learning\n",
      " 3rd:- Deep Learning\n",
      " 4th:- Natural Language Processing1st:- Data Science\n",
      " 2nd:- Machine Learning\n",
      " 3rd:- Deep Learning\n",
      " 4th:- Natural Language Processing1st:- Data Science\n",
      " 2nd:- Machine Learning\n",
      " 3rd:- Deep Learning\n",
      " 4th:- Natural Language Processing1st:- Data Science\n",
      " 2nd:- Machine Learning\n",
      " 3rd:- Deep Learning\n",
      " 4th:- Natural Language Processing1st:- Data Science\n",
      " 2nd:- Machine Learning\n",
      " 3rd:- Deep Learning\n",
      " 4th:- Natural Language Processing1st:- Data Science\n",
      " 2nd:- Machine Learning\n",
      " 3rd:- Deep Learning\n",
      " 4th:- Natural Language Processing1st:- Data Science\n",
      " 2nd:- Machine Learning\n",
      " 3rd:- Deep Learning\n",
      " 4th:- Natural Language Processing\n"
     ]
    }
   ],
   "source": [
    "with open(\"Escobar.txt\",\"r\")as f:\n",
    "    result = f.read()\n",
    "    print(result)"
   ]
  },
  {
   "cell_type": "code",
   "execution_count": 11,
   "metadata": {},
   "outputs": [
    {
     "name": "stdout",
     "output_type": "stream",
     "text": [
      "Current datetime : 2024-07-22 10:34:46.567956\n",
      "Current year: 2024\n",
      "Month of year: July\n",
      "Week number: 29\n",
      "Week day: Monday\n",
      "Day of year: 204\n",
      "Day of month: 22\n"
     ]
    }
   ],
   "source": [
    "from datetime import datetime\n",
    "\n",
    "current_datetime = datetime.now()\n",
    "print(\"Current datetime :\",current_datetime)\n",
    "\n",
    "current_year = current_datetime.year\n",
    "print(\"Current year:\",current_year)\n",
    "\n",
    "month_of_year = current_datetime.strftime(\"%B\")\n",
    "print(\"Month of year:\",month_of_year)\n",
    "\n",
    "week_number = current_datetime.strftime(\"%U\")\n",
    "print(\"Week number:\",week_number)\n",
    "\n",
    "weekday = current_datetime.strftime(\"%A\")\n",
    "print(\"Week day:\",weekday)\n",
    "\n",
    "day_of_year = current_datetime.strftime(\"%j\")\n",
    "print(\"Day of year:\",day_of_year)\n",
    "\n",
    "day_of_month = current_datetime.strftime(\"%d\")\n",
    "print(\"Day of month:\",day_of_month)"
   ]
  },
  {
   "cell_type": "code",
   "execution_count": 12,
   "metadata": {},
   "outputs": [
    {
     "name": "stdout",
     "output_type": "stream",
     "text": [
      "2026 is not a leap year\n"
     ]
    }
   ],
   "source": [
    "year = int(input(\"Enter a year:\"))\n",
    "\n",
    "if (year % 4 == 0 and year % 100 != 0) or (year % 400 == 0):\n",
    "    print(f\"{year} is a leap year\")\n",
    "else:\n",
    "    print(f\"{year} is not a leap year\")"
   ]
  },
  {
   "cell_type": "code",
   "execution_count": 13,
   "metadata": {},
   "outputs": [
    {
     "name": "stdout",
     "output_type": "stream",
     "text": [
      "2014-01-01 14:43:00\n"
     ]
    }
   ],
   "source": [
    "date_format = \"jan 1 2014 2:43PM\"\n",
    "date1 = \"%b %d %Y %I:%M%p\"\n",
    "\n",
    "result = datetime.strptime(date_format,date1)\n",
    "print(result)"
   ]
  },
  {
   "cell_type": "code",
   "execution_count": 14,
   "metadata": {},
   "outputs": [
    {
     "name": "stdout",
     "output_type": "stream",
     "text": [
      "2024-07-22 10:50:43.352743\n",
      "2024-07-17 10:50:43.352743\n"
     ]
    }
   ],
   "source": [
    "from datetime import timedelta\n",
    "current_datetime = datetime.today()\n",
    "result = current_datetime + timedelta(days=-5)\n",
    "print(current_datetime)\n",
    "print(result)"
   ]
  },
  {
   "cell_type": "code",
   "execution_count": 15,
   "metadata": {},
   "outputs": [
    {
     "name": "stdout",
     "output_type": "stream",
     "text": [
      "Date of Yesterday: 2024-07-21 11:02:28.249254\n",
      "Date of today: 2024-07-22 11:02:28.251842\n",
      "Date of tomorrow: 2024-07-23 11:02:28.252352\n"
     ]
    }
   ],
   "source": [
    "result = datetime.today() + timedelta(days=-1)\n",
    "print(\"Date of Yesterday:\",result)\n",
    "result = datetime.today() + timedelta(days=0)\n",
    "print(\"Date of today:\",result)\n",
    "result = datetime.today() + timedelta(days=+1)\n",
    "print(\"Date of tomorrow:\",result)"
   ]
  },
  {
   "cell_type": "code",
   "execution_count": 16,
   "metadata": {},
   "outputs": [
    {
     "name": "stdout",
     "output_type": "stream",
     "text": [
      "Date of today: 2024-07-22\n"
     ]
    }
   ],
   "source": [
    "current_datetime = datetime.today().date()\n",
    "print(\"Date of today:\",current_datetime)"
   ]
  },
  {
   "cell_type": "code",
   "execution_count": 17,
   "metadata": {},
   "outputs": [
    {
     "name": "stdout",
     "output_type": "stream",
     "text": [
      "2024-07-22\n",
      "2024-07-23\n",
      "2024-07-24\n",
      "2024-07-25\n",
      "2024-07-26\n"
     ]
    }
   ],
   "source": [
    "for i in range(5):\n",
    "    result = current_datetime + timedelta(days=i)\n",
    "    print(result)"
   ]
  },
  {
   "cell_type": "code",
   "execution_count": 18,
   "metadata": {},
   "outputs": [
    {
     "name": "stdout",
     "output_type": "stream",
     "text": [
      "Date of today: 2024-07-22 11:18:34.477747\n",
      "Date of today: 2024-07-22 11:18:34\n"
     ]
    }
   ],
   "source": [
    "current_datetime = datetime.today()\n",
    "print(\"Date of today:\",current_datetime)\n",
    "result = current_datetime.replace(microsecond=0)\n",
    "print(\"Date of today:\",result)"
   ]
  },
  {
   "cell_type": "code",
   "execution_count": 19,
   "metadata": {},
   "outputs": [
    {
     "name": "stdout",
     "output_type": "stream",
     "text": [
      "He is god owns soldier\n"
     ]
    }
   ],
   "source": [
    "with open(\"Abhishek.txt\",\"w\")as f:\n",
    "    f.write(\"He is god owns soldier\")\n",
    "    f.close()\n",
    "\n",
    "with open(\"Abhishek.txt\",\"r\")as f:\n",
    "    result = f.read()\n",
    "    print(result)\n",
    "    f.close()"
   ]
  },
  {
   "cell_type": "code",
   "execution_count": 21,
   "metadata": {},
   "outputs": [],
   "source": [
    "import os\n",
    "os.rename(\"Abhishek.txt\",\"Abhishake.txt\")"
   ]
  },
  {
   "cell_type": "code",
   "execution_count": 22,
   "metadata": {},
   "outputs": [
    {
     "data": {
      "text/plain": [
       "'d:\\\\Assignment'"
      ]
     },
     "execution_count": 22,
     "metadata": {},
     "output_type": "execute_result"
    }
   ],
   "source": [
    "os.getcwd()"
   ]
  },
  {
   "cell_type": "code",
   "execution_count": 23,
   "metadata": {},
   "outputs": [
    {
     "data": {
      "text/plain": [
       "['.git',\n",
       " 'Abhi.txt',\n",
       " 'Abhishake.txt',\n",
       " 'Adaboost_Ass.ipynb',\n",
       " 'Assignment_1.ipynb',\n",
       " 'Assignment_10.ipynb',\n",
       " 'Assignment_11.ipynb',\n",
       " 'Assignment_12.ipynb',\n",
       " 'Assignment_2.ipynb',\n",
       " 'Assignment_3.ipynb',\n",
       " 'Assignment_4.ipynb',\n",
       " 'Assignment_6.ipynb',\n",
       " 'Assignment_7.ipynb',\n",
       " 'Assignment_8.ipynb',\n",
       " 'Assignment_9.ipynb',\n",
       " 'Assignment_DT.ipynb',\n",
       " 'Assignment_KNN.ipynb',\n",
       " 'autos_dataset.csv',\n",
       " 'Bengaluru_House_Data.csv',\n",
       " 'Book2.csv',\n",
       " 'Boston.csv',\n",
       " 'deadshot.txt',\n",
       " 'diabetes.csv',\n",
       " 'Emp_data.csv',\n",
       " 'Emp_Records.xlsx',\n",
       " 'emp_test1.csv',\n",
       " 'Escobar.txt',\n",
       " 'heart.csv',\n",
       " 'Iris.csv',\n",
       " 'Linear_reg_theory.ipynb',\n",
       " 'loan_data.csv',\n",
       " 'Logistic_reg_assignment.ipynb',\n",
       " 'movies_data.csv',\n",
       " 'NLP_lec2.ipynb',\n",
       " 'python_1.ipynb',\n",
       " 'Python_2.ipynb',\n",
       " 'python_3.ipynb',\n",
       " 'Python_4.ipynb',\n",
       " 'Python_5.ipynb',\n",
       " 'README.md',\n",
       " 'Restaurant_Reviews.tsv',\n",
       " 'Sample1.xlsx',\n",
       " 'Social_Network_Ads.csv',\n",
       " 'student.csv',\n",
       " 'titanic.csv',\n",
       " 'weather.csv']"
      ]
     },
     "execution_count": 23,
     "metadata": {},
     "output_type": "execute_result"
    }
   ],
   "source": [
    "os.listdir()"
   ]
  },
  {
   "cell_type": "code",
   "execution_count": 24,
   "metadata": {},
   "outputs": [
    {
     "name": "stdout",
     "output_type": "stream",
     "text": [
      "hello\n"
     ]
    }
   ],
   "source": [
    "try:\n",
    "    print(\"hello\")\n",
    "except:\n",
    "    print(\"bye\")"
   ]
  },
  {
   "cell_type": "code",
   "execution_count": 1,
   "metadata": {},
   "outputs": [
    {
     "data": {
      "text/plain": [
       "['P',\n",
       " 'y',\n",
       " 't',\n",
       " 'h',\n",
       " 'o',\n",
       " 'n',\n",
       " 'a',\n",
       " 'n',\n",
       " 'd',\n",
       " 'M',\n",
       " 'a',\n",
       " 'c',\n",
       " 'h',\n",
       " 'i',\n",
       " 'n',\n",
       " 'e',\n",
       " 'L',\n",
       " 'e',\n",
       " 'a',\n",
       " 'r',\n",
       " 'n',\n",
       " 'i',\n",
       " 'n',\n",
       " 'g',\n",
       " '7',\n",
       " '7',\n",
       " '4',\n",
       " '1',\n",
       " 'i',\n",
       " 's',\n",
       " 's',\n",
       " 'y',\n",
       " 'l',\n",
       " 'l',\n",
       " 'a',\n",
       " 'b',\n",
       " 'u',\n",
       " 's',\n",
       " 'o',\n",
       " 'f',\n",
       " 'D',\n",
       " 'a',\n",
       " 't',\n",
       " 'a',\n",
       " 'S',\n",
       " 'c',\n",
       " 'i',\n",
       " 'e',\n",
       " 'n',\n",
       " 'c',\n",
       " 'e']"
      ]
     },
     "execution_count": 1,
     "metadata": {},
     "output_type": "execute_result"
    }
   ],
   "source": [
    "import re\n",
    "string = \"Python and Machine Learning 7741 is syllabus of Data Science.\"\n",
    "result = re.findall(\"[a-zA-Z0-9]\",string)\n",
    "result"
   ]
  },
  {
   "cell_type": "code",
   "execution_count": 3,
   "metadata": {},
   "outputs": [
    {
     "data": {
      "text/plain": [
       "['Python ',\n",
       " ' Machine Learning is syllabus of data science ',\n",
       " ' deep learning.']"
      ]
     },
     "execution_count": 3,
     "metadata": {},
     "output_type": "execute_result"
    }
   ],
   "source": [
    "string = \"Python and Machine Learning is syllabus of data science and deep learning.\"\n",
    "result = re.split(f\"and\",string)\n",
    "result"
   ]
  },
  {
   "cell_type": "code",
   "execution_count": 4,
   "metadata": {},
   "outputs": [
    {
     "data": {
      "text/plain": [
       "['and']"
      ]
     },
     "execution_count": 4,
     "metadata": {},
     "output_type": "execute_result"
    }
   ],
   "source": [
    "str1='Python and Data Science Batch 2023'\n",
    "result = re.findall(r\"\\bab*[a-z]*\\b\",str1)\n",
    "result"
   ]
  },
  {
   "cell_type": "code",
   "execution_count": 5,
   "metadata": {},
   "outputs": [
    {
     "data": {
      "text/plain": [
       "['123 45', '678 90']"
      ]
     },
     "execution_count": 5,
     "metadata": {},
     "output_type": "execute_result"
    }
   ],
   "source": [
    "sample_string = \"There are 123 45 678 90 2345 67 12 345 6789 0123 three-digit\"\n",
    "result = re.findall(r\"\\b\\d{3}\\s\\d{2}\\b\",sample_string)\n",
    "result"
   ]
  },
  {
   "cell_type": "code",
   "execution_count": 6,
   "metadata": {},
   "outputs": [
    {
     "data": {
      "text/plain": [
       "['p', 'p', 'p', 'p', 'p']"
      ]
     },
     "execution_count": 6,
     "metadata": {},
     "output_type": "execute_result"
    }
   ],
   "source": [
    "str1= \"python and data pytthon science pythonnn pyyth annd pythh\"\n",
    "result = re.findall(r\"p+\",str1)\n",
    "result"
   ]
  },
  {
   "cell_type": "code",
   "execution_count": 7,
   "metadata": {},
   "outputs": [
    {
     "data": {
      "text/plain": [
       "['INFORM', 'inform']"
      ]
     },
     "execution_count": 7,
     "metadata": {},
     "output_type": "execute_result"
    }
   ],
   "source": [
    "str1 = 'We can write INFORM in lowercase as inform'\n",
    "result = re.findall(r\"INFORM|inform\",str1)\n",
    "result"
   ]
  },
  {
   "cell_type": "code",
   "execution_count": 8,
   "metadata": {},
   "outputs": [
    {
     "data": {
      "text/plain": [
       "['py', 'py']"
      ]
     },
     "execution_count": 8,
     "metadata": {},
     "output_type": "execute_result"
    }
   ],
   "source": [
    "str1= \" data science and pytthon science abbbss and pyt\"\n",
    "result = re.findall(r\"py?\",str1)\n",
    "result"
   ]
  },
  {
   "cell_type": "code",
   "execution_count": 9,
   "metadata": {},
   "outputs": [
    {
     "data": {
      "text/plain": [
       "['pbbbtthon', 'pytbbbonnn']"
      ]
     },
     "execution_count": 9,
     "metadata": {},
     "output_type": "execute_result"
    }
   ],
   "source": [
    "str1= \"python and data pbbbtthon science pytbbbonnn and pyt\"\n",
    "result = re.findall(r\"\\b\\w*[b]{3}\\w*\\b\",str1)\n",
    "result"
   ]
  },
  {
   "cell_type": "code",
   "execution_count": 10,
   "metadata": {},
   "outputs": [
    {
     "data": {
      "text/plain": [
       "['abbbs', 'abbbsolutely', 'abbrivation']"
      ]
     },
     "execution_count": 10,
     "metadata": {},
     "output_type": "execute_result"
    }
   ],
   "source": [
    "str1= \"abbbs and data abbbsolutely science abbrivation and pyt\"\n",
    "result = re.findall(r\"\\b\\w*[b]{2,3}\\w*\\b\",str1)\n",
    "result"
   ]
  },
  {
   "cell_type": "code",
   "execution_count": 11,
   "metadata": {},
   "outputs": [
    {
     "data": {
      "text/plain": [
       "['abbbs', 'and', 'data', 'and', 'pyt']"
      ]
     },
     "execution_count": 11,
     "metadata": {},
     "output_type": "execute_result"
    }
   ],
   "source": [
    "str1= \"abbbs and data abbbsolutely or science an abbrivation and pyt\"\n",
    "result = re.findall(r\"\\b\\w{3,5}\\b\",str1)\n",
    "result"
   ]
  },
  {
   "cell_type": "code",
   "execution_count": 12,
   "metadata": {},
   "outputs": [
    {
     "data": {
      "text/plain": [
       "['science_', 'abbrivation_', 'pyt_']"
      ]
     },
     "execution_count": 12,
     "metadata": {},
     "output_type": "execute_result"
    }
   ],
   "source": [
    "str1= \"abbbs and data abbbsolutely or science_ an abbrivation_ and pyt_\"\n",
    "result = re.findall(r\"[a-z]+[_]\",str1)\n",
    "result"
   ]
  },
  {
   "cell_type": "code",
   "execution_count": 13,
   "metadata": {},
   "outputs": [
    {
     "data": {
      "text/plain": [
       "['Abbbs', 'Data', 'Abbbsolutely', 'Science', 'Abbrivation']"
      ]
     },
     "execution_count": 13,
     "metadata": {},
     "output_type": "execute_result"
    }
   ],
   "source": [
    "str1= \"Abbbs and Data Abbbsolutely or Science_ an Abbrivation_ and pyt_\"\n",
    "result = re.findall(r\"[A-Z][a-z]+\",str1)\n",
    "result"
   ]
  },
  {
   "cell_type": "code",
   "execution_count": 14,
   "metadata": {},
   "outputs": [
    {
     "data": {
      "text/plain": [
       "['absorb']"
      ]
     },
     "execution_count": 14,
     "metadata": {},
     "output_type": "execute_result"
    }
   ],
   "source": [
    "str1= \"data absorb Science and Abbrivation and pyt\"\n",
    "result = re.findall(r\"\\ba.+b\\b\",str1)\n",
    "result"
   ]
  },
  {
   "cell_type": "code",
   "execution_count": 15,
   "metadata": {},
   "outputs": [
    {
     "data": {
      "text/plain": [
       "['Suceess']"
      ]
     },
     "execution_count": 15,
     "metadata": {},
     "output_type": "execute_result"
    }
   ],
   "source": [
    "str1 = 'Suceess is a jurney not a desti9nation.'\n",
    "result = re.findall(r\"Suceess\",str1)\n",
    "result"
   ]
  },
  {
   "cell_type": "code",
   "execution_count": 16,
   "metadata": {},
   "outputs": [
    {
     "data": {
      "text/plain": [
       "['LIFE .']"
      ]
     },
     "execution_count": 16,
     "metadata": {},
     "output_type": "execute_result"
    }
   ],
   "source": [
    "str1 = 'new begening of LIFE .'\n",
    "result = re.findall(r\"LIFE .\",str1)\n",
    "result"
   ]
  },
  {
   "cell_type": "code",
   "execution_count": 17,
   "metadata": {},
   "outputs": [
    {
     "data": {
      "text/plain": [
       "['lazy']"
      ]
     },
     "execution_count": 17,
     "metadata": {},
     "output_type": "execute_result"
    }
   ],
   "source": [
    "str1 = \"today is the very lazy day\"\n",
    "result = re.findall(r\"\\w*z\\w\",str1)\n",
    "result"
   ]
  },
  {
   "cell_type": "code",
   "execution_count": 18,
   "metadata": {},
   "outputs": [
    {
     "data": {
      "text/plain": [
       "['lazy']"
      ]
     },
     "execution_count": 18,
     "metadata": {},
     "output_type": "execute_result"
    }
   ],
   "source": [
    "str1 = \"we have a lazy cat\"\n",
    "result = re.findall(r\"[a-y]*z[a-y]\",str1)\n",
    "result"
   ]
  },
  {
   "cell_type": "code",
   "execution_count": 19,
   "metadata": {},
   "outputs": [
    {
     "data": {
      "text/plain": [
       "['RudrANSHI_12345_wadekar']"
      ]
     },
     "execution_count": 19,
     "metadata": {},
     "output_type": "execute_result"
    }
   ],
   "source": [
    "str1 = \"RudrANSHI_12345_wadekar\"\n",
    "result = re.findall(r\"\\w{1,}\",str1)\n",
    "result"
   ]
  },
  {
   "cell_type": "code",
   "execution_count": 20,
   "metadata": {},
   "outputs": [
    {
     "data": {
      "text/plain": [
       "['9821']"
      ]
     },
     "execution_count": 20,
     "metadata": {},
     "output_type": "execute_result"
    }
   ],
   "source": [
    "str1 = \"9821 maya\"\n",
    "result = re.findall(r\"^\\d*\",str1)\n",
    "result"
   ]
  },
  {
   "cell_type": "code",
   "execution_count": 21,
   "metadata": {},
   "outputs": [
    {
     "data": {
      "text/plain": [
       "'216.8.904.196'"
      ]
     },
     "execution_count": 21,
     "metadata": {},
     "output_type": "execute_result"
    }
   ],
   "source": [
    "ip_adress=\"216.008.904.196\"\n",
    "result = re.sub(r\"\\b0.\",\"\",ip_adress)\n",
    "result"
   ]
  },
  {
   "cell_type": "code",
   "execution_count": 23,
   "metadata": {},
   "outputs": [
    {
     "data": {
      "text/plain": [
       "['3.2']"
      ]
     },
     "execution_count": 23,
     "metadata": {},
     "output_type": "execute_result"
    }
   ],
   "source": [
    "str1=\"Python is required for data science version 3.2\"\n",
    "result = re.findall(r\"\\d..\\b\",str1)\n",
    "result"
   ]
  },
  {
   "cell_type": "code",
   "execution_count": 24,
   "metadata": {},
   "outputs": [
    {
     "data": {
      "text/plain": [
       "['1', '12', '13', '345']"
      ]
     },
     "execution_count": 24,
     "metadata": {},
     "output_type": "execute_result"
    }
   ],
   "source": [
    "str1 = \"Exercises number 1, 12, 13, and 345 are important\"\n",
    "result = re.findall(r\"\\d+\",str1)\n",
    "result"
   ]
  },
  {
   "cell_type": "code",
   "execution_count": 25,
   "metadata": {},
   "outputs": [
    {
     "name": "stdout",
     "output_type": "stream",
     "text": [
      "['fox']\n",
      "['dog']\n",
      "[]\n"
     ]
    }
   ],
   "source": [
    "Sample_text ='The quick brown fox jumps over the lazy dog.'\n",
    "Searched_words ='fox', 'dog', 'horse'\n",
    "for word in Searched_words:\n",
    "    result = re.findall(word,Sample_text)\n",
    "    print(result)"
   ]
  },
  {
   "cell_type": "code",
   "execution_count": 26,
   "metadata": {},
   "outputs": [
    {
     "data": {
      "text/plain": [
       "<re.Match object; span=(16, 19), match='fox'>"
      ]
     },
     "execution_count": 26,
     "metadata": {},
     "output_type": "execute_result"
    }
   ],
   "source": [
    "sample_text ='The quick brown fox jumps over the lazy dog.'\n",
    "result = re.search(r\"fox\",sample_text)\n",
    "result"
   ]
  },
  {
   "cell_type": "code",
   "execution_count": 27,
   "metadata": {},
   "outputs": [
    {
     "data": {
      "text/plain": [
       "['exercises', 'exercises', 'exercises']"
      ]
     },
     "execution_count": 27,
     "metadata": {},
     "output_type": "execute_result"
    }
   ],
   "source": [
    "Sample_text = 'Python exercises, PHP exercises, C# exercises'\n",
    "result = re.findall(r\"exercises\",Sample_text)\n",
    "result"
   ]
  },
  {
   "cell_type": "code",
   "execution_count": 28,
   "metadata": {},
   "outputs": [
    {
     "name": "stdout",
     "output_type": "stream",
     "text": [
      "3\n"
     ]
    },
    {
     "data": {
      "text/plain": [
       "<re.Match object; span=(7, 16), match='exercises'>"
      ]
     },
     "execution_count": 28,
     "metadata": {},
     "output_type": "execute_result"
    }
   ],
   "source": [
    "Sample_text = 'Python exercises, PHP exercises, C# exercises'\n",
    "result = re.findall(r\"exercises\",Sample_text)\n",
    "print(len(result))\n",
    "result = re.search(r\"exercises\",Sample_text)\n",
    "result"
   ]
  },
  {
   "cell_type": "code",
   "execution_count": 29,
   "metadata": {},
   "outputs": [
    {
     "name": "stdout",
     "output_type": "stream",
     "text": [
      "The_quick_brown_fox_jumps_over_the_lazy_dog.\n"
     ]
    },
    {
     "data": {
      "text/plain": [
       "'The quick brown fox jumps over the lazy dog.'"
      ]
     },
     "execution_count": 29,
     "metadata": {},
     "output_type": "execute_result"
    }
   ],
   "source": [
    "str1 = 'The quick brown fox jumps over the lazy dog.'\n",
    "result = re.sub(r\"[ ]\",\"_\",str1)\n",
    "print(result)\n",
    "result = re.sub(\"_\",\" \",result)\n",
    "result"
   ]
  },
  {
   "cell_type": "code",
   "execution_count": 30,
   "metadata": {},
   "outputs": [
    {
     "data": {
      "text/plain": [
       "'Thequickbrownfoxjumpsoverthelazydog.'"
      ]
     },
     "execution_count": 30,
     "metadata": {},
     "output_type": "execute_result"
    }
   ],
   "source": [
    "str1 = 'The quick brown fox jumps over the lazy dog.'\n",
    "result = re.sub(r\"[ ]\",\"\",str1)\n",
    "result"
   ]
  },
  {
   "cell_type": "code",
   "execution_count": 31,
   "metadata": {},
   "outputs": [
    {
     "data": {
      "text/plain": [
       "['python', 'pythonnn']"
      ]
     },
     "execution_count": 31,
     "metadata": {},
     "output_type": "execute_result"
    }
   ],
   "source": [
    "str1= \"python and data science pythonnn\"\n",
    "result = re.findall(r\"[p]\\w*\",str1)\n",
    "result"
   ]
  },
  {
   "cell_type": "code",
   "execution_count": 32,
   "metadata": {},
   "outputs": [
    {
     "data": {
      "text/plain": [
       "['and', 'every', 'evening']"
      ]
     },
     "execution_count": 32,
     "metadata": {},
     "output_type": "execute_result"
    }
   ],
   "source": [
    "str1= \"data science and python learning with begening every evening \"\n",
    "result = re.findall(r\"\\b[a,e]\\w*\",str1)\n",
    "result"
   ]
  },
  {
   "cell_type": "code",
   "execution_count": 33,
   "metadata": {},
   "outputs": [
    {
     "data": {
      "text/plain": [
       "<re.Match object; span=(33, 34), match='2'>"
      ]
     },
     "execution_count": 33,
     "metadata": {},
     "output_type": "execute_result"
    }
   ],
   "source": [
    "str1 = \"i am mrunal chaudhari ,my age is 24\"\n",
    "result = re.search(r\"\\d\",str1)\n",
    "result"
   ]
  },
  {
   "cell_type": "code",
   "execution_count": 34,
   "metadata": {},
   "outputs": [
    {
     "data": {
      "text/plain": [
       "'Python::is:a:general:purpose::interpreted:'"
      ]
     },
     "execution_count": 34,
     "metadata": {},
     "output_type": "execute_result"
    }
   ],
   "source": [
    "text =\"\"\"Python. is a general,purpose, interpreted.\"\"\"\n",
    "result = re.sub(r\"[,. ]\",\":\",text)\n",
    "result"
   ]
  },
  {
   "cell_type": "code",
   "execution_count": 35,
   "metadata": {},
   "outputs": [
    {
     "data": {
      "text/plain": [
       "'Python: is a general purpose interpreted.'"
      ]
     },
     "execution_count": 35,
     "metadata": {},
     "output_type": "execute_result"
    }
   ],
   "source": [
    "text =\"\"\"Python., is a general purpose interpreted.\"\"\"\n",
    "result = re.sub(r\"[,. ]{2}\",\":\",text)\n",
    "result"
   ]
  },
  {
   "cell_type": "code",
   "execution_count": 36,
   "metadata": {},
   "outputs": [
    {
     "data": {
      "text/plain": [
       "[' is a', 'high-', 'level', ' used', ' for\\n', 'data ', ' and ']"
      ]
     },
     "execution_count": 36,
     "metadata": {},
     "output_type": "execute_result"
    }
   ],
   "source": [
    "text =\"\"\"123 Python is a general-purpose, interpreted,\n",
    "high-level programming language popularly used for\n",
    "website development, data analytics 78 and automation.\"\"\"\n",
    "\n",
    "result = re.findall(r\"\\b\\D{3,5}\\b\",text)\n",
    "result"
   ]
  },
  {
   "cell_type": "code",
   "execution_count": 1,
   "metadata": {},
   "outputs": [],
   "source": [
    "import numpy as np"
   ]
  },
  {
   "cell_type": "code",
   "execution_count": 2,
   "metadata": {},
   "outputs": [
    {
     "data": {
      "text/plain": [
       "array([0., 0., 0., 0., 0., 0., 0., 0., 0., 0.])"
      ]
     },
     "execution_count": 2,
     "metadata": {},
     "output_type": "execute_result"
    }
   ],
   "source": [
    "arr1 = np.zeros(10)\n",
    "arr1"
   ]
  },
  {
   "cell_type": "code",
   "execution_count": 3,
   "metadata": {},
   "outputs": [
    {
     "data": {
      "text/plain": [
       "80"
      ]
     },
     "execution_count": 3,
     "metadata": {},
     "output_type": "execute_result"
    }
   ],
   "source": [
    "arr1.nbytes"
   ]
  },
  {
   "cell_type": "code",
   "execution_count": 4,
   "metadata": {},
   "outputs": [
    {
     "name": "stdout",
     "output_type": "stream",
     "text": [
      "[0. 0. 0. 0. 0. 0. 0. 0. 0. 0.]\n"
     ]
    },
    {
     "data": {
      "text/plain": [
       "array([0., 0., 0., 0., 1., 0., 0., 0., 0., 0.])"
      ]
     },
     "execution_count": 4,
     "metadata": {},
     "output_type": "execute_result"
    }
   ],
   "source": [
    "arr1 = np.zeros(10)\n",
    "print(arr1)\n",
    "arr1[4] = 1\n",
    "arr1"
   ]
  },
  {
   "cell_type": "code",
   "execution_count": 5,
   "metadata": {},
   "outputs": [
    {
     "data": {
      "text/plain": [
       "array([15, 16, 17, 18, 19, 20, 21, 22, 23, 24, 25, 26, 27, 28, 29, 30, 31,\n",
       "       32, 33, 34, 35, 36, 37, 38, 39, 40, 41, 42, 43, 44, 45])"
      ]
     },
     "execution_count": 5,
     "metadata": {},
     "output_type": "execute_result"
    }
   ],
   "source": [
    "arr1 = np.arange(15,46)\n",
    "arr1"
   ]
  },
  {
   "cell_type": "code",
   "execution_count": 6,
   "metadata": {},
   "outputs": [
    {
     "data": {
      "text/plain": [
       "array([45, 44, 43, 42, 41, 40, 39, 38, 37, 36, 35, 34, 33, 32, 31, 30, 29,\n",
       "       28, 27, 26, 25, 24, 23, 22, 21, 20, 19, 18, 17, 16, 15])"
      ]
     },
     "execution_count": 6,
     "metadata": {},
     "output_type": "execute_result"
    }
   ],
   "source": [
    "arr1[::-1]"
   ]
  },
  {
   "cell_type": "code",
   "execution_count": 8,
   "metadata": {},
   "outputs": [
    {
     "data": {
      "text/plain": [
       "[45,\n",
       " 44,\n",
       " 43,\n",
       " 42,\n",
       " 41,\n",
       " 40,\n",
       " 39,\n",
       " 38,\n",
       " 37,\n",
       " 36,\n",
       " 35,\n",
       " 34,\n",
       " 33,\n",
       " 32,\n",
       " 31,\n",
       " 30,\n",
       " 29,\n",
       " 28,\n",
       " 27,\n",
       " 26,\n",
       " 25,\n",
       " 24,\n",
       " 23,\n",
       " 22,\n",
       " 21,\n",
       " 20,\n",
       " 19,\n",
       " 18,\n",
       " 17,\n",
       " 16,\n",
       " 15]"
      ]
     },
     "execution_count": 8,
     "metadata": {},
     "output_type": "execute_result"
    }
   ],
   "source": [
    "arr2 = reversed(arr1)\n",
    "list(arr2)"
   ]
  },
  {
   "cell_type": "code",
   "execution_count": 9,
   "metadata": {},
   "outputs": [
    {
     "name": "stdout",
     "output_type": "stream",
     "text": [
      "[[9 9]\n",
      " [9 2]]\n",
      "[[18 13]\n",
      " [19 12]]\n"
     ]
    }
   ],
   "source": [
    "arr1 = np.random.randint(1,10,size=(2,2))\n",
    "print(arr1)\n",
    "arr2 = np.random.randint(10,20,size=(2,2))\n",
    "print(arr2)"
   ]
  },
  {
   "cell_type": "code",
   "execution_count": 10,
   "metadata": {},
   "outputs": [
    {
     "data": {
      "text/plain": [
       "array([[27, 22],\n",
       "       [28, 14]])"
      ]
     },
     "execution_count": 10,
     "metadata": {},
     "output_type": "execute_result"
    }
   ],
   "source": [
    "add1 = arr1 + arr2\n",
    "add1"
   ]
  },
  {
   "cell_type": "code",
   "execution_count": 11,
   "metadata": {},
   "outputs": [
    {
     "data": {
      "text/plain": [
       "array([[ -9,  -4],\n",
       "       [-10, -10]])"
      ]
     },
     "execution_count": 11,
     "metadata": {},
     "output_type": "execute_result"
    }
   ],
   "source": [
    "sub1 = arr1 - arr2\n",
    "sub1"
   ]
  },
  {
   "cell_type": "code",
   "execution_count": 12,
   "metadata": {},
   "outputs": [
    {
     "data": {
      "text/plain": [
       "array([1., 2., 2., 4., 1., 4., 2., 9., 0.])"
      ]
     },
     "execution_count": 12,
     "metadata": {},
     "output_type": "execute_result"
    }
   ],
   "source": [
    "arr1 = np.array([1.3,1.8,2.3,3.9,1,4,1.9,9,.3])\n",
    "arr1.round()"
   ]
  },
  {
   "cell_type": "code",
   "execution_count": 13,
   "metadata": {},
   "outputs": [
    {
     "data": {
      "text/plain": [
       "array([1., 1., 2., 3., 1., 4., 1., 9., 0.])"
      ]
     },
     "execution_count": 13,
     "metadata": {},
     "output_type": "execute_result"
    }
   ],
   "source": [
    "np.floor(arr1)"
   ]
  },
  {
   "cell_type": "code",
   "execution_count": 14,
   "metadata": {},
   "outputs": [
    {
     "data": {
      "text/plain": [
       "array([2., 2., 3., 4., 1., 4., 2., 9., 1.])"
      ]
     },
     "execution_count": 14,
     "metadata": {},
     "output_type": "execute_result"
    }
   ],
   "source": [
    "np.ceil(arr1)"
   ]
  },
  {
   "cell_type": "code",
   "execution_count": 15,
   "metadata": {},
   "outputs": [
    {
     "name": "stdout",
     "output_type": "stream",
     "text": [
      "[[1 2 3]\n",
      " [4 5 6]\n",
      " [7 8 9]]\n",
      "[2. 5. 8.]\n",
      "[4. 5. 6.]\n"
     ]
    }
   ],
   "source": [
    "arr1 = np.array([[1,2,3],[4,5,6],[7,8,9]])\n",
    "print(arr1)\n",
    "mean_row = np.mean(arr1,axis=1)\n",
    "print(mean_row)\n",
    "mean_col = np.mean(arr1,axis=0)\n",
    "print(mean_col)"
   ]
  },
  {
   "cell_type": "code",
   "execution_count": 16,
   "metadata": {},
   "outputs": [
    {
     "data": {
      "text/plain": [
       "array([0.        , 0.52359878, 0.78539816, 1.04719755, 1.57079633])"
      ]
     },
     "execution_count": 16,
     "metadata": {},
     "output_type": "execute_result"
    }
   ],
   "source": [
    "list1 = [0,30,45,60,90]\n",
    "result = np.deg2rad(list1)\n",
    "result"
   ]
  },
  {
   "cell_type": "code",
   "execution_count": 17,
   "metadata": {},
   "outputs": [
    {
     "data": {
      "text/plain": [
       "array([[0, 1, 2],\n",
       "       [3, 4, 5],\n",
       "       [6, 7, 8]])"
      ]
     },
     "execution_count": 17,
     "metadata": {},
     "output_type": "execute_result"
    }
   ],
   "source": [
    "arr1 = np.arange(9).reshape(3,3)\n",
    "arr1"
   ]
  },
  {
   "cell_type": "code",
   "execution_count": 18,
   "metadata": {},
   "outputs": [
    {
     "name": "stdout",
     "output_type": "stream",
     "text": [
      "[[1 2 3]\n",
      " [4 5 6]\n",
      " [7 8 9]]\n"
     ]
    },
    {
     "data": {
      "text/plain": [
       "array([[3, 2, 1],\n",
       "       [6, 5, 4],\n",
       "       [9, 8, 7]])"
      ]
     },
     "execution_count": 18,
     "metadata": {},
     "output_type": "execute_result"
    }
   ],
   "source": [
    "arr1 = np.array([[1,2,3],[4,5,6],[7,8,9]])\n",
    "print(arr1)\n",
    "arr1[:: , ::-1]"
   ]
  },
  {
   "cell_type": "code",
   "execution_count": 19,
   "metadata": {},
   "outputs": [
    {
     "data": {
      "text/plain": [
       "array([[7, 8, 9],\n",
       "       [4, 5, 6],\n",
       "       [1, 2, 3]])"
      ]
     },
     "execution_count": 19,
     "metadata": {},
     "output_type": "execute_result"
    }
   ],
   "source": [
    "arr1[::-1]"
   ]
  },
  {
   "cell_type": "code",
   "execution_count": 20,
   "metadata": {},
   "outputs": [
    {
     "data": {
      "text/plain": [
       "(array([0, 1, 4], dtype=int64),)"
      ]
     },
     "execution_count": 20,
     "metadata": {},
     "output_type": "execute_result"
    }
   ],
   "source": [
    "result = np.nonzero([1,2,0,0,4,0])\n",
    "result"
   ]
  },
  {
   "cell_type": "code",
   "execution_count": 21,
   "metadata": {},
   "outputs": [
    {
     "name": "stdout",
     "output_type": "stream",
     "text": [
      "Array:\n",
      " [[1 2]\n",
      " [3 4]]\n"
     ]
    },
    {
     "data": {
      "text/plain": [
       "-2.0000000000000004"
      ]
     },
     "execution_count": 21,
     "metadata": {},
     "output_type": "execute_result"
    }
   ],
   "source": [
    "arr1 = np.array([[1,2],[3,4]])\n",
    "print(\"Array:\\n\",arr1)\n",
    "result = np.linalg.det(arr1)\n",
    "result"
   ]
  },
  {
   "cell_type": "code",
   "execution_count": 22,
   "metadata": {},
   "outputs": [
    {
     "name": "stdout",
     "output_type": "stream",
     "text": [
      "Array:\n",
      " [[2 3]\n",
      " [3 9]]\n"
     ]
    },
    {
     "data": {
      "text/plain": [
       "array([[ 1.        , -0.33333333],\n",
       "       [-0.33333333,  0.22222222]])"
      ]
     },
     "execution_count": 22,
     "metadata": {},
     "output_type": "execute_result"
    }
   ],
   "source": [
    "arr1 = np.array([[2,3],[3,9]])\n",
    "print(\"Array:\\n\",arr1)\n",
    "result = np.linalg.inv(arr1)\n",
    "result"
   ]
  },
  {
   "cell_type": "code",
   "execution_count": 23,
   "metadata": {},
   "outputs": [
    {
     "name": "stdout",
     "output_type": "stream",
     "text": [
      "Array:\n",
      " [2 1 4 1 6 6 3 7 1 8 6 6 9 4 3 2 2 9 8 9 2 6 3 7 6 2 1 7 5 7]\n"
     ]
    },
    {
     "data": {
      "text/plain": [
       "4.766666666666667"
      ]
     },
     "execution_count": 23,
     "metadata": {},
     "output_type": "execute_result"
    }
   ],
   "source": [
    "arr1 = np.random.randint(1,10,size=(30))\n",
    "print(\"Array:\\n\",arr1)\n",
    "result = np.mean(arr1)\n",
    "result"
   ]
  },
  {
   "cell_type": "code",
   "execution_count": 24,
   "metadata": {},
   "outputs": [
    {
     "name": "stdout",
     "output_type": "stream",
     "text": [
      "Array:\n",
      " [ 1  2  3  4  5  6  7  8  9 10]\n"
     ]
    },
    {
     "data": {
      "text/plain": [
       "(array([5, 6, 7, 8, 9], dtype=int64),)"
      ]
     },
     "execution_count": 24,
     "metadata": {},
     "output_type": "execute_result"
    }
   ],
   "source": [
    "arr1 = np.array([1,2,3,4,5,6,7,8,9,10])\n",
    "print(\"Array:\\n\",arr1)\n",
    "result = np.where(arr1 > 5)\n",
    "result"
   ]
  },
  {
   "cell_type": "code",
   "execution_count": 25,
   "metadata": {},
   "outputs": [
    {
     "name": "stdout",
     "output_type": "stream",
     "text": [
      "Array:\n",
      " [[[0.5493677  0.18867096 0.68593548]\n",
      "  [0.27930608 0.1964231  0.1929316 ]\n",
      "  [0.9857223  0.91325602 0.11619143]]\n",
      "\n",
      " [[0.55961291 0.6254     0.64711706]\n",
      "  [0.85407301 0.43111839 0.80921256]\n",
      "  [0.0913186  0.47504523 0.05283635]]\n",
      "\n",
      " [[0.69993922 0.28133106 0.06418335]\n",
      "  [0.64257126 0.08834724 0.7267204 ]\n",
      "  [0.80218982 0.39710841 0.70261883]]]\n"
     ]
    }
   ],
   "source": [
    "arr1 = np.random.random((3,3,3))\n",
    "print(\"Array:\\n\",arr1)"
   ]
  },
  {
   "cell_type": "code",
   "execution_count": 26,
   "metadata": {},
   "outputs": [
    {
     "name": "stdout",
     "output_type": "stream",
     "text": [
      "Array:\n",
      " [[0.59791664 0.68511101 0.01903812 0.8377318  0.32981212 0.21231507\n",
      "  0.33231889 0.20194551 0.18360985 0.22682391]\n",
      " [0.75216924 0.63940097 0.14300698 0.68197352 0.29223531 0.67829082\n",
      "  0.51651242 0.72652685 0.40277477 0.41364493]\n",
      " [0.71891388 0.29970764 0.97518831 0.02203779 0.95944941 0.92868629\n",
      "  0.2061183  0.95030133 0.3020561  0.60152192]\n",
      " [0.56407588 0.47578345 0.73276404 0.90414854 0.86966031 0.62146793\n",
      "  0.94191346 0.163055   0.9931532  0.75985389]\n",
      " [0.70168911 0.4665259  0.11798187 0.45405084 0.27260098 0.72334475\n",
      "  0.5368021  0.62980792 0.65433091 0.79661343]\n",
      " [0.08824558 0.96405137 0.28108268 0.78599749 0.43590025 0.70920519\n",
      "  0.06356694 0.13065587 0.10062707 0.02438919]\n",
      " [0.52795071 0.78676696 0.30185463 0.67280545 0.54786202 0.15982858\n",
      "  0.26583389 0.01449582 0.1915434  0.04015453]\n",
      " [0.56551616 0.62551872 0.32241348 0.71521521 0.17648647 0.70827614\n",
      "  0.6521701  0.0227408  0.30020985 0.80330054]\n",
      " [0.288344   0.45746414 0.51473982 0.36689815 0.77436049 0.79224878\n",
      "  0.62725363 0.12183526 0.63180568 0.66614847]\n",
      " [0.24262112 0.4355217  0.61122507 0.90795459 0.67651223 0.73726109\n",
      "  0.33091534 0.39788008 0.19811652 0.42718048]]\n"
     ]
    },
    {
     "data": {
      "text/plain": [
       "0.9931531969262645"
      ]
     },
     "execution_count": 26,
     "metadata": {},
     "output_type": "execute_result"
    }
   ],
   "source": [
    "arr1 = np.random.rand(10,10)\n",
    "print(\"Array:\\n\",arr1)\n",
    "np.max(arr1)"
   ]
  },
  {
   "cell_type": "code",
   "execution_count": 27,
   "metadata": {},
   "outputs": [
    {
     "data": {
      "text/plain": [
       "0.014495823426909915"
      ]
     },
     "execution_count": 27,
     "metadata": {},
     "output_type": "execute_result"
    }
   ],
   "source": [
    "np.min(arr1)"
   ]
  },
  {
   "cell_type": "code",
   "execution_count": 28,
   "metadata": {},
   "outputs": [
    {
     "data": {
      "text/plain": [
       "array([[1., 1., 1., 1., 1., 1., 1., 1., 1., 1.],\n",
       "       [1., 0., 0., 0., 0., 0., 0., 0., 0., 1.],\n",
       "       [1., 0., 0., 0., 0., 0., 0., 0., 0., 1.],\n",
       "       [1., 0., 0., 0., 0., 0., 0., 0., 0., 1.],\n",
       "       [1., 0., 0., 0., 0., 0., 0., 0., 0., 1.],\n",
       "       [1., 0., 0., 0., 0., 0., 0., 0., 0., 1.],\n",
       "       [1., 0., 0., 0., 0., 0., 0., 0., 0., 1.],\n",
       "       [1., 0., 0., 0., 0., 0., 0., 0., 0., 1.],\n",
       "       [1., 0., 0., 0., 0., 0., 0., 0., 0., 1.],\n",
       "       [1., 1., 1., 1., 1., 1., 1., 1., 1., 1.]])"
      ]
     },
     "execution_count": 28,
     "metadata": {},
     "output_type": "execute_result"
    }
   ],
   "source": [
    "arr1 = np.ones((10,10))\n",
    "arr1[1:-1,1:-1] = 0\n",
    "arr1"
   ]
  },
  {
   "cell_type": "code",
   "execution_count": 29,
   "metadata": {},
   "outputs": [
    {
     "data": {
      "text/plain": [
       "array([[0, 0, 0, 0, 0],\n",
       "       [1, 0, 0, 0, 0],\n",
       "       [0, 2, 0, 0, 0],\n",
       "       [0, 0, 3, 0, 0],\n",
       "       [0, 0, 0, 4, 0]])"
      ]
     },
     "execution_count": 29,
     "metadata": {},
     "output_type": "execute_result"
    }
   ],
   "source": [
    "arr1 = np.zeros((5,5),dtype=int)\n",
    "np.fill_diagonal(arr1[1:],[1,2,3,4])\n",
    "arr1"
   ]
  },
  {
   "cell_type": "code",
   "execution_count": 30,
   "metadata": {},
   "outputs": [
    {
     "data": {
      "text/plain": [
       "array([[1., 0., 0.],\n",
       "       [0., 1., 0.],\n",
       "       [0., 0., 1.]])"
      ]
     },
     "execution_count": 30,
     "metadata": {},
     "output_type": "execute_result"
    }
   ],
   "source": [
    "arr1 = np.eye(3,3)\n",
    "arr1"
   ]
  },
  {
   "cell_type": "code",
   "execution_count": 31,
   "metadata": {},
   "outputs": [
    {
     "data": {
      "text/plain": [
       "array([[105,  93],\n",
       "       [ 78,  88],\n",
       "       [ 86,  93],\n",
       "       [ 86,  80],\n",
       "       [ 32,  33]])"
      ]
     },
     "execution_count": 31,
     "metadata": {},
     "output_type": "execute_result"
    }
   ],
   "source": [
    "arr1 = np.random.randint(1,10,size=(5,3))\n",
    "arr2 = np.random.randint(1,10,size=(3,2))\n",
    "result = np.dot(arr1, arr2)\n",
    "result"
   ]
  },
  {
   "cell_type": "code",
   "execution_count": 32,
   "metadata": {},
   "outputs": [
    {
     "name": "stdout",
     "output_type": "stream",
     "text": [
      "[ 1  2  3  4  5  6  7  8 44  9 33  6  5 10]\n"
     ]
    },
    {
     "data": {
      "text/plain": [
       "array([ 1,  2, -3, -4, -5, -6, -7, -8, 44,  9, 33, -6, -5, 10])"
      ]
     },
     "execution_count": 32,
     "metadata": {},
     "output_type": "execute_result"
    }
   ],
   "source": [
    "arr1 = np.array([1,2,3,4,5,6,7,8,44,9,33,6,5,10])\n",
    "print(arr1)\n",
    "result = np.where((arr1 >= 3) & (arr1 <= 8) , -1*arr1 , arr1)\n",
    "result"
   ]
  },
  {
   "cell_type": "code",
   "execution_count": 33,
   "metadata": {},
   "outputs": [
    {
     "name": "stdout",
     "output_type": "stream",
     "text": [
      "Array:\n",
      " [[1.215413  2.654139 ]\n",
      " [3.4513056 5.2141555]]\n"
     ]
    },
    {
     "data": {
      "text/plain": [
       "array([[1.2, 2.7],\n",
       "       [3.5, 5.2]])"
      ]
     },
     "execution_count": 33,
     "metadata": {},
     "output_type": "execute_result"
    }
   ],
   "source": [
    "arr1 = np.array([[1.215413,2.654139],[3.4513056,5.2141555]])\n",
    "print(\"Array:\\n\",arr1)\n",
    "result = np.around(arr1,1)\n",
    "result"
   ]
  },
  {
   "cell_type": "code",
   "execution_count": 34,
   "metadata": {},
   "outputs": [
    {
     "name": "stdout",
     "output_type": "stream",
     "text": [
      "Array:\n",
      " [[1.215413  2.654139 ]\n",
      " [3.4513056 5.2141555]]\n"
     ]
    }
   ],
   "source": [
    "arr1 = np.array([[1.215413,2.654139],[3.4513056,5.2141555]])\n",
    "print(\"Array:\\n\",arr1)"
   ]
  },
  {
   "cell_type": "code",
   "execution_count": 35,
   "metadata": {},
   "outputs": [
    {
     "data": {
      "text/plain": [
       "array([[1., 2.],\n",
       "       [3., 5.]])"
      ]
     },
     "execution_count": 35,
     "metadata": {},
     "output_type": "execute_result"
    }
   ],
   "source": [
    "np.floor(arr1)"
   ]
  },
  {
   "cell_type": "code",
   "execution_count": 36,
   "metadata": {},
   "outputs": [
    {
     "data": {
      "text/plain": [
       "array([[2., 3.],\n",
       "       [4., 6.]])"
      ]
     },
     "execution_count": 36,
     "metadata": {},
     "output_type": "execute_result"
    }
   ],
   "source": [
    "np.ceil(arr1)"
   ]
  },
  {
   "cell_type": "code",
   "execution_count": 37,
   "metadata": {},
   "outputs": [
    {
     "data": {
      "text/plain": [
       "array([4, 5, 6])"
      ]
     },
     "execution_count": 37,
     "metadata": {},
     "output_type": "execute_result"
    }
   ],
   "source": [
    "arr1 = np.array([1,2,3,4,5,6])\n",
    "arr2 = np.array([4,5,6,7,8,9])\n",
    "result = np.intersect1d(arr1, arr2)\n",
    "result"
   ]
  },
  {
   "cell_type": "code",
   "execution_count": 38,
   "metadata": {},
   "outputs": [
    {
     "data": {
      "text/plain": [
       "array([0.11111111, 0.22222222, 0.33333333, 0.44444444, 0.55555556,\n",
       "       0.66666667, 0.77777778, 0.88888889])"
      ]
     },
     "execution_count": 38,
     "metadata": {},
     "output_type": "execute_result"
    }
   ],
   "source": [
    "arr1 = np.linspace(0,1,10)[1:-1]\n",
    "arr1"
   ]
  },
  {
   "cell_type": "code",
   "execution_count": 39,
   "metadata": {},
   "outputs": [
    {
     "name": "stdout",
     "output_type": "stream",
     "text": [
      "[7 9 3 1 3 8 6 7 8 3]\n"
     ]
    },
    {
     "data": {
      "text/plain": [
       "array([1, 3, 3, 3, 6, 7, 7, 8, 8, 9])"
      ]
     },
     "execution_count": 39,
     "metadata": {},
     "output_type": "execute_result"
    }
   ],
   "source": [
    "arr1 = np.random.randint(1,10,size=(10))\n",
    "print(arr1)\n",
    "result = np.sort(arr1)\n",
    "result"
   ]
  },
  {
   "cell_type": "code",
   "execution_count": 40,
   "metadata": {},
   "outputs": [
    {
     "name": "stdout",
     "output_type": "stream",
     "text": [
      "[[0. 0. 0. 0. 0.]\n",
      " [0. 0. 0. 0. 0.]\n",
      " [0. 0. 0. 0. 0.]\n",
      " [0. 0. 0. 0. 0.]\n",
      " [0. 0. 0. 0. 0.]]\n"
     ]
    },
    {
     "data": {
      "text/plain": [
       "array([[0., 1., 2., 3., 4.],\n",
       "       [0., 1., 2., 3., 4.],\n",
       "       [0., 1., 2., 3., 4.],\n",
       "       [0., 1., 2., 3., 4.],\n",
       "       [0., 1., 2., 3., 4.]])"
      ]
     },
     "execution_count": 40,
     "metadata": {},
     "output_type": "execute_result"
    }
   ],
   "source": [
    "arr1 = np.zeros((5,5))\n",
    "print(arr1)\n",
    "result = arr1 + np.arange(5)\n",
    "result"
   ]
  },
  {
   "cell_type": "code",
   "execution_count": 41,
   "metadata": {},
   "outputs": [
    {
     "name": "stdout",
     "output_type": "stream",
     "text": [
      "Both arrays are not equal\n"
     ]
    }
   ],
   "source": [
    "arr1 = np.random.randint(0,5,size=(5))\n",
    "arr2 = np.random.randint(0,5,size=(5))\n",
    "if np.equal == True:\n",
    "    print(\"Both arrays are equal\")\n",
    "else:\n",
    "    print(\"Both arrays are not equal\")"
   ]
  },
  {
   "cell_type": "code",
   "execution_count": 42,
   "metadata": {},
   "outputs": [
    {
     "data": {
      "text/plain": [
       "False"
      ]
     },
     "execution_count": 42,
     "metadata": {},
     "output_type": "execute_result"
    }
   ],
   "source": [
    "result = np.allclose(arr1, arr2)\n",
    "result"
   ]
  },
  {
   "cell_type": "code",
   "execution_count": 43,
   "metadata": {},
   "outputs": [
    {
     "name": "stdout",
     "output_type": "stream",
     "text": [
      "[2 4 3 2 0]\n",
      "\n"
     ]
    },
    {
     "data": {
      "text/plain": [
       "array([2, 0, 3, 2, 0])"
      ]
     },
     "execution_count": 43,
     "metadata": {},
     "output_type": "execute_result"
    }
   ],
   "source": [
    "arr1 = np.random.randint(0,5,size=(5))\n",
    "print(arr1)\n",
    "print()\n",
    "result = np.where(arr1 >= np.max(arr1) , 0 , arr1)\n",
    "result"
   ]
  },
  {
   "cell_type": "code",
   "execution_count": 44,
   "metadata": {},
   "outputs": [
    {
     "name": "stdout",
     "output_type": "stream",
     "text": [
      "1 2 3 4 5 6 7 8 9 "
     ]
    }
   ],
   "source": [
    "arr1 = np.array([[[1,2,3],[4,5,6],[7,8,9]]])\n",
    "for i in np.nditer(arr1):\n",
    "    print(i,end=\" \")"
   ]
  },
  {
   "cell_type": "code",
   "execution_count": 45,
   "metadata": {},
   "outputs": [
    {
     "name": "stdout",
     "output_type": "stream",
     "text": [
      "(0, 0) index has 1 values\n",
      "(0, 1) index has 2 values\n",
      "(0, 2) index has 3 values\n",
      "(1, 0) index has 4 values\n",
      "(1, 1) index has 5 values\n",
      "(1, 2) index has 6 values\n",
      "(2, 0) index has 7 values\n",
      "(2, 1) index has 8 values\n",
      "(2, 2) index has 9 values\n"
     ]
    }
   ],
   "source": [
    "arr1 = np.array([[1,2,3],[4,5,6],[7,8,9]])\n",
    "for index,value in np.ndenumerate(arr1):\n",
    "    print(f\"{index} index has {value} values\")"
   ]
  },
  {
   "cell_type": "code",
   "execution_count": 46,
   "metadata": {},
   "outputs": [
    {
     "name": "stdout",
     "output_type": "stream",
     "text": [
      "Array:\n",
      " [[7 1 4]\n",
      " [5 4 3]\n",
      " [6 1 6]]\n"
     ]
    },
    {
     "data": {
      "text/plain": [
       "array([[5, 4, 3],\n",
       "       [7, 1, 4],\n",
       "       [6, 1, 6]])"
      ]
     },
     "execution_count": 46,
     "metadata": {},
     "output_type": "execute_result"
    }
   ],
   "source": [
    "arr1 = np.random.randint(1,10,size=(3,3))\n",
    "print(\"Array:\\n\",arr1)\n",
    "result = (arr1[arr1[:,2].argsort()])\n",
    "result"
   ]
  },
  {
   "cell_type": "code",
   "execution_count": 48,
   "metadata": {},
   "outputs": [
    {
     "name": "stdout",
     "output_type": "stream",
     "text": [
      "Array:\n",
      " [[4 3 1]\n",
      " [5 8 9]\n",
      " [3 4 5]]\n"
     ]
    },
    {
     "data": {
      "text/plain": [
       "array([[3, 4, 5],\n",
       "       [5, 8, 9],\n",
       "       [4, 3, 1]])"
      ]
     },
     "execution_count": 48,
     "metadata": {},
     "output_type": "execute_result"
    }
   ],
   "source": [
    "arr1 = np.array([[4,3,1],[5,8,9],[3,4,5]])\n",
    "print(\"Array:\\n\",arr1)\n",
    "arr1[[0,2]] = arr1[[2,0]]\n",
    "arr1"
   ]
  },
  {
   "cell_type": "code",
   "execution_count": 49,
   "metadata": {},
   "outputs": [
    {
     "data": {
      "text/plain": [
       "5.5"
      ]
     },
     "execution_count": 49,
     "metadata": {},
     "output_type": "execute_result"
    }
   ],
   "source": [
    "arr1 = np.array([1,2,3,4,5,6,7,8,9,10])\n",
    "result = np.mean(arr1)\n",
    "result"
   ]
  },
  {
   "cell_type": "code",
   "execution_count": 50,
   "metadata": {},
   "outputs": [
    {
     "data": {
      "text/plain": [
       "5.5"
      ]
     },
     "execution_count": 50,
     "metadata": {},
     "output_type": "execute_result"
    }
   ],
   "source": [
    "result = np.median(arr1)\n",
    "result"
   ]
  },
  {
   "cell_type": "code",
   "execution_count": 51,
   "metadata": {},
   "outputs": [
    {
     "data": {
      "text/plain": [
       "2.8722813232690143"
      ]
     },
     "execution_count": 51,
     "metadata": {},
     "output_type": "execute_result"
    }
   ],
   "source": [
    "result = np.std(arr1)\n",
    "result"
   ]
  },
  {
   "cell_type": "code",
   "execution_count": 52,
   "metadata": {},
   "outputs": [
    {
     "data": {
      "text/plain": [
       "ModeResult(mode=1, count=1)"
      ]
     },
     "execution_count": 52,
     "metadata": {},
     "output_type": "execute_result"
    }
   ],
   "source": [
    "from scipy.stats import mode\n",
    "result = mode(arr1)\n",
    "result"
   ]
  },
  {
   "cell_type": "code",
   "execution_count": 53,
   "metadata": {},
   "outputs": [
    {
     "data": {
      "text/plain": [
       "4.43"
      ]
     },
     "execution_count": 53,
     "metadata": {},
     "output_type": "execute_result"
    }
   ],
   "source": [
    "result = np.around(4.4324,2)\n",
    "result"
   ]
  },
  {
   "cell_type": "code",
   "execution_count": 54,
   "metadata": {},
   "outputs": [
    {
     "name": "stdout",
     "output_type": "stream",
     "text": [
      "Array:\n",
      " [[2 3]\n",
      " [3 4]]\n"
     ]
    },
    {
     "data": {
      "text/plain": [
       "array([[-4.,  3.],\n",
       "       [ 3., -2.]])"
      ]
     },
     "execution_count": 54,
     "metadata": {},
     "output_type": "execute_result"
    }
   ],
   "source": [
    "arr1 = np.array([[2,3],[3,4]])\n",
    "print(\"Array:\\n\",arr1)\n",
    "result = np.linalg.inv(arr1)\n",
    "result"
   ]
  },
  {
   "cell_type": "code",
   "execution_count": 55,
   "metadata": {},
   "outputs": [
    {
     "data": {
      "text/plain": [
       "array([[1., 1.],\n",
       "       [1., 1.]])"
      ]
     },
     "execution_count": 55,
     "metadata": {},
     "output_type": "execute_result"
    }
   ],
   "source": [
    "x = np.array([1,2,3])\n",
    "y = np.array([4,5,6])\n",
    "result = np.cov(x,y)\n",
    "result"
   ]
  },
  {
   "cell_type": "code",
   "execution_count": 56,
   "metadata": {},
   "outputs": [
    {
     "data": {
      "text/plain": [
       "6"
      ]
     },
     "execution_count": 56,
     "metadata": {},
     "output_type": "execute_result"
    }
   ],
   "source": [
    "arr1 = np.array([1,1,2,2,3,4,5,6,7,8,9,6,4,3,6,7])\n",
    "result = mode(arr1)[0]\n",
    "result"
   ]
  },
  {
   "cell_type": "code",
   "execution_count": 57,
   "metadata": {},
   "outputs": [
    {
     "name": "stdout",
     "output_type": "stream",
     "text": [
      "[ 1  2  3  4  5  6  7  8  9 10]\n"
     ]
    },
    {
     "data": {
      "text/plain": [
       "array([[[ 1],\n",
       "        [ 2],\n",
       "        [ 3],\n",
       "        [ 4],\n",
       "        [ 5]],\n",
       "\n",
       "       [[ 6],\n",
       "        [ 7],\n",
       "        [ 8],\n",
       "        [ 9],\n",
       "        [10]]])"
      ]
     },
     "execution_count": 57,
     "metadata": {},
     "output_type": "execute_result"
    }
   ],
   "source": [
    "arr1 = np.array([1,2,3,4,5,6,7,8,9,10])\n",
    "print(arr1)\n",
    "result = np.reshape(arr1,(2,5,1))\n",
    "result"
   ]
  },
  {
   "cell_type": "code",
   "execution_count": 58,
   "metadata": {},
   "outputs": [
    {
     "name": "stdout",
     "output_type": "stream",
     "text": [
      "Array:\n",
      " [[[[4 3 5 6]\n",
      "   [5 5 6 3]\n",
      "   [5 5 9 6]]\n",
      "\n",
      "  [[2 2 5 9]\n",
      "   [4 8 2 3]\n",
      "   [4 8 2 6]]]]\n"
     ]
    },
    {
     "data": {
      "text/plain": [
       "array([[4, 3, 5, 6],\n",
       "       [5, 5, 6, 3],\n",
       "       [5, 5, 9, 6],\n",
       "       [2, 2, 5, 9],\n",
       "       [4, 8, 2, 3],\n",
       "       [4, 8, 2, 6]])"
      ]
     },
     "execution_count": 58,
     "metadata": {},
     "output_type": "execute_result"
    }
   ],
   "source": [
    "arr1 = np.random.randint(1,10,size=(1,2,3,4))\n",
    "print(\"Array:\\n\",arr1)\n",
    "result = np.reshape(arr1,(6,4))\n",
    "result"
   ]
  },
  {
   "cell_type": "code",
   "execution_count": 59,
   "metadata": {},
   "outputs": [
    {
     "name": "stdout",
     "output_type": "stream",
     "text": [
      "Array:\n",
      " [0 0 0 0 0 0 0 0 0 0]\n"
     ]
    }
   ],
   "source": [
    "arr1 = np.zeros(10,dtype=int)\n",
    "print(\"Array:\\n\",arr1)"
   ]
  },
  {
   "cell_type": "code",
   "execution_count": 60,
   "metadata": {},
   "outputs": [
    {
     "name": "stdout",
     "output_type": "stream",
     "text": [
      "Array:\n",
      " [[1 2 3 4]\n",
      " [5 6 8 7]\n",
      " [3 4 5 6]]\n",
      "(3, 4)\n"
     ]
    }
   ],
   "source": [
    "arr1 = np.array([[1,2,3,4],[5,6,8,7],[3,4,5,6]])\n",
    "print(\"Array:\\n\",arr1)\n",
    "print(arr1.shape)"
   ]
  },
  {
   "cell_type": "code",
   "execution_count": null,
   "metadata": {},
   "outputs": [],
   "source": []
  }
 ],
 "metadata": {
  "kernelspec": {
   "display_name": "Abhishek",
   "language": "python",
   "name": "python3"
  },
  "language_info": {
   "codemirror_mode": {
    "name": "ipython",
    "version": 3
   },
   "file_extension": ".py",
   "mimetype": "text/x-python",
   "name": "python",
   "nbconvert_exporter": "python",
   "pygments_lexer": "ipython3",
   "version": "3.11.3"
  }
 },
 "nbformat": 4,
 "nbformat_minor": 2
}
