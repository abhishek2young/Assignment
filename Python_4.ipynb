{
 "cells": [
  {
   "cell_type": "code",
   "execution_count": 1,
   "metadata": {},
   "outputs": [
    {
     "name": "stdout",
     "output_type": "stream",
     "text": [
      "Data Science:\n",
      "    It is an Interdisciplinary field that uses Scientific methods, processes, algorithms and systems to extract knowledge\n",
      "    and insights from noisy, structured and unstructured data, and apply knowledge from data across a broad range of \n",
      "    application domains.1st:- Data Science\n",
      " 2nd:- Machine Learning\n",
      " 3rd:- Deep Learning\n",
      " 4th:- Natural Language Processing1st:- Data Science\n",
      " 2nd:- Machine Learning\n",
      " 3rd:- Deep Learning\n",
      " 4th:- Natural Language Processing1st:- Data Science\n",
      " 2nd:- Machine Learning\n",
      " 3rd:- Deep Learning\n",
      " 4th:- Natural Language Processing1st:- Data Science\n",
      " 2nd:- Machine Learning\n",
      " 3rd:- Deep Learning\n",
      " 4th:- Natural Language Processing\n"
     ]
    }
   ],
   "source": [
    "with open(\"Abhishek.txt\",\"r\")as f:\n",
    "    result = f.read()\n",
    "    print(result)"
   ]
  },
  {
   "cell_type": "code",
   "execution_count": 2,
   "metadata": {},
   "outputs": [
    {
     "name": "stdout",
     "output_type": "stream",
     "text": [
      "Data Science:\n",
      "\n"
     ]
    }
   ],
   "source": [
    "with open(\"Abhishek.txt\",\"r\")as f:\n",
    "    result = f.readline()\n",
    "    print(result)"
   ]
  },
  {
   "cell_type": "code",
   "execution_count": 3,
   "metadata": {},
   "outputs": [],
   "source": [
    "text = \"\"\"1st:- Data Science\n",
    " 2nd:- Machine Learning\n",
    " 3rd:- Deep Learning\n",
    " 4th:- Natural Language Processing\"\"\"\n",
    "with open(\"Abhishek.txt\",\"a\")as f:\n",
    "    f.write(text)\n",
    "    f.close()\n"
   ]
  },
  {
   "cell_type": "code",
   "execution_count": 4,
   "metadata": {},
   "outputs": [
    {
     "name": "stdout",
     "output_type": "stream",
     "text": [
      "Data Science:\n",
      "    It is an Interdisciplinary field that uses Scientific methods, processes, algorithms and systems to extract knowledge\n",
      "    and insights from noisy, structured and unstructured data, and apply knowledge from data across a broad range of \n",
      "    application domains.1st:- Data Science\n",
      " 2nd:- Machine Learning\n",
      " 3rd:- Deep Learning\n",
      " 4th:- Natural Language Processing1st:- Data Science\n",
      " 2nd:- Machine Learning\n",
      " 3rd:- Deep Learning\n",
      " 4th:- Natural Language Processing1st:- Data Science\n",
      " 2nd:- Machine Learning\n",
      " 3rd:- Deep Learning\n",
      " 4th:- Natural Language Processing1st:- Data Science\n",
      " 2nd:- Machine Learning\n",
      " 3rd:- Deep Learning\n",
      " 4th:- Natural Language Processing1st:- Data Science\n",
      " 2nd:- Machine Learning\n",
      " 3rd:- Deep Learning\n",
      " 4th:- Natural Language Processing\n"
     ]
    }
   ],
   "source": [
    "with open(\"Abhishek.txt\",\"r\")as f:\n",
    "    result = f.read()\n",
    "    print(result)"
   ]
  },
  {
   "cell_type": "code",
   "execution_count": 5,
   "metadata": {},
   "outputs": [
    {
     "name": "stdout",
     "output_type": "stream",
     "text": [
      "[' 3rd:- Deep Learning\\n', ' 4th:- Natural Language Processing']\n"
     ]
    }
   ],
   "source": [
    "with open(\"Abhishek.txt\",\"r\")as f:\n",
    "    result = f.readlines()\n",
    "    final = result[-2:]\n",
    "    print(final)"
   ]
  },
  {
   "cell_type": "code",
   "execution_count": 6,
   "metadata": {},
   "outputs": [
    {
     "name": "stdout",
     "output_type": "stream",
     "text": [
      "['Data Science:\\n', '    It is an Interdisciplinary field that uses Scientific methods, processes, algorithms and systems to extract knowledge\\n', '    and insights from noisy, structured and unstructured data, and apply knowledge from data across a broad range of \\n', '    application domains.1st:- Data Science\\n', ' 2nd:- Machine Learning\\n', ' 3rd:- Deep Learning\\n', ' 4th:- Natural Language Processing1st:- Data Science\\n', ' 2nd:- Machine Learning\\n', ' 3rd:- Deep Learning\\n', ' 4th:- Natural Language Processing1st:- Data Science\\n', ' 2nd:- Machine Learning\\n', ' 3rd:- Deep Learning\\n', ' 4th:- Natural Language Processing1st:- Data Science\\n', ' 2nd:- Machine Learning\\n', ' 3rd:- Deep Learning\\n', ' 4th:- Natural Language Processing1st:- Data Science\\n', ' 2nd:- Machine Learning\\n', ' 3rd:- Deep Learning\\n', ' 4th:- Natural Language Processing']\n"
     ]
    }
   ],
   "source": [
    "with open(\"Abhishek.txt\",\"r\")as f:\n",
    "    result = f.readlines()\n",
    "    print(result)"
   ]
  },
  {
   "cell_type": "code",
   "execution_count": 7,
   "metadata": {},
   "outputs": [
    {
     "name": "stdout",
     "output_type": "stream",
     "text": [
      "19\n"
     ]
    }
   ],
   "source": [
    "with open(\"Abhishek.txt\",\"r\")as f:\n",
    "    result = f.readlines()\n",
    "    print(len(result))"
   ]
  },
  {
   "cell_type": "code",
   "execution_count": 8,
   "metadata": {},
   "outputs": [
    {
     "name": "stdout",
     "output_type": "stream",
     "text": [
      "768\n"
     ]
    }
   ],
   "source": [
    "with open(\"Abhishek.txt\",\"r\")as f:\n",
    "    result = f.read()\n",
    "    print(len(result))"
   ]
  },
  {
   "cell_type": "code",
   "execution_count": 9,
   "metadata": {},
   "outputs": [
    {
     "data": {
      "text/plain": [
       "'Abhi.txt'"
      ]
     },
     "execution_count": 9,
     "metadata": {},
     "output_type": "execute_result"
    }
   ],
   "source": [
    "import shutil\n",
    "shutil.copy(\"Abhishek.txt\",\"Abhi.txt\")"
   ]
  },
  {
   "cell_type": "code",
   "execution_count": 11,
   "metadata": {},
   "outputs": [
    {
     "name": "stdout",
     "output_type": "stream",
     "text": [
      "Data Science:\n",
      "    It is an Interdisciplinary field that uses Scientific methods, processes, algorithms and systems to extract knowledge\n",
      "    and insights from noisy, structured and unstructured data, and apply knowledge from data across a broad range of \n",
      "    application domains.1st:- Data Science\n",
      " 2nd:- Machine Learning\n",
      " 3rd:- Deep Learning\n",
      " 4th:- Natural Language Processing1st:- Data Science\n",
      " 2nd:- Machine Learning\n",
      " 3rd:- Deep Learning\n",
      " 4th:- Natural Language Processing1st:- Data Science\n",
      " 2nd:- Machine Learning\n",
      " 3rd:- Deep Learning\n",
      " 4th:- Natural Language Processing1st:- Data Science\n",
      " 2nd:- Machine Learning\n",
      " 3rd:- Deep Learning\n",
      " 4th:- Natural Language Processing1st:- Data Science\n",
      " 2nd:- Machine Learning\n",
      " 3rd:- Deep Learning\n",
      " 4th:- Natural Language Processing\n"
     ]
    }
   ],
   "source": [
    "with open(\"Abhi.txt\",\"r\") as f:\n",
    "    result = f.read()\n",
    "    print(result)"
   ]
  },
  {
   "cell_type": "code",
   "execution_count": 12,
   "metadata": {},
   "outputs": [
    {
     "name": "stdout",
     "output_type": "stream",
     "text": [
      "Current datetime:  2024-07-08 07:18:02.759697\n",
      "Current year:  2024\n",
      "Month of year:  July\n",
      "Week number:  27\n",
      "Week day:  Monday\n",
      "Day of year:  190\n",
      "Day of month:  08\n"
     ]
    }
   ],
   "source": [
    "from datetime import datetime\n",
    "\n",
    "current_datetime = datetime.now()\n",
    "print(\"Current datetime: \",current_datetime)\n",
    "\n",
    "current_year = current_datetime.year\n",
    "print(\"Current year: \",current_year)\n",
    "\n",
    "month_of_year = current_datetime.strftime(\"%B\")\n",
    "print(\"Month of year: \",month_of_year)\n",
    "\n",
    "week_number = current_datetime.strftime(\"%U\")\n",
    "print(\"Week number: \",week_number)\n",
    "\n",
    "weekday = current_datetime.strftime(\"%A\")\n",
    "print(\"Week day: \",weekday)\n",
    "\n",
    "day_of_year = current_datetime.strftime(\"%j\")\n",
    "print(\"Day of year: \",day_of_year)\n",
    "\n",
    "day_of_month = current_datetime.strftime(\"%d\")\n",
    "print(\"Day of month: \",day_of_month)\n",
    "\n"
   ]
  },
  {
   "cell_type": "code",
   "execution_count": 13,
   "metadata": {},
   "outputs": [
    {
     "name": "stdout",
     "output_type": "stream",
     "text": [
      "2026 is not a leap year\n"
     ]
    }
   ],
   "source": [
    "year = int(input(\"Enter a year:\"))\n",
    "\n",
    "if (year % 4 == 0 and year % 100 != 0) or (year % 400 == 0):\n",
    "    print(f\"{year} is a leap year\")\n",
    "else:\n",
    "    print(f\"{year} is not a leap year\")"
   ]
  },
  {
   "cell_type": "code",
   "execution_count": 15,
   "metadata": {},
   "outputs": [
    {
     "name": "stdout",
     "output_type": "stream",
     "text": [
      "2014-01-01 14:43:00\n"
     ]
    }
   ],
   "source": [
    "date_format = \"jan 1 2014 2:43PM\"\n",
    "date1 = \"%b %d %Y %I:%M%p\"\n",
    "result = datetime.strptime(date_format,date1)\n",
    "print(result)"
   ]
  },
  {
   "cell_type": "code",
   "execution_count": 16,
   "metadata": {},
   "outputs": [],
   "source": [
    "from datetime import timedelta"
   ]
  },
  {
   "cell_type": "code",
   "execution_count": 18,
   "metadata": {},
   "outputs": [
    {
     "name": "stdout",
     "output_type": "stream",
     "text": [
      "2024-07-03 07:44:16.256132\n"
     ]
    }
   ],
   "source": [
    "current_datetime = datetime.now()\n",
    "result = current_datetime + timedelta(days=-5)\n",
    "print(result)"
   ]
  },
  {
   "cell_type": "code",
   "execution_count": 20,
   "metadata": {},
   "outputs": [
    {
     "name": "stdout",
     "output_type": "stream",
     "text": [
      "Date of yesterday:  2024-07-07 07:47:03.575357\n",
      "Date of Today:  2024-07-08 07:47:03.575866\n",
      "Date of tomorrow:  2024-07-09 07:47:03.575866\n"
     ]
    }
   ],
   "source": [
    "result = datetime.now() + timedelta(days=-1)\n",
    "print(\"Date of yesterday: \", result)\n",
    "result = datetime.now() + timedelta(days=0)\n",
    "print(\"Date of Today: \", result)\n",
    "result = datetime.now() + timedelta(days=+1)\n",
    "print(\"Date of tomorrow: \", result)"
   ]
  },
  {
   "cell_type": "code",
   "execution_count": 21,
   "metadata": {},
   "outputs": [
    {
     "name": "stdout",
     "output_type": "stream",
     "text": [
      "Current date:  2024-07-08\n"
     ]
    }
   ],
   "source": [
    "current_datetime = datetime.now().date()\n",
    "print(\"Current date: \", current_datetime)"
   ]
  },
  {
   "cell_type": "code",
   "execution_count": 22,
   "metadata": {},
   "outputs": [
    {
     "name": "stdout",
     "output_type": "stream",
     "text": [
      "Next 5 days starting from now:  2024-07-08\n",
      "Next 5 days starting from now:  2024-07-09\n",
      "Next 5 days starting from now:  2024-07-10\n",
      "Next 5 days starting from now:  2024-07-11\n",
      "Next 5 days starting from now:  2024-07-12\n"
     ]
    }
   ],
   "source": [
    "for i in range(5):\n",
    "    result = current_datetime + timedelta(days=i)\n",
    "    print(\"Next 5 days starting from now: \", result)"
   ]
  },
  {
   "cell_type": "code",
   "execution_count": 23,
   "metadata": {},
   "outputs": [
    {
     "name": "stdout",
     "output_type": "stream",
     "text": [
      "Current date:  2024-07-08 07:52:13.879273\n",
      "Date without microsecond:  2024-07-08 07:52:13\n"
     ]
    }
   ],
   "source": [
    "current_datetime = datetime.now()\n",
    "print(\"Current date: \", current_datetime)\n",
    "result = current_datetime.replace(microsecond=0)\n",
    "print(\"Date without microsecond: \", result)"
   ]
  },
  {
   "cell_type": "code",
   "execution_count": 24,
   "metadata": {},
   "outputs": [
    {
     "name": "stdout",
     "output_type": "stream",
     "text": [
      "2024-08-12 00:00:00\n",
      "Mon 12 Aug 2024 32\n"
     ]
    }
   ],
   "source": [
    "result = datetime(2024,8,12)\n",
    "print(result)\n",
    "final = result.strftime(\"%a %d %b %Y %U\")\n",
    "print(final)"
   ]
  },
  {
   "cell_type": "code",
   "execution_count": 25,
   "metadata": {},
   "outputs": [
    {
     "name": "stdout",
     "output_type": "stream",
     "text": [
      "He is a smart boy\n"
     ]
    }
   ],
   "source": [
    "import os \n",
    "with open(\"Pablo.txt\",\"w\")as f:\n",
    "    f.write(\"He is a smart boy\")\n",
    "    f.close()\n",
    "\n",
    "with open(\"Pablo.txt\",\"r\")as f:\n",
    "    result = f.read()\n",
    "    print(result)"
   ]
  },
  {
   "cell_type": "code",
   "execution_count": 26,
   "metadata": {},
   "outputs": [],
   "source": [
    "os.rename(\"Pablo.txt\",\"Escobar.txt\")"
   ]
  },
  {
   "cell_type": "code",
   "execution_count": 27,
   "metadata": {},
   "outputs": [
    {
     "data": {
      "text/plain": [
       "'d:\\\\Assignment'"
      ]
     },
     "execution_count": 27,
     "metadata": {},
     "output_type": "execute_result"
    }
   ],
   "source": [
    "os.getcwd()"
   ]
  },
  {
   "cell_type": "code",
   "execution_count": 28,
   "metadata": {},
   "outputs": [
    {
     "data": {
      "text/plain": [
       "['.git',\n",
       " 'Abhi.txt',\n",
       " 'Abhishek.txt',\n",
       " 'Adaboost_Ass.ipynb',\n",
       " 'Assignment_1.ipynb',\n",
       " 'Assignment_10.ipynb',\n",
       " 'Assignment_11.ipynb',\n",
       " 'Assignment_12.ipynb',\n",
       " 'Assignment_2.ipynb',\n",
       " 'Assignment_3.ipynb',\n",
       " 'Assignment_4.ipynb',\n",
       " 'Assignment_6.ipynb',\n",
       " 'Assignment_7.ipynb',\n",
       " 'Assignment_8.ipynb',\n",
       " 'Assignment_9.ipynb',\n",
       " 'Assignment_DT.ipynb',\n",
       " 'Assignment_KNN.ipynb',\n",
       " 'autos_dataset.csv',\n",
       " 'Bengaluru_House_Data.csv',\n",
       " 'Book2.csv',\n",
       " 'Boston.csv',\n",
       " 'deadshot.txt',\n",
       " 'diabetes.csv',\n",
       " 'Emp_data.csv',\n",
       " 'Emp_Records.xlsx',\n",
       " 'emp_test1.csv',\n",
       " 'Escobar.txt',\n",
       " 'heart.csv',\n",
       " 'Iris.csv',\n",
       " 'Linear_reg_theory.ipynb',\n",
       " 'loan_data.csv',\n",
       " 'Logistic_reg_assignment.ipynb',\n",
       " 'movies_data.csv',\n",
       " 'NLP_lec2.ipynb',\n",
       " 'python_1.ipynb',\n",
       " 'Python_2.ipynb',\n",
       " 'python_3.ipynb',\n",
       " 'Python_4.ipynb',\n",
       " 'README.md',\n",
       " 'Sample1.xlsx',\n",
       " 'Social_Network_Ads.csv',\n",
       " 'student.csv',\n",
       " 'titanic.csv',\n",
       " 'weather.csv']"
      ]
     },
     "execution_count": 28,
     "metadata": {},
     "output_type": "execute_result"
    }
   ],
   "source": [
    "os.listdir()"
   ]
  },
  {
   "cell_type": "code",
   "execution_count": 29,
   "metadata": {},
   "outputs": [
    {
     "name": "stdout",
     "output_type": "stream",
     "text": [
      "hello\n"
     ]
    }
   ],
   "source": [
    "try:\n",
    "    print(\"hello\")\n",
    "except:\n",
    "    print(\"Bye\")"
   ]
  },
  {
   "cell_type": "code",
   "execution_count": 1,
   "metadata": {},
   "outputs": [
    {
     "data": {
      "text/plain": [
       "['P',\n",
       " 'y',\n",
       " 't',\n",
       " 'h',\n",
       " 'o',\n",
       " 'n',\n",
       " 'a',\n",
       " 'n',\n",
       " 'd',\n",
       " 'M',\n",
       " 'a',\n",
       " 'c',\n",
       " 'h',\n",
       " 'i',\n",
       " 'n',\n",
       " 'e',\n",
       " 'L',\n",
       " 'e',\n",
       " 'a',\n",
       " 'r',\n",
       " 'n',\n",
       " 'i',\n",
       " 'n',\n",
       " 'g',\n",
       " '7',\n",
       " '7',\n",
       " '4',\n",
       " '1',\n",
       " 'i',\n",
       " 's',\n",
       " 's',\n",
       " 'y',\n",
       " 'l',\n",
       " 'l',\n",
       " 'a',\n",
       " 'b',\n",
       " 'u',\n",
       " 's',\n",
       " 'o',\n",
       " 'f',\n",
       " 'D',\n",
       " 'a',\n",
       " 't',\n",
       " 'a',\n",
       " 'S',\n",
       " 'c',\n",
       " 'i',\n",
       " 'e',\n",
       " 'n',\n",
       " 'c',\n",
       " 'e']"
      ]
     },
     "execution_count": 1,
     "metadata": {},
     "output_type": "execute_result"
    }
   ],
   "source": [
    "import re\n",
    "string = \"Python and Machine Learning 7741 is syllabus of Data Science.\"\n",
    "result = re.findall(r\"[a-zA-Z0-9]\",string)\n",
    "result"
   ]
  },
  {
   "cell_type": "code",
   "execution_count": 2,
   "metadata": {},
   "outputs": [
    {
     "data": {
      "text/plain": [
       "['Python ',\n",
       " ' Machine Learning is syllabus of data science ',\n",
       " ' deep learning.']"
      ]
     },
     "execution_count": 2,
     "metadata": {},
     "output_type": "execute_result"
    }
   ],
   "source": [
    "string = \"Python and Machine Learning is syllabus of data science and deep learning.\"\n",
    "result = re.split(r\"and\",string)\n",
    "result"
   ]
  },
  {
   "cell_type": "code",
   "execution_count": 3,
   "metadata": {},
   "outputs": [
    {
     "data": {
      "text/plain": [
       "['and']"
      ]
     },
     "execution_count": 3,
     "metadata": {},
     "output_type": "execute_result"
    }
   ],
   "source": [
    "str1='Python and Data Science Batch 2023'\n",
    "result = re.findall(r\"\\ba..\\b\",str1)\n",
    "result"
   ]
  },
  {
   "cell_type": "code",
   "execution_count": 4,
   "metadata": {},
   "outputs": [
    {
     "data": {
      "text/plain": [
       "['and']"
      ]
     },
     "execution_count": 4,
     "metadata": {},
     "output_type": "execute_result"
    }
   ],
   "source": [
    "str1='Python and Data Science Batch 2023'\n",
    "result = re.findall(r\"\\bab*[a-z]*\\b\",str1)\n",
    "result"
   ]
  },
  {
   "cell_type": "code",
   "execution_count": 5,
   "metadata": {},
   "outputs": [
    {
     "data": {
      "text/plain": [
       "['123 45', '678 90']"
      ]
     },
     "execution_count": 5,
     "metadata": {},
     "output_type": "execute_result"
    }
   ],
   "source": [
    "sample_string = \"There are 123 45 678 90 2345 67 12 345 6789 0123 three-digit\"\n",
    "result = re.findall(r\"\\b\\d{3}\\s\\d{2}\\b\",sample_string)\n",
    "result"
   ]
  },
  {
   "cell_type": "code",
   "execution_count": 6,
   "metadata": {},
   "outputs": [
    {
     "data": {
      "text/plain": [
       "['p', 'p', 'p', 'p', 'p']"
      ]
     },
     "execution_count": 6,
     "metadata": {},
     "output_type": "execute_result"
    }
   ],
   "source": [
    "str1= \"python and data pytthon science pythonnn pyyth annd pythh\"\n",
    "result = re.findall(r\"p+\",str1)\n",
    "result"
   ]
  },
  {
   "cell_type": "code",
   "execution_count": 7,
   "metadata": {},
   "outputs": [
    {
     "data": {
      "text/plain": [
       "['INFORM', 'inform']"
      ]
     },
     "execution_count": 7,
     "metadata": {},
     "output_type": "execute_result"
    }
   ],
   "source": [
    "str1 = 'We can write INFORM in lowercase as inform'\n",
    "result = re.findall(r\"INFORM|inform\",str1)\n",
    "result"
   ]
  },
  {
   "cell_type": "code",
   "execution_count": 8,
   "metadata": {},
   "outputs": [
    {
     "data": {
      "text/plain": [
       "['py', 'py']"
      ]
     },
     "execution_count": 8,
     "metadata": {},
     "output_type": "execute_result"
    }
   ],
   "source": [
    "str1= \" data science and pytthon science abbbss and pyt\"\n",
    "result = re.findall(r\"py?\",str1)\n",
    "result"
   ]
  },
  {
   "cell_type": "code",
   "execution_count": 9,
   "metadata": {},
   "outputs": [
    {
     "data": {
      "text/plain": [
       "['pbbbtthon', 'pytbbbonnn']"
      ]
     },
     "execution_count": 9,
     "metadata": {},
     "output_type": "execute_result"
    }
   ],
   "source": [
    "str1= \"python and data pbbbtthon science pytbbbonnn and pyt\"\n",
    "result = re.findall(r\"\\b\\w*[b]{3}\\w*\\b\",str1)\n",
    "result"
   ]
  },
  {
   "cell_type": "code",
   "execution_count": 10,
   "metadata": {},
   "outputs": [
    {
     "data": {
      "text/plain": [
       "['abbbs', 'abbbsolutely', 'abbrivation']"
      ]
     },
     "execution_count": 10,
     "metadata": {},
     "output_type": "execute_result"
    }
   ],
   "source": [
    "str1= \"abbbs and data abbbsolutely science abbrivation and pyt\"\n",
    "result = re.findall(r\"\\b\\w*[b]{2,3}\\w*\\b\",str1)\n",
    "result"
   ]
  },
  {
   "cell_type": "code",
   "execution_count": 11,
   "metadata": {},
   "outputs": [
    {
     "data": {
      "text/plain": [
       "['abbbs', 'and', 'data', 'and', 'pyt']"
      ]
     },
     "execution_count": 11,
     "metadata": {},
     "output_type": "execute_result"
    }
   ],
   "source": [
    "str1= \"abbbs and data abbbsolutely or science an abbrivation and pyt\"\n",
    "result = re.findall(r\"\\b\\w{3,5}\\b\",str1)\n",
    "result"
   ]
  },
  {
   "cell_type": "code",
   "execution_count": 12,
   "metadata": {},
   "outputs": [
    {
     "data": {
      "text/plain": [
       "['science_', 'abbrivation_', 'pyt_']"
      ]
     },
     "execution_count": 12,
     "metadata": {},
     "output_type": "execute_result"
    }
   ],
   "source": [
    "str1= \"abbbs and data abbbsolutely or science_ an abbrivation_ and pyt_\"\n",
    "result = re.findall(r\"[a-z]+[_]\",str1)\n",
    "result"
   ]
  },
  {
   "cell_type": "code",
   "execution_count": 13,
   "metadata": {},
   "outputs": [
    {
     "data": {
      "text/plain": [
       "['Abbbs', 'Data', 'Abbbsolutely', 'Science', 'Abbrivation']"
      ]
     },
     "execution_count": 13,
     "metadata": {},
     "output_type": "execute_result"
    }
   ],
   "source": [
    "str1= \"Abbbs and Data Abbbsolutely or Science_ an Abbrivation_ and pyt_\"\n",
    "result = re.findall(r\"[A-Z][a-z]+\",str1)\n",
    "result"
   ]
  },
  {
   "cell_type": "code",
   "execution_count": 14,
   "metadata": {},
   "outputs": [
    {
     "data": {
      "text/plain": [
       "['absorb']"
      ]
     },
     "execution_count": 14,
     "metadata": {},
     "output_type": "execute_result"
    }
   ],
   "source": [
    "str1= \"data absorb Science and Abbrivation and pyt\"\n",
    "result = re.findall(r\"\\ba.+b\\b\",str1)\n",
    "result"
   ]
  },
  {
   "cell_type": "code",
   "execution_count": 15,
   "metadata": {},
   "outputs": [
    {
     "data": {
      "text/plain": [
       "['Suceess']"
      ]
     },
     "execution_count": 15,
     "metadata": {},
     "output_type": "execute_result"
    }
   ],
   "source": [
    "str1 = 'Suceess is a jurney not a desti9nation.'\n",
    "result = re.findall(r\"Suceess\",str1)\n",
    "result"
   ]
  },
  {
   "cell_type": "code",
   "execution_count": 16,
   "metadata": {},
   "outputs": [
    {
     "data": {
      "text/plain": [
       "['LIFE .']"
      ]
     },
     "execution_count": 16,
     "metadata": {},
     "output_type": "execute_result"
    }
   ],
   "source": [
    "str1 = 'new begening of LIFE .'\n",
    "result = re.findall(r\"LIFE .\",str1)\n",
    "result"
   ]
  },
  {
   "cell_type": "code",
   "execution_count": 17,
   "metadata": {},
   "outputs": [
    {
     "data": {
      "text/plain": [
       "['lazy']"
      ]
     },
     "execution_count": 17,
     "metadata": {},
     "output_type": "execute_result"
    }
   ],
   "source": [
    "str1 = \"today is the very lazy day\"\n",
    "result = re.findall(r\"\\b\\w*z\\w\\b\",str1)\n",
    "result"
   ]
  },
  {
   "cell_type": "code",
   "execution_count": 18,
   "metadata": {},
   "outputs": [
    {
     "data": {
      "text/plain": [
       "['lazy']"
      ]
     },
     "execution_count": 18,
     "metadata": {},
     "output_type": "execute_result"
    }
   ],
   "source": [
    "str1 = \"we have a lazy cat\"\n",
    "result = re.findall(r\"[a-y]*z[a-y]\",str1)\n",
    "result"
   ]
  },
  {
   "cell_type": "code",
   "execution_count": 19,
   "metadata": {},
   "outputs": [
    {
     "data": {
      "text/plain": [
       "['RudrANSHI_12345_wadekar']"
      ]
     },
     "execution_count": 19,
     "metadata": {},
     "output_type": "execute_result"
    }
   ],
   "source": [
    "str1 = \"RudrANSHI_12345_wadekar\"\n",
    "result = re.findall(r\"\\w{1,}\",str1)\n",
    "result"
   ]
  },
  {
   "cell_type": "code",
   "execution_count": 20,
   "metadata": {},
   "outputs": [
    {
     "data": {
      "text/plain": [
       "['9']"
      ]
     },
     "execution_count": 20,
     "metadata": {},
     "output_type": "execute_result"
    }
   ],
   "source": [
    "str1 = \"9821 maya\"\n",
    "result = re.findall(r\"^9\",str1)\n",
    "result"
   ]
  },
  {
   "cell_type": "code",
   "execution_count": 21,
   "metadata": {},
   "outputs": [
    {
     "data": {
      "text/plain": [
       "['9821']"
      ]
     },
     "execution_count": 21,
     "metadata": {},
     "output_type": "execute_result"
    }
   ],
   "source": [
    "str1 = \"9821 maya\"\n",
    "result = re.findall(r\"^\\d*\",str1)\n",
    "result"
   ]
  },
  {
   "cell_type": "code",
   "execution_count": 22,
   "metadata": {},
   "outputs": [
    {
     "data": {
      "text/plain": [
       "'216.8.904.196'"
      ]
     },
     "execution_count": 22,
     "metadata": {},
     "output_type": "execute_result"
    }
   ],
   "source": [
    "ip_adress=\"216.008.904.196\"\n",
    "result = re.sub(r\"\\b0.\",\"\",ip_adress)\n",
    "result"
   ]
  },
  {
   "cell_type": "code",
   "execution_count": 29,
   "metadata": {},
   "outputs": [
    {
     "data": {
      "text/plain": [
       "['3.2']"
      ]
     },
     "execution_count": 29,
     "metadata": {},
     "output_type": "execute_result"
    }
   ],
   "source": [
    "str1=\"Python is required for data science version 3.2\"\n",
    "result = re.findall(r\"\\d..\\b\",str1)\n",
    "result"
   ]
  },
  {
   "cell_type": "code",
   "execution_count": 30,
   "metadata": {},
   "outputs": [
    {
     "data": {
      "text/plain": [
       "['1', '12', '13', '345']"
      ]
     },
     "execution_count": 30,
     "metadata": {},
     "output_type": "execute_result"
    }
   ],
   "source": [
    "str1 = \"Exercises number 1, 12, 13, and 345 are important\"\n",
    "result = re.findall(r\"[0-9]+\",str1)\n",
    "result"
   ]
  },
  {
   "cell_type": "code",
   "execution_count": 31,
   "metadata": {},
   "outputs": [
    {
     "name": "stdout",
     "output_type": "stream",
     "text": [
      "['fox']\n",
      "['dog']\n",
      "[]\n"
     ]
    }
   ],
   "source": [
    "Sample_text ='The quick brown fox jumps over the lazy dog.'\n",
    "Searched_words ='fox', 'dog', 'horse'\n",
    "for word in Searched_words:\n",
    "    result = re.findall(word,Sample_text)\n",
    "    print(result)"
   ]
  },
  {
   "cell_type": "code",
   "execution_count": 32,
   "metadata": {},
   "outputs": [
    {
     "data": {
      "text/plain": [
       "<re.Match object; span=(16, 19), match='fox'>"
      ]
     },
     "execution_count": 32,
     "metadata": {},
     "output_type": "execute_result"
    }
   ],
   "source": [
    "sample_text ='The quick brown fox jumps over the lazy dog.'\n",
    "result = re.search(r\"fox\",sample_text)\n",
    "result"
   ]
  },
  {
   "cell_type": "code",
   "execution_count": 33,
   "metadata": {},
   "outputs": [
    {
     "data": {
      "text/plain": [
       "['exercises', 'exercises', 'exercises']"
      ]
     },
     "execution_count": 33,
     "metadata": {},
     "output_type": "execute_result"
    }
   ],
   "source": [
    "Sample_text = 'Python exercises, PHP exercises, C# exercises'\n",
    "result = re.findall(r\"exercises\",Sample_text)\n",
    "result"
   ]
  },
  {
   "cell_type": "code",
   "execution_count": 34,
   "metadata": {},
   "outputs": [
    {
     "name": "stdout",
     "output_type": "stream",
     "text": [
      "3\n",
      "<re.Match object; span=(7, 16), match='exercises'>\n"
     ]
    }
   ],
   "source": [
    "Sample_text = 'Python exercises, PHP exercises, C# exercises'\n",
    "result = re.findall(r\"exercises\",Sample_text)\n",
    "print(len(result))\n",
    "result = re.search(r\"exercises\",Sample_text)\n",
    "print(result)"
   ]
  },
  {
   "cell_type": "code",
   "execution_count": 35,
   "metadata": {},
   "outputs": [
    {
     "name": "stdout",
     "output_type": "stream",
     "text": [
      "The_quick_brown_fox_jumps_over_the_lazy_dog.\n",
      "Thequickbrownfoxjumpsoverthelazydog.\n"
     ]
    }
   ],
   "source": [
    "str1 = 'The quick brown fox jumps over the lazy dog.'\n",
    "result = re.sub(r\"[ ]\",\"_\",str1)\n",
    "print(result)\n",
    "result = re.sub(r\"[_]\",\"\",result)\n",
    "print(result)"
   ]
  },
  {
   "cell_type": "code",
   "execution_count": 36,
   "metadata": {},
   "outputs": [
    {
     "data": {
      "text/plain": [
       "'Thequickbrownfoxjumpsoverthelazydog.'"
      ]
     },
     "execution_count": 36,
     "metadata": {},
     "output_type": "execute_result"
    }
   ],
   "source": [
    "str1 = 'The quick brown fox jumps over the lazy dog.'\n",
    "result = re.sub(r\"[ ]\",\"\",str1)\n",
    "result"
   ]
  },
  {
   "cell_type": "code",
   "execution_count": 37,
   "metadata": {},
   "outputs": [
    {
     "data": {
      "text/plain": [
       "['python', 'pythonnn']"
      ]
     },
     "execution_count": 37,
     "metadata": {},
     "output_type": "execute_result"
    }
   ],
   "source": [
    "str1= \"python and data science pythonnn\"\n",
    "result = re.findall(r\"[p]\\w*\",str1)\n",
    "result"
   ]
  },
  {
   "cell_type": "code",
   "execution_count": 38,
   "metadata": {},
   "outputs": [
    {
     "data": {
      "text/plain": [
       "['and', 'every', 'evening']"
      ]
     },
     "execution_count": 38,
     "metadata": {},
     "output_type": "execute_result"
    }
   ],
   "source": [
    "str1= \"data science and python learning with begening every evening \"\n",
    "result = re.findall(r\"\\b[a,e]\\w*\",str1)\n",
    "result"
   ]
  },
  {
   "cell_type": "code",
   "execution_count": 39,
   "metadata": {},
   "outputs": [
    {
     "data": {
      "text/plain": [
       "<re.Match object; span=(33, 34), match='2'>"
      ]
     },
     "execution_count": 39,
     "metadata": {},
     "output_type": "execute_result"
    }
   ],
   "source": [
    "str1 = \"i am mrunal chaudhari ,my age is 24\"\n",
    "result = re.search(r\"\\d\",str1)\n",
    "result"
   ]
  },
  {
   "cell_type": "code",
   "execution_count": 40,
   "metadata": {},
   "outputs": [
    {
     "data": {
      "text/plain": [
       "'Python::is:a:general:purpose::interpreted:'"
      ]
     },
     "execution_count": 40,
     "metadata": {},
     "output_type": "execute_result"
    }
   ],
   "source": [
    "text =\"\"\"Python. is a general,purpose, interpreted.\"\"\"\n",
    "result = re.sub(r\"[,. ]\",\":\",text)\n",
    "result"
   ]
  },
  {
   "cell_type": "code",
   "execution_count": 41,
   "metadata": {},
   "outputs": [
    {
     "data": {
      "text/plain": [
       "'Python: is a general purpose interpreted.'"
      ]
     },
     "execution_count": 41,
     "metadata": {},
     "output_type": "execute_result"
    }
   ],
   "source": [
    "text =\"\"\"Python., is a general purpose interpreted.\"\"\"\n",
    "result = re.sub(r\"[,. ]{2}\",\":\",text)\n",
    "result"
   ]
  },
  {
   "cell_type": "code",
   "execution_count": 42,
   "metadata": {},
   "outputs": [
    {
     "data": {
      "text/plain": [
       "[' is a', 'high-', 'level', ' used', ' for\\n', 'data ', ' and ']"
      ]
     },
     "execution_count": 42,
     "metadata": {},
     "output_type": "execute_result"
    }
   ],
   "source": [
    "text =\"\"\"123 Python is a general-purpose, interpreted,\n",
    "high-level programming language popularly used for\n",
    "website development, data analytics 78 and automation.\"\"\"\n",
    "\n",
    "result = re.findall(r\"\\b\\D{3,5}\\b\",text)\n",
    "result"
   ]
  },
  {
   "cell_type": "code",
   "execution_count": 1,
   "metadata": {},
   "outputs": [],
   "source": [
    "import numpy as np \n",
    "import pandas as pd\n"
   ]
  },
  {
   "cell_type": "code",
   "execution_count": 4,
   "metadata": {},
   "outputs": [
    {
     "data": {
      "text/html": [
       "<div>\n",
       "<style scoped>\n",
       "    .dataframe tbody tr th:only-of-type {\n",
       "        vertical-align: middle;\n",
       "    }\n",
       "\n",
       "    .dataframe tbody tr th {\n",
       "        vertical-align: top;\n",
       "    }\n",
       "\n",
       "    .dataframe thead th {\n",
       "        text-align: right;\n",
       "    }\n",
       "</style>\n",
       "<table border=\"1\" class=\"dataframe\">\n",
       "  <thead>\n",
       "    <tr style=\"text-align: right;\">\n",
       "      <th></th>\n",
       "      <th>Review</th>\n",
       "      <th>Liked</th>\n",
       "    </tr>\n",
       "  </thead>\n",
       "  <tbody>\n",
       "    <tr>\n",
       "      <th>0</th>\n",
       "      <td>Wow... Loved this place.</td>\n",
       "      <td>1</td>\n",
       "    </tr>\n",
       "    <tr>\n",
       "      <th>1</th>\n",
       "      <td>Crust is not good.</td>\n",
       "      <td>0</td>\n",
       "    </tr>\n",
       "    <tr>\n",
       "      <th>2</th>\n",
       "      <td>Not tasty and the texture was just nasty.</td>\n",
       "      <td>0</td>\n",
       "    </tr>\n",
       "    <tr>\n",
       "      <th>3</th>\n",
       "      <td>Stopped by during the late May bank holiday of...</td>\n",
       "      <td>1</td>\n",
       "    </tr>\n",
       "    <tr>\n",
       "      <th>4</th>\n",
       "      <td>The selection on the menu was great and so wer...</td>\n",
       "      <td>1</td>\n",
       "    </tr>\n",
       "    <tr>\n",
       "      <th>...</th>\n",
       "      <td>...</td>\n",
       "      <td>...</td>\n",
       "    </tr>\n",
       "    <tr>\n",
       "      <th>995</th>\n",
       "      <td>I think food should have flavor and texture an...</td>\n",
       "      <td>0</td>\n",
       "    </tr>\n",
       "    <tr>\n",
       "      <th>996</th>\n",
       "      <td>Appetite instantly gone.</td>\n",
       "      <td>0</td>\n",
       "    </tr>\n",
       "    <tr>\n",
       "      <th>997</th>\n",
       "      <td>Overall I was not impressed and would not go b...</td>\n",
       "      <td>0</td>\n",
       "    </tr>\n",
       "    <tr>\n",
       "      <th>998</th>\n",
       "      <td>The whole experience was underwhelming, and I ...</td>\n",
       "      <td>0</td>\n",
       "    </tr>\n",
       "    <tr>\n",
       "      <th>999</th>\n",
       "      <td>Then, as if I hadn't wasted enough of my life ...</td>\n",
       "      <td>0</td>\n",
       "    </tr>\n",
       "  </tbody>\n",
       "</table>\n",
       "<p>1000 rows × 2 columns</p>\n",
       "</div>"
      ],
      "text/plain": [
       "                                                Review  Liked\n",
       "0                             Wow... Loved this place.      1\n",
       "1                                   Crust is not good.      0\n",
       "2            Not tasty and the texture was just nasty.      0\n",
       "3    Stopped by during the late May bank holiday of...      1\n",
       "4    The selection on the menu was great and so wer...      1\n",
       "..                                                 ...    ...\n",
       "995  I think food should have flavor and texture an...      0\n",
       "996                           Appetite instantly gone.      0\n",
       "997  Overall I was not impressed and would not go b...      0\n",
       "998  The whole experience was underwhelming, and I ...      0\n",
       "999  Then, as if I hadn't wasted enough of my life ...      0\n",
       "\n",
       "[1000 rows x 2 columns]"
      ]
     },
     "execution_count": 4,
     "metadata": {},
     "output_type": "execute_result"
    }
   ],
   "source": [
    "df = pd.read_table(\"Restaurant_Reviews.tsv\")\n",
    "df"
   ]
  },
  {
   "cell_type": "code",
   "execution_count": 5,
   "metadata": {},
   "outputs": [
    {
     "data": {
      "text/plain": [
       "0                               Wow... Loved this place.\n",
       "1                                     Crust is not good.\n",
       "2              Not tasty and the texture was just nasty.\n",
       "3      Stopped by during the late May bank holiday of...\n",
       "4      The selection on the menu was great and so wer...\n",
       "                             ...                        \n",
       "995    I think food should have flavor and texture an...\n",
       "996                             Appetite instantly gone.\n",
       "997    Overall I was not impressed and would not go b...\n",
       "998    The whole experience was underwhelming, and I ...\n",
       "999    Then, as if I hadn't wasted enough of my life ...\n",
       "Name: Review, Length: 1000, dtype: object"
      ]
     },
     "execution_count": 5,
     "metadata": {},
     "output_type": "execute_result"
    }
   ],
   "source": [
    "df[\"Review\"]"
   ]
  },
  {
   "cell_type": "code",
   "execution_count": 6,
   "metadata": {},
   "outputs": [
    {
     "data": {
      "text/plain": [
       "['wow... loved this place.',\n",
       " 'crust is not good.',\n",
       " 'not tasty and the texture was just nasty.',\n",
       " 'stopped by during the late may bank holiday off rick steve recommendation and loved it.',\n",
       " 'the selection on the menu was great and so were the prices.',\n",
       " 'now i am getting angry and i want my damn pho.',\n",
       " \"honeslty it didn't taste that fresh.)\",\n",
       " 'the potatoes were like rubber and you could tell they had been made up ahead of time being kept under a warmer.',\n",
       " 'the fries were great too.',\n",
       " 'a great touch.',\n",
       " 'service was very prompt.',\n",
       " 'would not go back.',\n",
       " 'the cashier had no care what so ever on what i had to say it still ended up being wayyy overpriced.',\n",
       " 'i tried the cape cod ravoli, chicken, with cranberry...mmmm!',\n",
       " 'i was disgusted because i was pretty sure that was human hair.',\n",
       " 'i was shocked because no signs indicate cash only.',\n",
       " 'highly recommended.',\n",
       " 'waitress was a little slow in service.',\n",
       " 'this place is not worth your time, let alone vegas.',\n",
       " 'did not like at all.',\n",
       " 'the burrittos blah!',\n",
       " 'the food, amazing.',\n",
       " 'service is also cute.',\n",
       " 'i could care less... the interior is just beautiful.',\n",
       " 'so they performed.',\n",
       " \"that's right....the red velvet cake.....ohhh this stuff is so good.\",\n",
       " '- they never brought a salad we asked for.',\n",
       " 'this hole in the wall has great mexican street tacos, and friendly staff.',\n",
       " 'took an hour to get our food only 4 tables in restaurant my food was luke warm, our sever was running around like he was totally overwhelmed.',\n",
       " 'the worst was the salmon sashimi.',\n",
       " 'also there are combos like a burger, fries, and beer for 23 which is a decent deal.',\n",
       " 'this was like the final blow!',\n",
       " 'i found this place by accident and i could not be happier.',\n",
       " 'seems like a good quick place to grab a bite of some familiar pub food, but do yourself a favor and look elsewhere.',\n",
       " 'overall, i like this place a lot.',\n",
       " 'the only redeeming quality of the restaurant was that it was very inexpensive.',\n",
       " 'ample portions and good prices.',\n",
       " 'poor service, the waiter made me feel like i was stupid every time he came to the table.',\n",
       " 'my first visit to hiro was a delight!',\n",
       " 'service sucks.',\n",
       " 'the shrimp tender and moist.',\n",
       " 'there is not a deal good enough that would drag me into that establishment again.',\n",
       " \"hard to judge whether these sides were good because we were grossed out by the melted styrofoam and didn't want to eat it for fear of getting sick.\",\n",
       " 'on a positive note, our server was very attentive and provided great service.',\n",
       " 'frozen pucks of disgust, with some of the worst people behind the register.',\n",
       " 'the only thing i did like was the prime rib and dessert section.',\n",
       " \"it's too bad the food is so damn generic.\",\n",
       " 'the burger is good beef, cooked just right.',\n",
       " 'if you want a sandwich just go to any firehouse!!!!!',\n",
       " 'my side greek salad with the greek dressing was so tasty, and the pita and hummus was very refreshing.',\n",
       " 'we ordered the duck rare and it was pink and tender on the inside with a nice char on the outside.',\n",
       " 'he came running after us when he realized my husband had left his sunglasses on the table.',\n",
       " 'their chow mein is so good!',\n",
       " \"they have horrible attitudes towards customers, and talk down to each one when customers don't enjoy their food.\",\n",
       " 'the portion was huge!',\n",
       " 'loved it...friendly servers, great food, wonderful and imaginative menu.',\n",
       " 'the heart attack grill in downtown vegas is an absolutely flat-lined excuse for a restaurant.',\n",
       " 'not much seafood and like 5 strings of pasta at the bottom.',\n",
       " 'the salad had just the right amount of sauce to not over power the scallop, which was perfectly cooked.',\n",
       " 'the ripped banana was not only ripped, but petrified and tasteless.',\n",
       " 'at least think to refill my water before i struggle to wave you over for 10 minutes.',\n",
       " 'this place receives stars for their appetizers!!!',\n",
       " 'the cocktails are all handmade and delicious.',\n",
       " \"we'd definitely go back here again.\",\n",
       " 'we are so glad we found this place.',\n",
       " 'great food and service, huge portions and they give a military discount.',\n",
       " 'always a great time at dos gringos!',\n",
       " 'update.....went back for a second time and it was still just as amazing',\n",
       " 'we got the food and apparently they have never heard of salt and the batter on the fish was chewy.',\n",
       " 'a great way to finish a great.',\n",
       " 'the deal included 5 tastings and 2 drinks, and jeff went above and beyond what we expected.',\n",
       " '- really, really good rice, all the time.',\n",
       " 'the service was meh.',\n",
       " 'it took over 30 min to get their milkshake, which was nothing more than chocolate milk.',\n",
       " \"i guess i should have known that this place would suck, because it is inside of the excalibur, but i didn't use my common sense.\",\n",
       " 'the scallop dish is quite appalling for value as well.',\n",
       " '2 times - very bad customer service !',\n",
       " 'the sweet potato fries were very good and seasoned well.',\n",
       " \"today is the second time i've been to their lunch buffet and it was pretty good.\",\n",
       " 'there is so much good food in vegas that i feel cheated for wasting an eating opportunity by going to rice and company.',\n",
       " \"coming here is like experiencing an underwhelming relationship where both parties can't wait for the other person to ask to break up.\",\n",
       " 'walked in and the place smelled like an old grease trap and only 2 others there eating.',\n",
       " 'the turkey and roast beef were bland.',\n",
       " 'this place has it!',\n",
       " 'the pan cakes everyone are raving about taste like a sugary disaster tailored to the palate of a six year old.',\n",
       " 'i love the pho and the spring rolls oh so yummy you have to try.',\n",
       " 'the poor batter to meat ratio made the chicken tenders very unsatisfying.',\n",
       " 'all i have to say is the food was amazing!!!',\n",
       " 'omelets are to die for!',\n",
       " 'everything was fresh and delicious!',\n",
       " 'in summary, this was a largely disappointing dining experience.',\n",
       " \"it's like a really sexy party in your mouth, where you're outrageously flirting with the hottest person at the party.\",\n",
       " 'never been to hard rock casino before, will never ever step forward in it again!',\n",
       " 'best breakfast buffet!!!',\n",
       " 'say bye bye to your tip lady!',\n",
       " \"we'll never go again.\",\n",
       " 'will be back again!',\n",
       " 'food arrived quickly!',\n",
       " 'it was not good.',\n",
       " 'on the up side, their cafe serves really good food.',\n",
       " 'our server was fantastic and when he found out the wife loves roasted garlic and bone marrow, he added extra to our meal and another marrow to go!',\n",
       " \"the only good thing was our waiter, he was very helpful and kept the bloddy mary's coming.\",\n",
       " 'best buffet in town, for the price you cannot beat it.',\n",
       " 'i loved their mussels cooked in this wine reduction, the duck was tender, and their potato dishes were delicious.',\n",
       " 'this is one of the better buffets that i have been to.',\n",
       " 'so we went to tigerlilly and had a fantastic afternoon!',\n",
       " 'the food was delicious, our bartender was attentive and personable and we got a great deal!',\n",
       " 'the ambience is wonderful and there is music playing.',\n",
       " 'will go back next trip out.',\n",
       " 'sooooo good!!',\n",
       " \"real sushi lovers, let's be honest - yama is not that good.\",\n",
       " \"at least 40min passed in between us ordering and the food arriving, and it wasn't that busy.\",\n",
       " 'this is a really fantastic thai restaurant which is definitely worth a visit.',\n",
       " 'nice, spicy and tender.',\n",
       " 'good prices.',\n",
       " 'check it out.',\n",
       " 'it was pretty gross!',\n",
       " \"i've had better atmosphere.\",\n",
       " 'kind of hard to mess up a steak but they did.',\n",
       " 'although i very much liked the look and sound of this place, the actual experience was a bit disappointing.',\n",
       " \"i just don't know how this place managed to served the blandest food i have ever eaten when they are preparing indian cuisine.\",\n",
       " 'worst service to boot, but that is the least of their worries.',\n",
       " 'service was fine and the waitress was friendly.',\n",
       " \"the guys all had steaks, and our steak loving son who has had steak at the best and worst places said it was the best steak he's ever eaten.\",\n",
       " \"we thought you'd have to venture further away to get good sushi, but this place really hit the spot that night.\",\n",
       " 'host staff were, for lack of a better word, bitches!',\n",
       " \"bland... not a liking this place for a number of reasons and i don't want to waste time on bad reviewing.. i'll leave it at that...\",\n",
       " 'phenomenal food, service and ambiance.',\n",
       " \"i wouldn't return.\",\n",
       " \"definitely worth venturing off the strip for the pork belly, will return next time i'm in vegas.\",\n",
       " 'this place is way too overpriced for mediocre food.',\n",
       " 'penne vodka excellent!',\n",
       " 'they have a good selection of food including a massive meatloaf sandwich, a crispy chicken wrap, a delish tuna melt and some tasty burgers.',\n",
       " 'the management is rude.',\n",
       " 'delicious nyc bagels, good selections of cream cheese, real lox with capers even.',\n",
       " \"great subway, in fact it's so good when you come here every other subway will not meet your expectations.\",\n",
       " 'i had a seriously solid breakfast here.',\n",
       " 'this is one of the best bars with food in vegas.',\n",
       " 'he was extremely rude and really, there are so many other restaurants i would love to dine at during a weekend in vegas.',\n",
       " 'my drink was never empty and he made some really great menu suggestions.',\n",
       " \"don't do it!!!!\",\n",
       " \"the waiter wasn't helpful or friendly and rarely checked on us.\",\n",
       " 'my husband and i ate lunch here and were very disappointed with the food and service.',\n",
       " \"and the red curry had so much bamboo shoots and wasn't very tasty to me.\",\n",
       " 'nice blanket of moz over top but i feel like this was done to cover up the subpar food.',\n",
       " 'the bathrooms are clean and the place itself is well decorated.',\n",
       " 'the menu is always changing, food quality is going down & service is extremely slow.',\n",
       " 'the service was a little slow , considering that were served by 3 people servers so the food was coming in a slow pace.',\n",
       " 'i give it 2 thumbs down',\n",
       " 'we watched our waiter pay a lot more attention to other tables and ignore us.',\n",
       " 'my fiancé and i came in the middle of the day and we were greeted and seated right away.',\n",
       " 'this is a great restaurant at the mandalay bay.',\n",
       " 'we waited for forty five minutes in vain.',\n",
       " 'crostini that came with the salad was stale.',\n",
       " 'some highlights : great quality nigiri here!',\n",
       " 'the staff is friendly and the joint is always clean.',\n",
       " 'this was a different cut than the piece the other day but still wonderful and tender s well as well flavored.',\n",
       " \"i ordered the voodoo pasta and it was the first time i'd had really excellent pasta since going gluten free several years ago.\",\n",
       " 'this place is good.',\n",
       " 'unfortunately, we must have hit the bakery on leftover day because everything we ordered was stale.',\n",
       " 'i came back today since they relocated and still not impressed.',\n",
       " 'i was seated immediately.',\n",
       " 'their menu is diverse, and reasonably priced.',\n",
       " 'avoid at all cost!',\n",
       " 'restaurant is always full but never a wait.',\n",
       " 'delicious!!',\n",
       " 'this place is hands-down one of the best places to eat in the phoenix metro area.',\n",
       " \"so don't go there if you are looking for good food...\",\n",
       " \"i've never been treated so bad.\",\n",
       " 'bacon is hella salty.',\n",
       " 'we also ordered the spinach and avocado salad, the ingredients were sad and the dressing literally had zero taste.',\n",
       " 'this really is how vegas fine dining used to be, right down to the menus handed to the ladies that have no prices listed.',\n",
       " 'the waitresses are very friendly.',\n",
       " 'lordy, the khao soi is a dish that is not to be missed for curry lovers!',\n",
       " 'everything on the menu is terrific and we were also thrilled that they made amazing accommodations for our vegetarian daughter.',\n",
       " \"perhaps i caught them on an off night judging by the other reviews, but i'm not inspired to go back.\",\n",
       " 'the service here leaves a lot to be desired.',\n",
       " 'the atmosphere is modern and hip, while maintaining a touch of coziness.',\n",
       " 'not a weekly haunt, but definitely a place to come back to every once in a while.',\n",
       " 'we literally sat there for 20 minutes with no one asking to take our order.',\n",
       " 'the burger had absolutely no flavor - the meat itself was totally bland, the burger was overcooked and there was no charcoal flavor.',\n",
       " 'i also decided not to send it back because our waitress looked like she was on the verge of having a heart attack.',\n",
       " 'i dressed up to be treated so rudely!',\n",
       " 'it was probably dirt.',\n",
       " 'love this place, hits the spot when i want something healthy but not lacking in quantity or flavor.',\n",
       " 'i ordered the lemon raspberry ice cocktail which was also incredible.',\n",
       " 'the food sucked, which we expected but it sucked more than we could have imagined.',\n",
       " 'interesting decor.',\n",
       " 'what i really like there is the crepe station.',\n",
       " 'also were served hot bread and butter, and home made potato chips with bacon bits on top....very original and very good.',\n",
       " 'you can watch them preparing the delicious food!)',\n",
       " 'both of the egg rolls were fantastic.',\n",
       " 'when my order arrived, one of the gyros was missing.',\n",
       " 'i had a salad with the wings, and some ice cream for dessert and left feeling quite satisfied.',\n",
       " \"i'm not really sure how joey's was voted best hot dog in the valley by readers of phoenix magazine.\",\n",
       " 'the best place to go for a tasty bowl of pho!',\n",
       " 'the live music on fridays totally blows.',\n",
       " \"i've never been more insulted or felt disrespected.\",\n",
       " 'very friendly staff.',\n",
       " 'it is worth the drive.',\n",
       " 'i had heard good things about this place, but it exceeding every hope i could have dreamed of.',\n",
       " 'food was great and so was the serivce!',\n",
       " \"the warm beer didn't help.\",\n",
       " 'great brunch spot.',\n",
       " 'service is friendly and inviting.',\n",
       " 'very good lunch spot.',\n",
       " \"i've lived here since 1979 and this was the first (and last) time i've stepped foot into this place.\",\n",
       " 'the worst experience ever.',\n",
       " 'must have been an off night at this place.',\n",
       " 'the sides are delish - mixed mushrooms, yukon gold puree, white corn - beateous.',\n",
       " 'if that bug never showed up i would have given a 4 for sure, but on the other side of the wall where this bug was climbing was the kitchen.',\n",
       " \"for about 10 minutes, we we're waiting for her salad when we realized that it wasn't coming any time soon.\",\n",
       " 'my friend loved the salmon tartar.',\n",
       " \"won't go back.\",\n",
       " 'extremely tasty!',\n",
       " 'waitress was good though!',\n",
       " 'soggy and not good.',\n",
       " 'the jamaican mojitos are delicious.',\n",
       " 'which are small and not worth the price.',\n",
       " '- the food is rich so order accordingly.',\n",
       " \"the shower area is outside so you can only rinse, not take a full shower, unless you don't mind being nude for everyone to see!\",\n",
       " 'the service was a bit lacking.',\n",
       " 'lobster bisque, bussell sprouts, risotto, filet all needed salt and pepper..and of course there is none at the tables.',\n",
       " 'hopefully this bodes for them going out of business and someone who can cook can come in.',\n",
       " 'it was either too cold, not enough flavor or just bad.',\n",
       " 'i loved the bacon wrapped dates.',\n",
       " 'this is an unbelievable bargain!',\n",
       " 'the folks at otto always make us feel so welcome and special.',\n",
       " 'as for the \"mains,\" also uninspired.',\n",
       " 'this is the place where i first had pho and it was amazing!!',\n",
       " 'this wonderful experience made this place a must-stop whenever we are in town again.',\n",
       " \"if the food isn't bad enough for you, then enjoy dealing with the world's worst/annoying drunk people.\",\n",
       " 'very very fun chef.',\n",
       " 'ordered a double cheeseburger & got a single patty that was falling apart (picture uploaded) yeah, still sucks.',\n",
       " \"great place to have a couple drinks and watch any and all sporting events as the walls are covered with tv's.\",\n",
       " \"if it were possible to give them zero stars, they'd have it.\",\n",
       " 'the descriptions said \"yum yum sauce\" and another said \"eel sauce\", yet another said \"spicy mayo\"...well none of the rolls had sauces on them.',\n",
       " \"i'd say that would be the hardest decision... honestly, all of m's dishes taste how they are supposed to taste (amazing).\",\n",
       " 'if she had not rolled the eyes we may have stayed... not sure if we will go back and try it again.',\n",
       " 'everyone is very attentive, providing excellent customer service.',\n",
       " \"horrible - don't waste your time and money.\",\n",
       " 'now this dish was quite flavourful.',\n",
       " 'by this time our side of the restaurant was almost empty so there was no excuse.',\n",
       " \"(it wasn't busy either) also, the building was freezing cold.\",\n",
       " 'like the other reviewer said \"you couldn\\'t pay me to eat at this place again.\"',\n",
       " '-drinks took close to 30 minutes to come out at one point.',\n",
       " 'seriously flavorful delights, folks.',\n",
       " 'much better than the other ayce sushi place i went to in vegas.',\n",
       " 'the lighting is just dark enough to set the mood.',\n",
       " \"based on the sub-par service i received and no effort to show their gratitude for my business i won't be going back.\",\n",
       " \"owner's are really great people.!\",\n",
       " 'there is nothing privileged about working/eating there.',\n",
       " 'the greek dressing was very creamy and flavorful.',\n",
       " \"overall, i don't think that i would take my parents to this place again because they made most of the similar complaints that i silently felt too.\",\n",
       " 'now the pizza itself was good the peanut sauce was very tasty.',\n",
       " 'we had 7 at our table and the service was pretty fast.',\n",
       " 'fantastic service here.',\n",
       " \"i as well would've given godfathers zero stars if possible.\",\n",
       " 'they know how to make them here.',\n",
       " 'very tough and very short on flavor!',\n",
       " 'i hope this place sticks around.',\n",
       " 'i have been in more than a few bars in vegas, and do not ever recall being charged for tap water.',\n",
       " 'the restaurant atmosphere was exquisite.',\n",
       " 'good service, very clean, and inexpensive, to boot!',\n",
       " 'the seafood was fresh and generous in portion.',\n",
       " \"plus, it's only 8 bucks.\",\n",
       " 'the service was not up to par, either.',\n",
       " 'thus far, have only visited twice and the food was absolutely delicious each time.',\n",
       " 'just as good as when i had it more than a year ago!',\n",
       " 'for a self proclaimed coffee cafe, i was wildly disappointed.',\n",
       " 'the veggitarian platter is out of this world!',\n",
       " 'you cant go wrong with any of the food here.',\n",
       " \"you can't beat that.\",\n",
       " 'stopped by this place while in madison for the ironman, very friendly, kind staff.',\n",
       " 'the chefs were friendly and did a good job.',\n",
       " \"i've had better, not only from dedicated boba tea spots, but even from jenni pho.\",\n",
       " 'i liked the patio and the service was outstanding.',\n",
       " \"the goat taco didn't skimp on the meat and wow what flavor!\",\n",
       " 'i think not again',\n",
       " 'i had the mac salad and it was pretty bland so i will not be getting that again.',\n",
       " \"i went to bachi burger on a friend's recommendation and was not disappointed.\",\n",
       " 'service stinks here!',\n",
       " 'i waited and waited.',\n",
       " 'this place is not quality sushi, it is not a quality restaurant.',\n",
       " 'i would definitely recommend the wings as well as the pizza.',\n",
       " 'great pizza and salads!',\n",
       " 'things that went wrong: - they burned the saganaki.',\n",
       " 'we waited an hour for what was a breakfast i could have done 100 times better at home.',\n",
       " 'this place is amazing!',\n",
       " 'i hate to disagree with my fellow yelpers, but my husband and i were so disappointed with this place.',\n",
       " 'waited 2 hours & never got either of our pizzas as many other around us who came in later did!',\n",
       " \"just don't know why they were so slow.\",\n",
       " 'the staff is great, the food is delish, and they have an incredible beer selection.',\n",
       " \"i live in the neighborhood so i am disappointed i won't be back here, because it is a convenient location.\",\n",
       " \"i didn't know pulled pork could be soooo delicious.\",\n",
       " 'you get incredibly fresh fish, prepared with care.',\n",
       " 'before i go in to why i gave a 1 star rating please know that this was my third time eating at bachi burger before writing a review.',\n",
       " 'i love the fact that everything on their menu is worth it.',\n",
       " 'never again will i be dining at this place!',\n",
       " 'the food was excellent and service was very good.',\n",
       " 'good beer & drink selection and good food selection.',\n",
       " 'please stay away from the shrimp stir fried noodles.',\n",
       " 'the potato chip order was sad... i could probably count how many chips were in that box and it was probably around 12.',\n",
       " 'food was really boring.',\n",
       " 'good service-check!',\n",
       " 'this greedy corporation will never see another dime from me!',\n",
       " 'will never, ever go back.',\n",
       " \"as much as i'd like to go back, i can't get passed the atrocious service and will never return.\",\n",
       " 'in the summer, you can dine in a charming outdoor patio - so very delightful.',\n",
       " 'i did not expect this to be so good!',\n",
       " 'fantastic food!',\n",
       " 'she ordered a toasted english muffin that came out untoasted.',\n",
       " 'the food was very good.',\n",
       " 'never going back.',\n",
       " 'great food for the price, which is very high quality and house made.',\n",
       " 'the bus boy on the other hand was so rude.',\n",
       " \"by this point, my friends and i had basically figured out this place was a joke and didn't mind making it publicly and loudly known.\",\n",
       " 'back to good bbq, lighter fare, reasonable pricing and tell the public they are back to the old ways.',\n",
       " \"and considering the two of us left there very full and happy for about $20, you just can't go wrong.\",\n",
       " 'all the bread is made in-house!',\n",
       " 'the only downside is the service.',\n",
       " \"also, the fries are without a doubt the worst fries i've ever had.\",\n",
       " 'service was exceptional and food was a good as all the reviews.',\n",
       " 'a couple of months later, i returned and had an amazing meal.',\n",
       " 'favorite place in town for shawarrrrrrma!!!!!!',\n",
       " 'the black eyed peas and sweet potatoes... unreal!',\n",
       " \"you won't be disappointed.\",\n",
       " 'they could serve it with just the vinaigrette and it may make for a better overall dish, but it was still very good.',\n",
       " \"i go to far too many places and i've never seen any restaurant that serves a 1 egg breakfast, especially for $4.00.\",\n",
       " 'when my mom and i got home she immediately got sick and she only had a few bites of salad.',\n",
       " \"the servers are not pleasant to deal with and they don't always honor pizza hut coupons.\",\n",
       " 'both of them were truly unbelievably good, and i am so glad we went back.',\n",
       " 'we had fantastic service, and were pleased by the atmosphere.',\n",
       " 'everything was gross.',\n",
       " 'i love this place.',\n",
       " 'great service and food.',\n",
       " 'first - the bathrooms at this location were dirty- seat covers were not replenished & just plain yucky!!!',\n",
       " 'the burger... i got the \"gold standard\" a $17 burger and was kind of disappointed.',\n",
       " 'omg, the food was delicioso!',\n",
       " 'there is nothing authentic about this place.',\n",
       " 'the spaghetti is nothing special whatsoever.',\n",
       " 'of all the dishes, the salmon was the best, but all were great.',\n",
       " 'the vegetables are so fresh and the sauce feels like authentic thai.',\n",
       " \"it's worth driving up from tucson!\",\n",
       " \"the selection was probably the worst i've seen in vegas.....there was none.\",\n",
       " 'pretty good beer selection too.',\n",
       " 'this place is like chipotle, but better.',\n",
       " 'classy/warm atmosphere, fun and fresh appetizers, succulent steaks (baseball steak!!!!!',\n",
       " '5 stars for the brick oven bread app!',\n",
       " 'i have eaten here multiple times, and each time the food was delicious.',\n",
       " 'we sat another ten minutes and finally gave up and left.',\n",
       " 'he was terrible!',\n",
       " 'everyone is treated equally special.',\n",
       " \"it shouldn't take 30 min for pancakes and eggs.\",\n",
       " 'it was delicious!!!',\n",
       " 'on the good side, the staff was genuinely pleasant and enthusiastic - a real treat.',\n",
       " \"sadly, gordon ramsey's steak is a place we shall sharply avoid during our next trip to vegas.\",\n",
       " 'as always the evening was wonderful and the food delicious!',\n",
       " \"best fish i've ever had in my life!\",\n",
       " '(the bathroom is just next door and very nice.)',\n",
       " 'the buffet is small and all the food they offered was bland.',\n",
       " 'this is an outstanding little restaurant with some of the best food i have ever tasted.',\n",
       " 'pretty cool i would say.',\n",
       " \"definitely a turn off for me & i doubt i'll be back unless someone else is buying.\",\n",
       " 'server did a great job handling our large rowdy table.',\n",
       " \"i find wasting food to be despicable, but this just wasn't food.\",\n",
       " 'my wife had the lobster bisque soup which was lukewarm.',\n",
       " 'would come back again if i had a sushi craving while in vegas.',\n",
       " 'the staff are great, the ambiance is great.',\n",
       " 'he deserves 5 stars.',\n",
       " 'i left with a stomach ache and felt sick the rest of the day.',\n",
       " 'they dropped more than the ball.',\n",
       " 'the dining space is tiny, but elegantly decorated and comfortable.',\n",
       " \"they will customize your order any way you'd like, my usual is eggplant with green bean stir fry, love it!\",\n",
       " 'and the beans and rice were mediocre at best.',\n",
       " 'best tacos in town by far!!',\n",
       " 'i took back my money and got outta there.',\n",
       " 'in an interesting part of town, this place is amazing.',\n",
       " 'rude & inconsiderate management.',\n",
       " 'the staff are now not as friendly, the wait times for being served are horrible, no one even says hi for the first 10 minutes.',\n",
       " \"i won't be back.\",\n",
       " 'they have great dinners.',\n",
       " 'the service was outshining & i definitely recommend the halibut.',\n",
       " 'the food was terrible.',\n",
       " 'will never ever go back and have told many people what had happened.',\n",
       " \"i don't recommend unless your car breaks down in front of it and you are starving.\",\n",
       " \"i will come back here every time i'm in vegas.\",\n",
       " 'this place deserves one star and 90% has to do with the food.',\n",
       " 'this is a disgrace.',\n",
       " 'def coming back to bowl next time',\n",
       " 'if you want healthy authentic or ethic food, try this place.',\n",
       " 'i will continue to come here on ladies night andddd date night ... highly recommend this place to anyone who is in the area.',\n",
       " 'i have been here several times in the past, and the experience has always been great.',\n",
       " 'we walked away stuffed and happy about our first vegas buffet experience.',\n",
       " 'service was excellent and prices are pretty reasonable considering this is vegas and located inside the crystals shopping mall by aria.',\n",
       " 'to summarize... the food was incredible, nay, transcendant... but nothing brings me joy quite like the memory of the pneumatic condiment dispenser.',\n",
       " \"i'm probably one of the few people to ever go to ians and not like it.\",\n",
       " 'kids pizza is always a hit too with lots of great side dish options for the kiddos!',\n",
       " 'service is perfect and the family atmosphere is nice to see.',\n",
       " 'cooked to perfection and the service was impeccable.',\n",
       " 'this one is simply a disappointment.',\n",
       " 'overall, i was very disappointed with the quality of food at bouchon.',\n",
       " \"i don't have to be an accountant to know i'm getting screwed!\",\n",
       " 'great place to eat, reminds me of the little mom and pop shops in the san francisco bay area.',\n",
       " 'today was my first taste of a buldogis gourmet hot dog and i have to tell you it was more than i ever thought possible.',\n",
       " 'left very frustrated.',\n",
       " \"i'll definitely be in soon again.\",\n",
       " 'food was really good and i got full petty fast.',\n",
       " 'service was fantastic.',\n",
       " 'total waste of time.',\n",
       " \"i don't know what kind it is but they have the best iced tea.\",\n",
       " 'come hungry, leave happy and stuffed!',\n",
       " 'for service, i give them no stars.',\n",
       " \"i can assure you that you won't be disappointed.\",\n",
       " 'i can take a little bad service but the food sucks.',\n",
       " 'gave up trying to eat any of the crust (teeth still sore).',\n",
       " 'but now i was completely grossed out.',\n",
       " 'i really enjoyed eating here.',\n",
       " 'first time going but i think i will quickly become a regular.',\n",
       " 'our server was very nice, and even though he looked a little overwhelmed with all of our needs, he stayed professional and friendly until the end.',\n",
       " 'from what my dinner companions told me...everything was very fresh with nice texture and taste.',\n",
       " 'on the ground, right next to our table was a large, smeared, been-stepped-in-and-tracked-everywhere pile of green bird poop.',\n",
       " \"furthermore, you can't even find hours of operation on the website!\",\n",
       " \"we've tried to like this place but after 10+ times i think we're done with them.\",\n",
       " 'what a mistake that was!',\n",
       " 'no complaints!',\n",
       " \"this is some seriously good pizza and i'm an expert/connisseur on the topic.\",\n",
       " 'waiter was a jerk.',\n",
       " 'strike 2, who wants to be rushed.',\n",
       " \"these are the nicest restaurant owners i've ever come across.\",\n",
       " 'i never come again.',\n",
       " 'we loved the biscuits!!!',\n",
       " 'service is quick and friendly.',\n",
       " 'ordered an appetizer and took 40 minutes and then the pizza another 10 minutes.',\n",
       " 'so absolutley fantastic.',\n",
       " 'it was a huge awkward 1.5lb piece of cow that was 3/4ths gristle and fat.',\n",
       " 'definitely will come back here again.',\n",
       " \"i like steiners because it's dark and it feels like a bar.\",\n",
       " 'wow very spicy but delicious.',\n",
       " \"if you're not familiar, check it out.\",\n",
       " \"i'll take my business dinner dollars elsewhere.\",\n",
       " \"i'd love to go back.\",\n",
       " 'anyway, this fs restaurant has a wonderful breakfast/lunch.',\n",
       " 'nothing special.',\n",
       " \"each day of the week they have a different deal and it's all so delicious!\",\n",
       " 'not to mention the combination of pears, almonds and bacon is a big winner!',\n",
       " 'will not be back.',\n",
       " 'sauce was tasteless.',\n",
       " 'the food is delicious and just spicy enough, so be sure to ask for spicier if you prefer it that way.',\n",
       " 'my ribeye steak was cooked perfectly and had great mesquite flavor.',\n",
       " \"i don't think we'll be going back anytime soon.\",\n",
       " 'food was so gooodd.',\n",
       " 'i am far from a sushi connoisseur but i can definitely tell the difference between good food and bad food and this was certainly bad food.',\n",
       " 'i was so insulted.',\n",
       " 'the last 3 times i had lunch here has been bad.',\n",
       " 'the chicken wings contained the driest chicken meat i have ever eaten.',\n",
       " 'the food was very good and i enjoyed every mouthful, an enjoyable relaxed venue for couples small family groups etc.',\n",
       " 'nargile - i think you are great.',\n",
       " 'best tater tots in the southwest.',\n",
       " 'we loved the place.',\n",
       " 'definitely not worth the $3 i paid.',\n",
       " 'the vanilla ice cream was creamy and smooth while the profiterole (choux) pastry was fresh enough.',\n",
       " 'im in az all the time and now have my new spot.',\n",
       " 'the manager was the worst.',\n",
       " 'the inside is really quite nice and very clean.',\n",
       " 'the food was outstanding and the prices were very reasonable.',\n",
       " \"i don't think i'll be running back to carly's anytime soon for food.\",\n",
       " 'this is was due to the fact that it took 20 minutes to be acknowledged, then another 35 minutes to get our food...and they kept forgetting things.',\n",
       " 'love the margaritas, too!',\n",
       " 'this was my first and only vegas buffet and it did not disappoint.',\n",
       " 'very good, though!',\n",
       " 'the one down note is the ventilation could use some upgrading.',\n",
       " 'great pork sandwich.',\n",
       " \"don't waste your time here.\",\n",
       " 'total letdown, i would much rather just go to the camelback flower shop and cartel coffee.',\n",
       " \"third, the cheese on my friend's burger was cold.\",\n",
       " 'we enjoy their pizza and brunch.',\n",
       " 'the steaks are all well trimmed and also perfectly cooked.',\n",
       " 'we had a group of 70+ when we claimed we would only have 40 and they handled us beautifully.',\n",
       " 'i loved it!',\n",
       " \"we asked for the bill to leave without eating and they didn't bring that either.\",\n",
       " \"this place is a jewel in las vegas, and exactly what i've been hoping to find in nearly ten years living here.\",\n",
       " 'seafood was limited to boiled shrimp and crab legs but the crab legs definitely did not taste fresh.',\n",
       " 'the selection of food was not the best.',\n",
       " 'delicious and i will absolutely be back!',\n",
       " \"this isn't a small family restaurant, this is a fine dining establishment.\",\n",
       " 'they had a toro tartare with a cavier that was extraordinary and i liked the thinly sliced wagyu with white truffle.',\n",
       " 'i dont think i will be back for a very long time.',\n",
       " 'it was attached to a gas station, and that is rarely a good sign.',\n",
       " 'how awesome is that.',\n",
       " 'i will be back many times soon.',\n",
       " 'the menu had so much good stuff on it i could not decide!',\n",
       " 'worse of all, he humiliated his worker right in front of me..bunch of horrible name callings.',\n",
       " 'conclusion: very filling meals.',\n",
       " 'their daily specials are always a hit with my group.',\n",
       " 'and then tragedy struck.',\n",
       " 'the pancake was also really good and pretty large at that.',\n",
       " 'this was my first crawfish experience, and it was delicious!',\n",
       " 'their monster chicken fried steak and eggs is my all time favorite.',\n",
       " 'waitress was sweet and funny.',\n",
       " \"i also had to taste my mom's multi-grain pumpkin pancakes with pecan butter and they were amazing, fluffy, and delicious!\",\n",
       " \"i'd rather eat airline food, seriously.\",\n",
       " 'cant say enough good things about this place.',\n",
       " 'the ambiance was incredible.',\n",
       " 'the waitress and manager are so friendly.',\n",
       " 'i would not recommend this place.',\n",
       " \"overall i wasn't very impressed with noca.\",\n",
       " 'my gyro was basically lettuce only.',\n",
       " 'terrible service!',\n",
       " 'thoroughly disappointed!',\n",
       " \"i don't each much pasta, but i love the homemade /hand made pastas and thin pizzas here.\",\n",
       " 'give it a try, you will be happy you did.',\n",
       " 'by far the best cheesecurds we have ever had!',\n",
       " 'reasonably priced also!',\n",
       " 'everything was perfect the night we were in.',\n",
       " 'the food is very good for your typical bar food.',\n",
       " 'it was a drive to get there.',\n",
       " 'at first glance it is a lovely bakery cafe - nice ambiance, clean, friendly staff.',\n",
       " 'anyway, i do not think i will go back there.',\n",
       " \"point your finger at any item on the menu, order it and you won't be disappointed.\",\n",
       " 'oh this is such a thing of beauty, this restaurant.',\n",
       " \"if you haven't gone here go now!\",\n",
       " 'a greasy, unhealthy meal.',\n",
       " 'first time there and might just be the last.',\n",
       " 'those burgers were amazing.',\n",
       " 'similarly, the delivery man did not say a word of apology when our food was 45 minutes late.',\n",
       " 'and it was way to expensive.',\n",
       " 'be sure to order dessert, even if you need to pack it to-go - the tiramisu and cannoli are both to die for.',\n",
       " \"this was my first time and i can't wait until the next.\",\n",
       " 'the bartender was also nice.',\n",
       " 'everything was good and tasty!',\n",
       " 'this place is two thumbs up....way up.',\n",
       " 'the best place in vegas for breakfast (just check out a sat, or sun.',\n",
       " 'if you love authentic mexican food and want a whole bunch of interesting, yet delicious meats to choose from, you need to try this place.',\n",
       " 'terrible management.',\n",
       " 'an excellent new restaurant by an experienced frenchman.',\n",
       " 'if there were zero stars i would give it zero stars.',\n",
       " 'great steak, great sides, great wine, amazing desserts.',\n",
       " 'worst martini ever!',\n",
       " 'the steak and the shrimp are in my opinion the best entrees at gc.',\n",
       " 'i had the opportunity today to sample your amazing pizzas!',\n",
       " 'we waited for thirty minutes to be seated (although there were 8 vacant tables and we were the only folks waiting).',\n",
       " 'the yellowtail carpaccio was melt in your mouth fresh.',\n",
       " \"i won't try going back there even if it's empty.\",\n",
       " \"no, i'm going to eat the potato that i found some strangers hair in it.\",\n",
       " 'just spicy enough.. perfect actually.',\n",
       " 'last night was my second time dining here and i was so happy i decided to go back!',\n",
       " 'not even a \"hello, we will be right with you.\"',\n",
       " 'the desserts were a bit strange.',\n",
       " 'my boyfriend and i came here for the first time on a recent trip to vegas and could not have been more pleased with the quality of food and service.',\n",
       " 'i really do recommend this place, you can go wrong with this donut place!',\n",
       " 'nice ambiance.',\n",
       " 'i would recommend saving room for this!',\n",
       " 'i guess maybe we went on an off night but it was disgraceful.',\n",
       " 'however, my recent experience at this particular location was not so good.',\n",
       " 'i know this is not like the other restaurants at all, something is very off here!',\n",
       " 'avoid this establishment!',\n",
       " 'i think this restaurant suffers from not trying hard enough.',\n",
       " 'all of the tapas dishes were delicious!',\n",
       " 'i *heart* this place.',\n",
       " 'my salad had a bland vinegrette on the baby greens and hearts of palm.',\n",
       " 'after two i felt disgusting.',\n",
       " 'a good time!',\n",
       " 'i believe that this place is a great stop for those with a huge belly and hankering for sushi.',\n",
       " 'generous portions and great taste.',\n",
       " 'i will never go back to this place and will never ever recommended this place to anyone!',\n",
       " 'the servers went back and forth several times, not even so much as an \"are you being helped?\"',\n",
       " 'food was delicious!',\n",
       " 'an hour... seriously?',\n",
       " 'i consider this theft.',\n",
       " 'eew... this location needs a complete overhaul.',\n",
       " 'we recently witnessed her poor quality of management towards other guests as well.',\n",
       " 'waited and waited and waited.',\n",
       " 'he also came back to check on us regularly, excellent service.',\n",
       " 'our server was super nice and checked on us many times.',\n",
       " 'the pizza tasted old, super chewy in not a good way.',\n",
       " 'i swung in to give them a try but was deeply disappointed.',\n",
       " 'service was good and the company was better!',\n",
       " 'the staff are also very friendly and efficient.',\n",
       " \"as for the service: i'm a fan, because it's quick and you're being served by some nice folks.\",\n",
       " 'boy was that sucker dry!!.',\n",
       " 'over rated.',\n",
       " 'if you look for authentic thai food, go else where.',\n",
       " 'their steaks are 100% recommended!',\n",
       " 'after i pulled up my car i waited for another 15 minutes before being acknowledged.',\n",
       " 'great food and great service in a clean and friendly setting.',\n",
       " \"all in all, i can assure you i'll be back.\",\n",
       " 'i hate those things as much as cheap quality black olives.',\n",
       " 'my breakfast was perpared great, with a beautiful presentation of 3 giant slices of toast, lightly dusted with powdered sugar.',\n",
       " 'the kids play area is nasty!',\n",
       " 'great place fo take out or eat in.',\n",
       " 'the waitress was friendly and happy to accomodate for vegan/veggie options.',\n",
       " 'omg i felt like i had never eaten thai food until this dish.',\n",
       " 'it was extremely \"crumby\" and pretty tasteless.',\n",
       " 'it was a pale color instead of nice and char and has no flavor.',\n",
       " 'the croutons also taste homemade which is an extra plus.',\n",
       " 'i got home to see the driest damn wings ever!',\n",
       " \"it'll be a regular stop on my trips to phoenix!\",\n",
       " 'i really enjoyed crema café before they expanded. i even told friends they had the best breakfast.',\n",
       " 'not good for the money.',\n",
       " 'i miss it and wish they had one in philadelphia!',\n",
       " 'we got sitting fairly fast, but, ended up waiting 40 minutes just to place our order, another 30 minutes before the food arrived.',\n",
       " 'they also have the best cheese crisp in town.',\n",
       " 'good value, great food, great service.',\n",
       " \"couldn't ask for a more satisfying meal.\",\n",
       " 'the food is good.',\n",
       " 'it was awesome.',\n",
       " 'i just wanted to leave.',\n",
       " 'we made the drive all the way from north scottsdale... and i was not one bit disappointed!',\n",
       " 'i will not be eating there again.',\n",
       " '!....the owners really really need to quit being soooooo cheap let them wrap my freaking sandwich in two papers not one!',\n",
       " 'i checked out this place a couple years ago and was not impressed.',\n",
       " 'the chicken i got was definitely reheated and was only ok, the wedges were cold and soggy.',\n",
       " 'sorry, i will not be getting food from here anytime soon :(',\n",
       " 'an absolute must visit!',\n",
       " 'the cow tongue and cheek tacos are amazing.',\n",
       " 'my friend did not like his bloody mary.',\n",
       " 'despite how hard i rate businesses, its actually rare for me to give a 1 star.',\n",
       " 'they really want to make your experience a good one.',\n",
       " 'i will not return.',\n",
       " 'i had the chicken pho and it tasted very bland.',\n",
       " 'very disappointing!!!',\n",
       " 'the grilled chicken was so tender and yellow from the saffron seasoning.',\n",
       " 'a drive thru means you do not want to wait around for half an hour for your food, but somehow when we end up going here they make us wait and wait.',\n",
       " 'pretty awesome place.',\n",
       " 'ambience is perfect.',\n",
       " 'best of luck to the rude and non-customer service focused new management.',\n",
       " 'any grandmother can make a roasted chicken better than this one.',\n",
       " 'i asked multiple times for the wine list and after some time of being ignored i went to the hostess and got one myself.',\n",
       " 'the staff is always super friendly and helpful, which is especially cool when you bring two small boys and a baby!',\n",
       " 'four stars for the food & the guy in the blue shirt for his great vibe & still letting us in to eat !',\n",
       " 'the roast beef sandwich tasted really good!',\n",
       " 'same evening, him and i are both drastically sick.',\n",
       " 'high-quality chicken on the chicken caesar salad.',\n",
       " \"ordered burger rare came in we'll done.\",\n",
       " 'we were promptly greeted and seated.',\n",
       " 'tried to go here for lunch and it was a madhouse.',\n",
       " 'i was proven dead wrong by this sushi bar, not only because the quality is great, but the service is fast and the food, impeccable.',\n",
       " 'after waiting an hour and being seated, i was not in the greatest of moods.',\n",
       " 'this is a good joint.',\n",
       " 'the macarons here are insanely good.',\n",
       " \"i'm not eating here!\",\n",
       " 'our waiter was very attentive, friendly, and informative.',\n",
       " \"maybe if they weren't cold they would have been somewhat edible.\",\n",
       " 'this place has a lot of promise but fails to deliver.',\n",
       " 'very bad experience!',\n",
       " 'what a mistake.',\n",
       " 'food was average at best.',\n",
       " 'great food.',\n",
       " \"we won't be going back anytime soon!\",\n",
       " 'very very disappointed ordered the $35 big bay plater.',\n",
       " 'great place to relax and have an awesome burger and beer.',\n",
       " 'it is perfect for a sit-down family meal or get together with a few friends.',\n",
       " 'not much flavor to them, and very poorly constructed.',\n",
       " 'the patio seating was very comfortable.',\n",
       " 'the fried rice was dry as well.',\n",
       " 'hands down my favorite italian restaurant!',\n",
       " 'that just screams \"legit\" in my book...somethat\\'s also pretty rare here in vegas.',\n",
       " 'it was just not a fun experience.',\n",
       " 'the atmosphere was great with a lovely duo of violinists playing songs we requested.',\n",
       " \"i personally love the hummus, pita, baklava, falafels and baba ganoush (it's amazing what they do with eggplant!).\",\n",
       " 'very convenient, since we were staying at the mgm!',\n",
       " 'the owners are super friendly and the staff is courteous.',\n",
       " 'both great!',\n",
       " 'eclectic selection.',\n",
       " 'the sweet potato tots were good but the onion rings were perfection or as close as i have had.',\n",
       " 'the staff was very attentive.',\n",
       " 'and the chef was generous with his time (even came around twice so we can take pictures with him).',\n",
       " 'the owner used to work at nobu, so this place is really similar for half the price.',\n",
       " 'google mediocre and i imagine smashburger will pop up.',\n",
       " 'dont go here.',\n",
       " \"i promise they won't disappoint.\",\n",
       " 'as a sushi lover avoid this place by all means.',\n",
       " 'what a great double cheeseburger!',\n",
       " 'awesome service and food.',\n",
       " 'a fantastic neighborhood gem !!!',\n",
       " \"i can't wait to go back.\",\n",
       " \"the plantains were the worst i've ever tasted.\",\n",
       " \"it's a great place and i highly recommend it.\",\n",
       " 'service was slow and not attentive.',\n",
       " \"i gave it 5 stars then, and i'm giving it 5 stars now.\",\n",
       " 'your staff spends more time talking to themselves than me.',\n",
       " 'dessert: panna cotta was amazing.',\n",
       " 'very good food, great atmosphere.1',\n",
       " 'damn good steak.',\n",
       " 'total brunch fail.',\n",
       " 'prices are very reasonable, flavors are spot on, the sauce is home made, and the slaw is not drenched in mayo.',\n",
       " 'the decor is nice, and the piano music soundtrack is pleasant.',\n",
       " 'the steak was amazing...rge fillet relleno was the best seafood plate i have ever had!',\n",
       " 'good food , good service .',\n",
       " 'it was absolutely amazing.',\n",
       " \"i probably won't be back, to be honest.\",\n",
       " 'will definitely be back!',\n",
       " 'the sergeant pepper beef sandwich with auju sauce is an excellent sandwich as well.',\n",
       " \"hawaiian breeze, mango magic, and pineapple delight are the smoothies that i've tried so far and they're all good.\",\n",
       " 'went for lunch - service was slow.',\n",
       " 'we had so much to say about the place before we walked in that he expected it to be amazing, but was quickly disappointed.',\n",
       " 'i was mortified.',\n",
       " 'needless to say, we will never be back here again.',\n",
       " 'anyways, the food was definitely not filling at all, and for the price you pay you should expect more.',\n",
       " 'the chips that came out were dripping with grease, and mostly not edible.',\n",
       " \"i wasn't really impressed with strip steak.\",\n",
       " 'have been going since 2007 and every meal has been awesome!!',\n",
       " 'our server was very nice and attentive as were the other serving staff.',\n",
       " 'the cashier was friendly and even brought the food out to me.',\n",
       " 'i work in the hospitality industry in paradise valley and have refrained from recommending cibo any longer.',\n",
       " 'the atmosphere here is fun.',\n",
       " 'would not recommend to others.',\n",
       " 'service is quick and even \"to go\" orders are just like we like it!',\n",
       " \"i mean really, how do you get so famous for your fish and chips when it's so terrible!?!\",\n",
       " 'that said, our mouths and bellies were still quite pleased.',\n",
       " 'not my thing.',\n",
       " '2 thumbs up!!',\n",
       " \"if you are reading this please don't go there.\",\n",
       " 'i loved the grilled pizza, reminded me of legit italian pizza.',\n",
       " 'only pros : large seating area/ nice bar area/ great simple drink menu/ the best brick oven pizza with homemade dough!',\n",
       " 'they have a really nice atmosphere.',\n",
       " 'tonight i had the elk filet special...and it sucked.',\n",
       " 'after one bite, i was hooked.',\n",
       " 'we ordered some old classics and some new dishes after going there a few times and were sorely disappointed with everything.',\n",
       " 'cute, quaint, simple, honest.',\n",
       " 'the chicken was deliciously seasoned and had the perfect fry on the outside and moist chicken on the inside.',\n",
       " 'the food was great as always, compliments to the chef.',\n",
       " 'special thanks to dylan t. for the recommendation on what to order :) all yummy for my tummy.',\n",
       " 'awesome selection of beer.',\n",
       " 'great food and awesome service!',\n",
       " \"one nice thing was that they added gratuity on the bill since our party was larger than 6 or 8, and they didn't expect more tip than that.\",\n",
       " 'a fly was in my apple juice.. a fly!!!!!!!!',\n",
       " 'the han nan chicken was also very tasty.',\n",
       " 'as for the service, i thought it was good.',\n",
       " 'the food was barely lukewarm, so it must have been sitting waiting for the server to bring it out to us.',\n",
       " \"ryan's bar is definitely one edinburgh establishment i won't be revisiting.\",\n",
       " \"nicest chinese restaurant i've been in a while.\",\n",
       " 'overall, i like there food and the service.',\n",
       " 'they also now serve indian naan bread with hummus and some spicy pine nut sauce that was out of this world.',\n",
       " \"probably never coming back, and wouldn't recommend it.\",\n",
       " \"friend's pasta -- also bad, he barely touched it.\",\n",
       " 'try them in the airport to experience some tasty food and speedy, friendly service.',\n",
       " 'i love the decor with the chinese calligraphy wall paper.',\n",
       " 'never had anything to complain about here.',\n",
       " 'the restaurant is very clean and has a family restaurant feel to it.',\n",
       " 'it was way over fried.',\n",
       " \"i'm not sure how long we stood there but it was long enough for me to begin to feel awkwardly out of place.\",\n",
       " 'when i opened the sandwich, i was impressed, but not in a good way.',\n",
       " 'will not be back!',\n",
       " 'there was a warm feeling with the service and i felt like their guest for a special treat.',\n",
       " 'an extensive menu provides lots of options for breakfast.',\n",
       " 'i always order from the vegetarian menu during dinner, which has a wide array of options to choose from.',\n",
       " 'i have watched their prices inflate, portions get smaller and management attitudes grow rapidly!',\n",
       " 'wonderful lil tapas and the ambience made me feel all warm and fuzzy inside.',\n",
       " 'i got to enjoy the seafood salad, with a fabulous vinegrette.',\n",
       " 'the wontons were thin, not thick and chewy, almost melt in your mouth.',\n",
       " \"level 5 spicy was perfect, where spice didn't over-whelm the soup.\",\n",
       " 'we were sat right on time and our server from the get go was fantastic!',\n",
       " \"main thing i didn't enjoy is that the crowd is of older crowd, around mid 30s and up.\",\n",
       " \"when i'm on this side of town, this will definitely be a spot i'll hit up again!\",\n",
       " 'i had to wait over 30 minutes to get my drink and longer to get 2 arepas.',\n",
       " 'this is a great place to eat!',\n",
       " 'the jalapeno bacon is soooo good.',\n",
       " 'the service was poor and thats being nice.',\n",
       " 'food was good, service was good, prices were good.',\n",
       " 'the place was not clean and the food oh so stale!',\n",
       " 'the chicken dishes are ok, the beef is like shoe leather.',\n",
       " 'but the service was beyond bad.',\n",
       " 'i\\'m so happy to be here!!!\"',\n",
       " 'tasted like dirt.',\n",
       " 'one of the few places in phoenix that i would definately go back to again .',\n",
       " 'the block was amazing.',\n",
       " \"it's close to my house, it's low-key, non-fancy, affordable prices, good food.\",\n",
       " '* both the hot & sour & the egg flower soups were absolutely 5 stars!',\n",
       " 'my sashimi was poor quality being soggy and tasteless.',\n",
       " 'great time - family dinner on a sunday night.',\n",
       " 'the food is not tasty at all, not to say its \"real traditional hunan style\".',\n",
       " 'what did bother me, was the slow service.',\n",
       " 'the flair bartenders are absolutely amazing!',\n",
       " 'their frozen margaritas are way too sugary for my taste.',\n",
       " 'these were so good we ordered them twice.',\n",
       " 'so in a nutshell: 1) the restaraunt smells like a combination of a dirty fish market and a sewer.',\n",
       " \"my girlfriend's veal was very bad.\",\n",
       " 'unfortunately, it was not good.',\n",
       " 'i had a pretty satifying experience.',\n",
       " 'join the club and get awesome offers via email.',\n",
       " 'perfect for someone (me) who only likes beer ice cold, or in this case, even colder.',\n",
       " 'bland and flavorless is a good way of describing the barely tepid meat.',\n",
       " \"the chains, which i'm no fan of, beat this place easily.\",\n",
       " 'the nachos are a must have!',\n",
       " 'we will not be coming back.',\n",
       " \"i don't have very many words to say about this place, but it does everything pretty well.\",\n",
       " 'the staff is super nice and very quick even with the crazy crowds of the downtown juries, lawyers, and court staff.',\n",
       " 'great atmosphere, friendly and fast service.',\n",
       " 'when i received my pita it was huge it did have a lot of meat in it so thumbs up there.',\n",
       " \"once your food arrives it's meh.\",\n",
       " \"paying $7.85 for a hot dog and fries that looks like it came out of a kid's meal at the wienerschnitzel is not my idea of a good meal.\",\n",
       " 'the classic maine lobster roll was fantastic.',\n",
       " 'my brother in law who works at the mall ate here same day, and guess what he was sick all night too.',\n",
       " 'so good i am going to have to review this place twice - once hereas a tribute to the place and once as a tribute to an event held here last night.',\n",
       " 'the chips and salsa were really good, the salsa was very fresh.',\n",
       " 'this place is great!!!!!!!!!!!!!!',\n",
       " 'mediocre food.',\n",
       " \"once you get inside you'll be impressed with the place.\",\n",
       " \"i'm super pissd.\",\n",
       " 'and service was super friendly.',\n",
       " 'why are these sad little vegetables so overcooked?',\n",
       " 'this place was such a nice surprise!',\n",
       " 'they were golden-crispy and delicious.',\n",
       " 'i had high hopes for this place since the burgers are cooked over a charcoal grill, but unfortunately the taste fell flat, way flat.',\n",
       " 'i could eat their bruschetta all day it is devine.',\n",
       " 'not a single employee came out to see if we were ok or even needed a water refill once they finally served us our food.',\n",
       " 'lastly, the mozzarella sticks, they were the best thing we ordered.',\n",
       " 'the first time i ever came here i had an amazing experience, i still tell people how awesome the duck was.',\n",
       " 'the server was very negligent of our needs and made us feel very unwelcome... i would not suggest this place!',\n",
       " 'the service was terrible though.',\n",
       " 'this place is overpriced, not consistent with their boba, and it really is overpriced!',\n",
       " 'it was packed!!',\n",
       " 'i love this place.',\n",
       " 'i can say that the desserts were yummy.',\n",
       " 'the food was terrible.',\n",
       " 'the seasonal fruit was fresh white peach puree.',\n",
       " \"it kept getting worse and worse so now i'm officially done.\",\n",
       " 'this place should honestly be blown up.',\n",
       " 'but i definitely would not eat here again.',\n",
       " 'do not waste your money here!',\n",
       " 'i love that they put their food in nice plastic containers as opposed to cramming it in little paper takeout boxes.',\n",
       " 'the crêpe was delicate and thin and moist.',\n",
       " 'awful service.',\n",
       " \"won't ever go here again.\",\n",
       " 'food quality has been horrible.',\n",
       " 'for that price i can think of a few place i would have much rather gone.',\n",
       " 'the service here is fair at best.',\n",
       " 'i do love sushi, but i found kabuki to be over-priced, over-hip and under-services.',\n",
       " 'do yourself a favor and stay away from this dish.',\n",
       " 'very poor service.',\n",
       " 'no one at the table thought the food was above average or worth the wait that we had for it.',\n",
       " 'best service and food ever, maria our server was so good and friendly she made our day.',\n",
       " 'they were excellent.',\n",
       " 'i paid the bill but did not tip because i felt the server did a terrible job.',\n",
       " 'just had lunch here and had a great experience.',\n",
       " 'i have never had such bland food which surprised me considering the article we read focused so much on their spices and flavor.',\n",
       " 'food is way overpriced and portions are fucking small.',\n",
       " \"i recently tried caballero's and i have been back every week since!\",\n",
       " 'for 40 bucks a head, i really expect better food.',\n",
       " 'the food came out at a good pace.',\n",
       " 'i ate there twice on my last visit, and especially enjoyed the salmon salad.',\n",
       " \"i won't be back.\",\n",
       " 'we could not believe how dirty the oysters were!',\n",
       " 'this place deserves no stars.',\n",
       " 'i would not recommend this place.',\n",
       " \"in fact i'm going to round up to 4 stars, just because she was so awesome.\",\n",
       " 'to my disbelief, each dish qualified as the worst version of these foods i have ever tasted.',\n",
       " 'bad day or not, i have a very low tolerance for rude customer service people, it is your job to be nice and polite, wash dishes otherwise!!',\n",
       " 'the potatoes were great and so was the biscuit.',\n",
       " 'i probably would not go here again.',\n",
       " 'so flavorful and has just the perfect amount of heat.',\n",
       " 'the price is reasonable and the service is great.',\n",
       " 'the wife hated her meal (coconut shrimp), and our friends really did not enjoy their meals, either.',\n",
       " \"my fella got the huevos rancheros and they didn't look too appealing.\",\n",
       " 'went in for happy hour, great list of wines.',\n",
       " 'some may say this buffet is pricey but i think you get what you pay for and this place you are getting quite a lot!',\n",
       " \"i probably won't be coming back here.\",\n",
       " \"worst food/service i've had in a while.\",\n",
       " 'this place is pretty good, nice little vibe in the restaurant.',\n",
       " 'talk about great customer service of course we will be back.',\n",
       " 'hot dishes are not hot, cold dishes are close to room temp.i watched staff prepare food with bare hands, no gloves.everything is deep fried in oil.',\n",
       " 'i love their fries and their beans.',\n",
       " 'always a pleasure dealing with him.',\n",
       " \"they have a plethora of salads and sandwiches, and everything i've tried gets my seal of approval.\",\n",
       " 'this place is awesome if you want something light and healthy during the summer.',\n",
       " 'for sushi on the strip, this is the place to go.',\n",
       " 'the service was great, even the manager came and helped with our table.',\n",
       " 'the feel of the dining room was more college cooking course than high class dining and the service was slow at best.',\n",
       " \"i started this review with two stars, but i'm editing it to give it only one.\",\n",
       " \"this is the worst sushi i have ever eat besides costco's.\",\n",
       " 'all in all an excellent restaurant highlighted by great service, a unique menu, and a beautiful setting.',\n",
       " 'my boyfriend and i sat at the bar and had a completely delightful experience.',\n",
       " 'weird vibe from owners.',\n",
       " 'there was hardly any meat.',\n",
       " \"i've had better bagels from the grocery store.\",\n",
       " 'go to place for gyros.',\n",
       " 'i love the owner/chef, his one authentic japanese cool dude!',\n",
       " \"now the burgers aren't as good, the pizza which used to be amazing is doughy and flavorless.\",\n",
       " 'i found a six inch long piece of wire in my salsa.',\n",
       " 'the service was terrible, food was mediocre.',\n",
       " 'we definately enjoyed ourselves.',\n",
       " 'i ordered albondigas soup - which was just warm - and tasted like tomato soup with frozen meatballs.',\n",
       " 'on three different occasions i asked for well done or medium well, and all three times i got the bloodiest piece of meat on my plate.',\n",
       " 'i had about two bites and refused to eat anymore.',\n",
       " 'the service was extremely slow.',\n",
       " 'after 20 minutes wait, i got a table.',\n",
       " 'seriously killer hot chai latte.',\n",
       " 'no allergy warnings on the menu, and the waitress had absolutely no clue as to which meals did or did not contain peanuts.',\n",
       " 'my boyfriend tried the mediterranean chicken salad and fell in love.',\n",
       " 'their rotating beers on tap is also a highlight of this place.',\n",
       " 'pricing is a bit of a concern at mellow mushroom.',\n",
       " 'worst thai ever.',\n",
       " 'if you stay in vegas you must get breakfast here at least once.',\n",
       " 'i want to first say our server was great and we had perfect service.',\n",
       " 'the pizza selections are good.',\n",
       " 'i had strawberry tea, which was good.',\n",
       " 'highly unprofessional and rude to a loyal patron!',\n",
       " 'overall, a great experience.',\n",
       " 'spend your money elsewhere.',\n",
       " 'their regular toasted bread was equally satisfying with the occasional pats of butter... mmmm...!',\n",
       " 'the buffet at bellagio was far from what i anticipated.',\n",
       " 'and the drinks are weak, people!',\n",
       " '-my order was not correct.',\n",
       " 'also, i feel like the chips are bought, not made in house.',\n",
       " 'after the disappointing dinner we went elsewhere for dessert.',\n",
       " 'the chips and sals a here is amazing!!!!!!!!!!!!!!!!!!!',\n",
       " \"we won't be returning.\",\n",
       " 'this is my new fav vegas buffet spot.',\n",
       " 'i seriously cannot believe that the owner has so many unexperienced employees that all are running around like chickens with their heads cut off.',\n",
       " 'very, very sad.',\n",
       " 'i felt insulted and disrespected, how could you talk and judge another human being like that?',\n",
       " \"how can you call yourself a steakhouse if you can't properly cook a steak, i don't understand!\",\n",
       " \"i'm not impressed with the concept or the food.\",\n",
       " \"the only thing i wasn't too crazy about was their guacamole as i don't like it puréed.\",\n",
       " 'there is really nothing for me at postinos, hope your experience is better',\n",
       " 'i got food poisoning here at the buffet.',\n",
       " 'they brought a fresh batch of fries and i was thinking yay something warm but no!',\n",
       " 'what should have been a hilarious, yummy christmas eve dinner to remember was the biggest fail of the entire trip for us.',\n",
       " \"needless to say, i won't be going back anytime soon.\",\n",
       " 'this place is disgusting!',\n",
       " 'every time i eat here, i see caring teamwork to a professional degree.',\n",
       " 'the ri style calamari was a joke.',\n",
       " 'however, there was so much garlic in the fondue, it was barely edible.',\n",
       " \"i could barely stomach the meal, but didn't complain because it was a business lunch.\",\n",
       " 'it was so bad, i had lost the heart to finish it.',\n",
       " 'it also took her forever to bring us the check when we asked for it.',\n",
       " \"we aren't ones to make a scene at restaurants but i just don't get it...definitely lost the love after this one!\",\n",
       " 'disappointing experience.',\n",
       " \"the food is about on par with denny's, which is to say, not good at all.\",\n",
       " 'if you want to wait for mediocre food and downright terrible service, then this is the place for you.',\n",
       " 'waaaaaayyyyyyyyyy over rated is all i am saying.',\n",
       " \"we won't be going back.\",\n",
       " \"the place was fairly clean but the food simply wasn't worth it.\",\n",
       " 'this place lacked style!!',\n",
       " 'the sangria was about half of a glass wine full and was $12, ridiculous.',\n",
       " \"don't bother coming here.\",\n",
       " 'the meat was pretty dry, i had the sliced brisket and pulled pork.',\n",
       " \"the building itself seems pretty neat, the bathroom is pretty trippy, but i wouldn't eat here again.\",\n",
       " 'it was equally awful.',\n",
       " 'probably not in a hurry to go back.',\n",
       " 'very slow at seating even with reservation.',\n",
       " 'not good by any stretch of the imagination.',\n",
       " 'the cashew cream sauce was bland and the vegetables were undercooked.',\n",
       " 'the chipolte ranch dipping sause was tasteless, seemed thin and watered down with no heat.',\n",
       " 'it was a bit too sweet, not really spicy enough, and lacked flavor.',\n",
       " 'i was very disappointed!!',\n",
       " 'this place is horrible and way overpriced.',\n",
       " \"maybe it's just their vegetarian fare, but i've been twice and i thought it was average at best.\",\n",
       " \"it wasn't busy at all and now we know why.\",\n",
       " 'the tables outside are also dirty a lot of the time and the workers are not always friendly and helpful with the menu.',\n",
       " 'the ambiance here did not feel like a buffet setting, but more of a douchey indoor garden for tea and biscuits.',\n",
       " 'con: spotty service.',\n",
       " 'the fries were not hot, and neither was my burger.',\n",
       " 'but then they came back cold.',\n",
       " 'then our food came out, disappointment ensued.',\n",
       " 'the real disappointment was our waiter.',\n",
       " 'my husband said she was very rude... did not even apologize for the bad food or anything.',\n",
       " 'the only reason to eat here would be to fill up before a night of binge drinking just to get some carbs in your stomach.',\n",
       " 'insults, profound deuchebaggery, and had to go outside for a smoke break while serving just to solidify it.',\n",
       " \"if someone orders two tacos don't' you think it may be part of customer service to ask if it is combo or ala cart?\",\n",
       " 'she was quite disappointed although some blame needs to be placed at her door.',\n",
       " \"after all the rave reviews i couldn't wait to eat here......what a disappointment!\",\n",
       " 'del taco is pretty nasty and should be avoided if possible.',\n",
       " \"it's not hard to make a decent hamburger.\",\n",
       " \"but i don't like it.\",\n",
       " 'hell no will i go back',\n",
       " \"we've have gotten a much better service from the pizza place next door than the services we received from this restaurant.\",\n",
       " 'i don\\'t know what the big deal is about this place, but i won\\'t be back \"ya\\'all\".',\n",
       " 'i immediately said i wanted to talk to the manager but i did not want to talk to the guy who was doing shots of fireball behind the bar.',\n",
       " \"the ambiance isn't much better.\",\n",
       " 'unfortunately, it only set us up for disapppointment with our entrees.',\n",
       " \"the food wasn't good.\",\n",
       " 'your servers suck, wait, correction, our server heimer sucked.',\n",
       " 'what happened next was pretty....off putting.',\n",
       " \"too bad cause i know it's family owned, i really wanted to like this place.\",\n",
       " 'overpriced for what you are getting.',\n",
       " 'i vomited in the bathroom mid lunch.',\n",
       " 'i kept looking at the time and it had soon become 35 minutes, yet still no food.',\n",
       " 'i have been to very few places to eat that under no circumstances would i ever return to, and this tops the list.',\n",
       " \"we started with the tuna sashimi which was brownish in color and obviously wasn't fresh.\",\n",
       " 'food was below average.',\n",
       " 'it sure does beat the nachos at the movies but i would expect a little bit more coming from a restaurant.',\n",
       " 'all in all, ha long bay was a bit of a flop.',\n",
       " 'the problem i have is that they charge $11.99 for a sandwich that is no bigger than a subway sub (which offers better and more amount of vegetables).',\n",
       " 'shrimp- when i unwrapped it (i live only 1/2 a mile from brushfire) it was literally ice cold.',\n",
       " 'it lacked flavor, seemed undercooked, and dry.',\n",
       " \"it really is impressive that the place hasn't closed down.\",\n",
       " 'i would avoid this place if you are staying in the mirage.',\n",
       " 'the refried beans that came with my meal were dried out and crusty and the food was bland.',\n",
       " 'spend your money and time some place else.',\n",
       " 'a lady at the table next to us found a live green caterpillar in her salad.',\n",
       " 'the presentation of the food was awful.',\n",
       " \"i can't tell you how disappointed i was.\",\n",
       " 'i think food should have flavor and texture and both were lacking.',\n",
       " 'appetite instantly gone.',\n",
       " 'overall i was not impressed and would not go back.',\n",
       " \"the whole experience was underwhelming, and i think we'll just go to ninja sushi next time.\",\n",
       " \"then, as if i hadn't wasted enough of my life there, they poured salt in the wound by drawing out the time it took to bring the check.\"]"
      ]
     },
     "execution_count": 6,
     "metadata": {},
     "output_type": "execute_result"
    }
   ],
   "source": [
    "lower_casing = [word.lower() for word in df[\"Review\"]]\n",
    "lower_casing"
   ]
  },
  {
   "cell_type": "code",
   "execution_count": 7,
   "metadata": {},
   "outputs": [
    {
     "data": {
      "text/plain": [
       "['i',\n",
       " 'me',\n",
       " 'my',\n",
       " 'myself',\n",
       " 'we',\n",
       " 'our',\n",
       " 'ours',\n",
       " 'ourselves',\n",
       " 'you',\n",
       " \"you're\",\n",
       " \"you've\",\n",
       " \"you'll\",\n",
       " \"you'd\",\n",
       " 'your',\n",
       " 'yours',\n",
       " 'yourself',\n",
       " 'yourselves',\n",
       " 'he',\n",
       " 'him',\n",
       " 'his',\n",
       " 'himself',\n",
       " 'she',\n",
       " \"she's\",\n",
       " 'her',\n",
       " 'hers',\n",
       " 'herself',\n",
       " 'it',\n",
       " \"it's\",\n",
       " 'its',\n",
       " 'itself',\n",
       " 'they',\n",
       " 'them',\n",
       " 'their',\n",
       " 'theirs',\n",
       " 'themselves',\n",
       " 'what',\n",
       " 'which',\n",
       " 'who',\n",
       " 'whom',\n",
       " 'this',\n",
       " 'that',\n",
       " \"that'll\",\n",
       " 'these',\n",
       " 'those',\n",
       " 'am',\n",
       " 'is',\n",
       " 'are',\n",
       " 'was',\n",
       " 'were',\n",
       " 'be',\n",
       " 'been',\n",
       " 'being',\n",
       " 'have',\n",
       " 'has',\n",
       " 'had',\n",
       " 'having',\n",
       " 'do',\n",
       " 'does',\n",
       " 'did',\n",
       " 'doing',\n",
       " 'a',\n",
       " 'an',\n",
       " 'the',\n",
       " 'and',\n",
       " 'but',\n",
       " 'if',\n",
       " 'or',\n",
       " 'because',\n",
       " 'as',\n",
       " 'until',\n",
       " 'while',\n",
       " 'of',\n",
       " 'at',\n",
       " 'by',\n",
       " 'for',\n",
       " 'with',\n",
       " 'about',\n",
       " 'against',\n",
       " 'between',\n",
       " 'into',\n",
       " 'through',\n",
       " 'during',\n",
       " 'before',\n",
       " 'after',\n",
       " 'above',\n",
       " 'below',\n",
       " 'to',\n",
       " 'from',\n",
       " 'up',\n",
       " 'down',\n",
       " 'in',\n",
       " 'out',\n",
       " 'on',\n",
       " 'off',\n",
       " 'over',\n",
       " 'under',\n",
       " 'again',\n",
       " 'further',\n",
       " 'then',\n",
       " 'once',\n",
       " 'here',\n",
       " 'there',\n",
       " 'when',\n",
       " 'where',\n",
       " 'why',\n",
       " 'how',\n",
       " 'all',\n",
       " 'any',\n",
       " 'both',\n",
       " 'each',\n",
       " 'few',\n",
       " 'more',\n",
       " 'most',\n",
       " 'other',\n",
       " 'some',\n",
       " 'such',\n",
       " 'no',\n",
       " 'nor',\n",
       " 'not',\n",
       " 'only',\n",
       " 'own',\n",
       " 'same',\n",
       " 'so',\n",
       " 'than',\n",
       " 'too',\n",
       " 'very',\n",
       " 's',\n",
       " 't',\n",
       " 'can',\n",
       " 'will',\n",
       " 'just',\n",
       " 'don',\n",
       " \"don't\",\n",
       " 'should',\n",
       " \"should've\",\n",
       " 'now',\n",
       " 'd',\n",
       " 'll',\n",
       " 'm',\n",
       " 'o',\n",
       " 're',\n",
       " 've',\n",
       " 'y',\n",
       " 'ain',\n",
       " 'aren',\n",
       " \"aren't\",\n",
       " 'couldn',\n",
       " \"couldn't\",\n",
       " 'didn',\n",
       " \"didn't\",\n",
       " 'doesn',\n",
       " \"doesn't\",\n",
       " 'hadn',\n",
       " \"hadn't\",\n",
       " 'hasn',\n",
       " \"hasn't\",\n",
       " 'haven',\n",
       " \"haven't\",\n",
       " 'isn',\n",
       " \"isn't\",\n",
       " 'ma',\n",
       " 'mightn',\n",
       " \"mightn't\",\n",
       " 'mustn',\n",
       " \"mustn't\",\n",
       " 'needn',\n",
       " \"needn't\",\n",
       " 'shan',\n",
       " \"shan't\",\n",
       " 'shouldn',\n",
       " \"shouldn't\",\n",
       " 'wasn',\n",
       " \"wasn't\",\n",
       " 'weren',\n",
       " \"weren't\",\n",
       " 'won',\n",
       " \"won't\",\n",
       " 'wouldn',\n",
       " \"wouldn't\"]"
      ]
     },
     "execution_count": 7,
     "metadata": {},
     "output_type": "execute_result"
    }
   ],
   "source": [
    "from nltk.corpus import stopwords\n",
    "Stopwords = stopwords.words(\"english\")\n",
    "Stopwords"
   ]
  },
  {
   "cell_type": "code",
   "execution_count": 8,
   "metadata": {},
   "outputs": [
    {
     "data": {
      "text/plain": [
       "179"
      ]
     },
     "execution_count": 8,
     "metadata": {},
     "output_type": "execute_result"
    }
   ],
   "source": [
    "len(Stopwords)"
   ]
  },
  {
   "cell_type": "code",
   "execution_count": 9,
   "metadata": {},
   "outputs": [
    {
     "data": {
      "text/plain": [
       "['wow... loved this place.',\n",
       " 'crust is not good.',\n",
       " 'not tasty and the texture was just nasty.',\n",
       " 'stopped by during the late may bank holiday off rick steve recommendation and loved it.',\n",
       " 'the selection on the menu was great and so were the prices.',\n",
       " 'now i am getting angry and i want my damn pho.',\n",
       " \"honeslty it didn't taste that fresh.)\",\n",
       " 'the potatoes were like rubber and you could tell they had been made up ahead of time being kept under a warmer.',\n",
       " 'the fries were great too.',\n",
       " 'a great touch.',\n",
       " 'service was very prompt.',\n",
       " 'would not go back.',\n",
       " 'the cashier had no care what so ever on what i had to say it still ended up being wayyy overpriced.',\n",
       " 'i tried the cape cod ravoli, chicken, with cranberry...mmmm!',\n",
       " 'i was disgusted because i was pretty sure that was human hair.',\n",
       " 'i was shocked because no signs indicate cash only.',\n",
       " 'highly recommended.',\n",
       " 'waitress was a little slow in service.',\n",
       " 'this place is not worth your time, let alone vegas.',\n",
       " 'did not like at all.',\n",
       " 'the burrittos blah!',\n",
       " 'the food, amazing.',\n",
       " 'service is also cute.',\n",
       " 'i could care less... the interior is just beautiful.',\n",
       " 'so they performed.',\n",
       " \"that's right....the red velvet cake.....ohhh this stuff is so good.\",\n",
       " '- they never brought a salad we asked for.',\n",
       " 'this hole in the wall has great mexican street tacos, and friendly staff.',\n",
       " 'took an hour to get our food only 4 tables in restaurant my food was luke warm, our sever was running around like he was totally overwhelmed.',\n",
       " 'the worst was the salmon sashimi.',\n",
       " 'also there are combos like a burger, fries, and beer for 23 which is a decent deal.',\n",
       " 'this was like the final blow!',\n",
       " 'i found this place by accident and i could not be happier.',\n",
       " 'seems like a good quick place to grab a bite of some familiar pub food, but do yourself a favor and look elsewhere.',\n",
       " 'overall, i like this place a lot.',\n",
       " 'the only redeeming quality of the restaurant was that it was very inexpensive.',\n",
       " 'ample portions and good prices.',\n",
       " 'poor service, the waiter made me feel like i was stupid every time he came to the table.',\n",
       " 'my first visit to hiro was a delight!',\n",
       " 'service sucks.',\n",
       " 'the shrimp tender and moist.',\n",
       " 'there is not a deal good enough that would drag me into that establishment again.',\n",
       " \"hard to judge whether these sides were good because we were grossed out by the melted styrofoam and didn't want to eat it for fear of getting sick.\",\n",
       " 'on a positive note, our server was very attentive and provided great service.',\n",
       " 'frozen pucks of disgust, with some of the worst people behind the register.',\n",
       " 'the only thing i did like was the prime rib and dessert section.',\n",
       " \"it's too bad the food is so damn generic.\",\n",
       " 'the burger is good beef, cooked just right.',\n",
       " 'if you want a sandwich just go to any firehouse!!!!!',\n",
       " 'my side greek salad with the greek dressing was so tasty, and the pita and hummus was very refreshing.',\n",
       " 'we ordered the duck rare and it was pink and tender on the inside with a nice char on the outside.',\n",
       " 'he came running after us when he realized my husband had left his sunglasses on the table.',\n",
       " 'their chow mein is so good!',\n",
       " \"they have horrible attitudes towards customers, and talk down to each one when customers don't enjoy their food.\",\n",
       " 'the portion was huge!',\n",
       " 'loved it...friendly servers, great food, wonderful and imaginative menu.',\n",
       " 'the heart attack grill in downtown vegas is an absolutely flat-lined excuse for a restaurant.',\n",
       " 'not much seafood and like 5 strings of pasta at the bottom.',\n",
       " 'the salad had just the right amount of sauce to not over power the scallop, which was perfectly cooked.',\n",
       " 'the ripped banana was not only ripped, but petrified and tasteless.',\n",
       " 'at least think to refill my water before i struggle to wave you over for 10 minutes.',\n",
       " 'this place receives stars for their appetizers!!!',\n",
       " 'the cocktails are all handmade and delicious.',\n",
       " \"we'd definitely go back here again.\",\n",
       " 'we are so glad we found this place.',\n",
       " 'great food and service, huge portions and they give a military discount.',\n",
       " 'always a great time at dos gringos!',\n",
       " 'update.....went back for a second time and it was still just as amazing',\n",
       " 'we got the food and apparently they have never heard of salt and the batter on the fish was chewy.',\n",
       " 'a great way to finish a great.',\n",
       " 'the deal included 5 tastings and 2 drinks, and jeff went above and beyond what we expected.',\n",
       " '- really, really good rice, all the time.',\n",
       " 'the service was meh.',\n",
       " 'it took over 30 min to get their milkshake, which was nothing more than chocolate milk.',\n",
       " \"i guess i should have known that this place would suck, because it is inside of the excalibur, but i didn't use my common sense.\",\n",
       " 'the scallop dish is quite appalling for value as well.',\n",
       " '2 times - very bad customer service !',\n",
       " 'the sweet potato fries were very good and seasoned well.',\n",
       " \"today is the second time i've been to their lunch buffet and it was pretty good.\",\n",
       " 'there is so much good food in vegas that i feel cheated for wasting an eating opportunity by going to rice and company.',\n",
       " \"coming here is like experiencing an underwhelming relationship where both parties can't wait for the other person to ask to break up.\",\n",
       " 'walked in and the place smelled like an old grease trap and only 2 others there eating.',\n",
       " 'the turkey and roast beef were bland.',\n",
       " 'this place has it!',\n",
       " 'the pan cakes everyone are raving about taste like a sugary disaster tailored to the palate of a six year old.',\n",
       " 'i love the pho and the spring rolls oh so yummy you have to try.',\n",
       " 'the poor batter to meat ratio made the chicken tenders very unsatisfying.',\n",
       " 'all i have to say is the food was amazing!!!',\n",
       " 'omelets are to die for!',\n",
       " 'everything was fresh and delicious!',\n",
       " 'in summary, this was a largely disappointing dining experience.',\n",
       " \"it's like a really sexy party in your mouth, where you're outrageously flirting with the hottest person at the party.\",\n",
       " 'never been to hard rock casino before, will never ever step forward in it again!',\n",
       " 'best breakfast buffet!!!',\n",
       " 'say bye bye to your tip lady!',\n",
       " \"we'll never go again.\",\n",
       " 'will be back again!',\n",
       " 'food arrived quickly!',\n",
       " 'it was not good.',\n",
       " 'on the up side, their cafe serves really good food.',\n",
       " 'our server was fantastic and when he found out the wife loves roasted garlic and bone marrow, he added extra to our meal and another marrow to go!',\n",
       " \"the only good thing was our waiter, he was very helpful and kept the bloddy mary's coming.\",\n",
       " 'best buffet in town, for the price you cannot beat it.',\n",
       " 'i loved their mussels cooked in this wine reduction, the duck was tender, and their potato dishes were delicious.',\n",
       " 'this is one of the better buffets that i have been to.',\n",
       " 'so we went to tigerlilly and had a fantastic afternoon!',\n",
       " 'the food was delicious, our bartender was attentive and personable and we got a great deal!',\n",
       " 'the ambience is wonderful and there is music playing.',\n",
       " 'will go back next trip out.',\n",
       " 'sooooo good!!',\n",
       " \"real sushi lovers, let's be honest - yama is not that good.\",\n",
       " \"at least 40min passed in between us ordering and the food arriving, and it wasn't that busy.\",\n",
       " 'this is a really fantastic thai restaurant which is definitely worth a visit.',\n",
       " 'nice, spicy and tender.',\n",
       " 'good prices.',\n",
       " 'check it out.',\n",
       " 'it was pretty gross!',\n",
       " \"i've had better atmosphere.\",\n",
       " 'kind of hard to mess up a steak but they did.',\n",
       " 'although i very much liked the look and sound of this place, the actual experience was a bit disappointing.',\n",
       " \"i just don't know how this place managed to served the blandest food i have ever eaten when they are preparing indian cuisine.\",\n",
       " 'worst service to boot, but that is the least of their worries.',\n",
       " 'service was fine and the waitress was friendly.',\n",
       " \"the guys all had steaks, and our steak loving son who has had steak at the best and worst places said it was the best steak he's ever eaten.\",\n",
       " \"we thought you'd have to venture further away to get good sushi, but this place really hit the spot that night.\",\n",
       " 'host staff were, for lack of a better word, bitches!',\n",
       " \"bland... not a liking this place for a number of reasons and i don't want to waste time on bad reviewing.. i'll leave it at that...\",\n",
       " 'phenomenal food, service and ambiance.',\n",
       " \"i wouldn't return.\",\n",
       " \"definitely worth venturing off the strip for the pork belly, will return next time i'm in vegas.\",\n",
       " 'this place is way too overpriced for mediocre food.',\n",
       " 'penne vodka excellent!',\n",
       " 'they have a good selection of food including a massive meatloaf sandwich, a crispy chicken wrap, a delish tuna melt and some tasty burgers.',\n",
       " 'the management is rude.',\n",
       " 'delicious nyc bagels, good selections of cream cheese, real lox with capers even.',\n",
       " \"great subway, in fact it's so good when you come here every other subway will not meet your expectations.\",\n",
       " 'i had a seriously solid breakfast here.',\n",
       " 'this is one of the best bars with food in vegas.',\n",
       " 'he was extremely rude and really, there are so many other restaurants i would love to dine at during a weekend in vegas.',\n",
       " 'my drink was never empty and he made some really great menu suggestions.',\n",
       " \"don't do it!!!!\",\n",
       " \"the waiter wasn't helpful or friendly and rarely checked on us.\",\n",
       " 'my husband and i ate lunch here and were very disappointed with the food and service.',\n",
       " \"and the red curry had so much bamboo shoots and wasn't very tasty to me.\",\n",
       " 'nice blanket of moz over top but i feel like this was done to cover up the subpar food.',\n",
       " 'the bathrooms are clean and the place itself is well decorated.',\n",
       " 'the menu is always changing, food quality is going down & service is extremely slow.',\n",
       " 'the service was a little slow , considering that were served by 3 people servers so the food was coming in a slow pace.',\n",
       " 'i give it 2 thumbs down',\n",
       " 'we watched our waiter pay a lot more attention to other tables and ignore us.',\n",
       " 'my fiancé and i came in the middle of the day and we were greeted and seated right away.',\n",
       " 'this is a great restaurant at the mandalay bay.',\n",
       " 'we waited for forty five minutes in vain.',\n",
       " 'crostini that came with the salad was stale.',\n",
       " 'some highlights : great quality nigiri here!',\n",
       " 'the staff is friendly and the joint is always clean.',\n",
       " 'this was a different cut than the piece the other day but still wonderful and tender s well as well flavored.',\n",
       " \"i ordered the voodoo pasta and it was the first time i'd had really excellent pasta since going gluten free several years ago.\",\n",
       " 'this place is good.',\n",
       " 'unfortunately, we must have hit the bakery on leftover day because everything we ordered was stale.',\n",
       " 'i came back today since they relocated and still not impressed.',\n",
       " 'i was seated immediately.',\n",
       " 'their menu is diverse, and reasonably priced.',\n",
       " 'avoid at all cost!',\n",
       " 'restaurant is always full but never a wait.',\n",
       " 'delicious!!',\n",
       " 'this place is hands-down one of the best places to eat in the phoenix metro area.',\n",
       " \"so don't go there if you are looking for good food...\",\n",
       " \"i've never been treated so bad.\",\n",
       " 'bacon is hella salty.',\n",
       " 'we also ordered the spinach and avocado salad, the ingredients were sad and the dressing literally had zero taste.',\n",
       " 'this really is how vegas fine dining used to be, right down to the menus handed to the ladies that have no prices listed.',\n",
       " 'the waitresses are very friendly.',\n",
       " 'lordy, the khao soi is a dish that is not to be missed for curry lovers!',\n",
       " 'everything on the menu is terrific and we were also thrilled that they made amazing accommodations for our vegetarian daughter.',\n",
       " \"perhaps i caught them on an off night judging by the other reviews, but i'm not inspired to go back.\",\n",
       " 'the service here leaves a lot to be desired.',\n",
       " 'the atmosphere is modern and hip, while maintaining a touch of coziness.',\n",
       " 'not a weekly haunt, but definitely a place to come back to every once in a while.',\n",
       " 'we literally sat there for 20 minutes with no one asking to take our order.',\n",
       " 'the burger had absolutely no flavor - the meat itself was totally bland, the burger was overcooked and there was no charcoal flavor.',\n",
       " 'i also decided not to send it back because our waitress looked like she was on the verge of having a heart attack.',\n",
       " 'i dressed up to be treated so rudely!',\n",
       " 'it was probably dirt.',\n",
       " 'love this place, hits the spot when i want something healthy but not lacking in quantity or flavor.',\n",
       " 'i ordered the lemon raspberry ice cocktail which was also incredible.',\n",
       " 'the food sucked, which we expected but it sucked more than we could have imagined.',\n",
       " 'interesting decor.',\n",
       " 'what i really like there is the crepe station.',\n",
       " 'also were served hot bread and butter, and home made potato chips with bacon bits on top....very original and very good.',\n",
       " 'you can watch them preparing the delicious food!)',\n",
       " 'both of the egg rolls were fantastic.',\n",
       " 'when my order arrived, one of the gyros was missing.',\n",
       " 'i had a salad with the wings, and some ice cream for dessert and left feeling quite satisfied.',\n",
       " \"i'm not really sure how joey's was voted best hot dog in the valley by readers of phoenix magazine.\",\n",
       " 'the best place to go for a tasty bowl of pho!',\n",
       " 'the live music on fridays totally blows.',\n",
       " \"i've never been more insulted or felt disrespected.\",\n",
       " 'very friendly staff.',\n",
       " 'it is worth the drive.',\n",
       " 'i had heard good things about this place, but it exceeding every hope i could have dreamed of.',\n",
       " 'food was great and so was the serivce!',\n",
       " \"the warm beer didn't help.\",\n",
       " 'great brunch spot.',\n",
       " 'service is friendly and inviting.',\n",
       " 'very good lunch spot.',\n",
       " \"i've lived here since 1979 and this was the first (and last) time i've stepped foot into this place.\",\n",
       " 'the worst experience ever.',\n",
       " 'must have been an off night at this place.',\n",
       " 'the sides are delish - mixed mushrooms, yukon gold puree, white corn - beateous.',\n",
       " 'if that bug never showed up i would have given a 4 for sure, but on the other side of the wall where this bug was climbing was the kitchen.',\n",
       " \"for about 10 minutes, we we're waiting for her salad when we realized that it wasn't coming any time soon.\",\n",
       " 'my friend loved the salmon tartar.',\n",
       " \"won't go back.\",\n",
       " 'extremely tasty!',\n",
       " 'waitress was good though!',\n",
       " 'soggy and not good.',\n",
       " 'the jamaican mojitos are delicious.',\n",
       " 'which are small and not worth the price.',\n",
       " '- the food is rich so order accordingly.',\n",
       " \"the shower area is outside so you can only rinse, not take a full shower, unless you don't mind being nude for everyone to see!\",\n",
       " 'the service was a bit lacking.',\n",
       " 'lobster bisque, bussell sprouts, risotto, filet all needed salt and pepper..and of course there is none at the tables.',\n",
       " 'hopefully this bodes for them going out of business and someone who can cook can come in.',\n",
       " 'it was either too cold, not enough flavor or just bad.',\n",
       " 'i loved the bacon wrapped dates.',\n",
       " 'this is an unbelievable bargain!',\n",
       " 'the folks at otto always make us feel so welcome and special.',\n",
       " 'as for the \"mains,\" also uninspired.',\n",
       " 'this is the place where i first had pho and it was amazing!!',\n",
       " 'this wonderful experience made this place a must-stop whenever we are in town again.',\n",
       " \"if the food isn't bad enough for you, then enjoy dealing with the world's worst/annoying drunk people.\",\n",
       " 'very very fun chef.',\n",
       " 'ordered a double cheeseburger & got a single patty that was falling apart (picture uploaded) yeah, still sucks.',\n",
       " \"great place to have a couple drinks and watch any and all sporting events as the walls are covered with tv's.\",\n",
       " \"if it were possible to give them zero stars, they'd have it.\",\n",
       " 'the descriptions said \"yum yum sauce\" and another said \"eel sauce\", yet another said \"spicy mayo\"...well none of the rolls had sauces on them.',\n",
       " \"i'd say that would be the hardest decision... honestly, all of m's dishes taste how they are supposed to taste (amazing).\",\n",
       " 'if she had not rolled the eyes we may have stayed... not sure if we will go back and try it again.',\n",
       " 'everyone is very attentive, providing excellent customer service.',\n",
       " \"horrible - don't waste your time and money.\",\n",
       " 'now this dish was quite flavourful.',\n",
       " 'by this time our side of the restaurant was almost empty so there was no excuse.',\n",
       " \"(it wasn't busy either) also, the building was freezing cold.\",\n",
       " 'like the other reviewer said \"you couldn\\'t pay me to eat at this place again.\"',\n",
       " '-drinks took close to 30 minutes to come out at one point.',\n",
       " 'seriously flavorful delights, folks.',\n",
       " 'much better than the other ayce sushi place i went to in vegas.',\n",
       " 'the lighting is just dark enough to set the mood.',\n",
       " \"based on the sub-par service i received and no effort to show their gratitude for my business i won't be going back.\",\n",
       " \"owner's are really great people.!\",\n",
       " 'there is nothing privileged about working/eating there.',\n",
       " 'the greek dressing was very creamy and flavorful.',\n",
       " \"overall, i don't think that i would take my parents to this place again because they made most of the similar complaints that i silently felt too.\",\n",
       " 'now the pizza itself was good the peanut sauce was very tasty.',\n",
       " 'we had 7 at our table and the service was pretty fast.',\n",
       " 'fantastic service here.',\n",
       " \"i as well would've given godfathers zero stars if possible.\",\n",
       " 'they know how to make them here.',\n",
       " 'very tough and very short on flavor!',\n",
       " 'i hope this place sticks around.',\n",
       " 'i have been in more than a few bars in vegas, and do not ever recall being charged for tap water.',\n",
       " 'the restaurant atmosphere was exquisite.',\n",
       " 'good service, very clean, and inexpensive, to boot!',\n",
       " 'the seafood was fresh and generous in portion.',\n",
       " \"plus, it's only 8 bucks.\",\n",
       " 'the service was not up to par, either.',\n",
       " 'thus far, have only visited twice and the food was absolutely delicious each time.',\n",
       " 'just as good as when i had it more than a year ago!',\n",
       " 'for a self proclaimed coffee cafe, i was wildly disappointed.',\n",
       " 'the veggitarian platter is out of this world!',\n",
       " 'you cant go wrong with any of the food here.',\n",
       " \"you can't beat that.\",\n",
       " 'stopped by this place while in madison for the ironman, very friendly, kind staff.',\n",
       " 'the chefs were friendly and did a good job.',\n",
       " \"i've had better, not only from dedicated boba tea spots, but even from jenni pho.\",\n",
       " 'i liked the patio and the service was outstanding.',\n",
       " \"the goat taco didn't skimp on the meat and wow what flavor!\",\n",
       " 'i think not again',\n",
       " 'i had the mac salad and it was pretty bland so i will not be getting that again.',\n",
       " \"i went to bachi burger on a friend's recommendation and was not disappointed.\",\n",
       " 'service stinks here!',\n",
       " 'i waited and waited.',\n",
       " 'this place is not quality sushi, it is not a quality restaurant.',\n",
       " 'i would definitely recommend the wings as well as the pizza.',\n",
       " 'great pizza and salads!',\n",
       " 'things that went wrong: - they burned the saganaki.',\n",
       " 'we waited an hour for what was a breakfast i could have done 100 times better at home.',\n",
       " 'this place is amazing!',\n",
       " 'i hate to disagree with my fellow yelpers, but my husband and i were so disappointed with this place.',\n",
       " 'waited 2 hours & never got either of our pizzas as many other around us who came in later did!',\n",
       " \"just don't know why they were so slow.\",\n",
       " 'the staff is great, the food is delish, and they have an incredible beer selection.',\n",
       " \"i live in the neighborhood so i am disappointed i won't be back here, because it is a convenient location.\",\n",
       " \"i didn't know pulled pork could be soooo delicious.\",\n",
       " 'you get incredibly fresh fish, prepared with care.',\n",
       " 'before i go in to why i gave a 1 star rating please know that this was my third time eating at bachi burger before writing a review.',\n",
       " 'i love the fact that everything on their menu is worth it.',\n",
       " 'never again will i be dining at this place!',\n",
       " 'the food was excellent and service was very good.',\n",
       " 'good beer & drink selection and good food selection.',\n",
       " 'please stay away from the shrimp stir fried noodles.',\n",
       " 'the potato chip order was sad... i could probably count how many chips were in that box and it was probably around 12.',\n",
       " 'food was really boring.',\n",
       " 'good service-check!',\n",
       " 'this greedy corporation will never see another dime from me!',\n",
       " 'will never, ever go back.',\n",
       " \"as much as i'd like to go back, i can't get passed the atrocious service and will never return.\",\n",
       " 'in the summer, you can dine in a charming outdoor patio - so very delightful.',\n",
       " 'i did not expect this to be so good!',\n",
       " 'fantastic food!',\n",
       " 'she ordered a toasted english muffin that came out untoasted.',\n",
       " 'the food was very good.',\n",
       " 'never going back.',\n",
       " 'great food for the price, which is very high quality and house made.',\n",
       " 'the bus boy on the other hand was so rude.',\n",
       " \"by this point, my friends and i had basically figured out this place was a joke and didn't mind making it publicly and loudly known.\",\n",
       " 'back to good bbq, lighter fare, reasonable pricing and tell the public they are back to the old ways.',\n",
       " \"and considering the two of us left there very full and happy for about $20, you just can't go wrong.\",\n",
       " 'all the bread is made in-house!',\n",
       " 'the only downside is the service.',\n",
       " \"also, the fries are without a doubt the worst fries i've ever had.\",\n",
       " 'service was exceptional and food was a good as all the reviews.',\n",
       " 'a couple of months later, i returned and had an amazing meal.',\n",
       " 'favorite place in town for shawarrrrrrma!!!!!!',\n",
       " 'the black eyed peas and sweet potatoes... unreal!',\n",
       " \"you won't be disappointed.\",\n",
       " 'they could serve it with just the vinaigrette and it may make for a better overall dish, but it was still very good.',\n",
       " \"i go to far too many places and i've never seen any restaurant that serves a 1 egg breakfast, especially for $4.00.\",\n",
       " 'when my mom and i got home she immediately got sick and she only had a few bites of salad.',\n",
       " \"the servers are not pleasant to deal with and they don't always honor pizza hut coupons.\",\n",
       " 'both of them were truly unbelievably good, and i am so glad we went back.',\n",
       " 'we had fantastic service, and were pleased by the atmosphere.',\n",
       " 'everything was gross.',\n",
       " 'i love this place.',\n",
       " 'great service and food.',\n",
       " 'first - the bathrooms at this location were dirty- seat covers were not replenished & just plain yucky!!!',\n",
       " 'the burger... i got the \"gold standard\" a $17 burger and was kind of disappointed.',\n",
       " 'omg, the food was delicioso!',\n",
       " 'there is nothing authentic about this place.',\n",
       " 'the spaghetti is nothing special whatsoever.',\n",
       " 'of all the dishes, the salmon was the best, but all were great.',\n",
       " 'the vegetables are so fresh and the sauce feels like authentic thai.',\n",
       " \"it's worth driving up from tucson!\",\n",
       " \"the selection was probably the worst i've seen in vegas.....there was none.\",\n",
       " 'pretty good beer selection too.',\n",
       " 'this place is like chipotle, but better.',\n",
       " 'classy/warm atmosphere, fun and fresh appetizers, succulent steaks (baseball steak!!!!!',\n",
       " '5 stars for the brick oven bread app!',\n",
       " 'i have eaten here multiple times, and each time the food was delicious.',\n",
       " 'we sat another ten minutes and finally gave up and left.',\n",
       " 'he was terrible!',\n",
       " 'everyone is treated equally special.',\n",
       " \"it shouldn't take 30 min for pancakes and eggs.\",\n",
       " 'it was delicious!!!',\n",
       " 'on the good side, the staff was genuinely pleasant and enthusiastic - a real treat.',\n",
       " \"sadly, gordon ramsey's steak is a place we shall sharply avoid during our next trip to vegas.\",\n",
       " 'as always the evening was wonderful and the food delicious!',\n",
       " \"best fish i've ever had in my life!\",\n",
       " '(the bathroom is just next door and very nice.)',\n",
       " 'the buffet is small and all the food they offered was bland.',\n",
       " 'this is an outstanding little restaurant with some of the best food i have ever tasted.',\n",
       " 'pretty cool i would say.',\n",
       " \"definitely a turn off for me & i doubt i'll be back unless someone else is buying.\",\n",
       " 'server did a great job handling our large rowdy table.',\n",
       " \"i find wasting food to be despicable, but this just wasn't food.\",\n",
       " 'my wife had the lobster bisque soup which was lukewarm.',\n",
       " 'would come back again if i had a sushi craving while in vegas.',\n",
       " 'the staff are great, the ambiance is great.',\n",
       " 'he deserves 5 stars.',\n",
       " 'i left with a stomach ache and felt sick the rest of the day.',\n",
       " 'they dropped more than the ball.',\n",
       " 'the dining space is tiny, but elegantly decorated and comfortable.',\n",
       " \"they will customize your order any way you'd like, my usual is eggplant with green bean stir fry, love it!\",\n",
       " 'and the beans and rice were mediocre at best.',\n",
       " 'best tacos in town by far!!',\n",
       " 'i took back my money and got outta there.',\n",
       " 'in an interesting part of town, this place is amazing.',\n",
       " 'rude & inconsiderate management.',\n",
       " 'the staff are now not as friendly, the wait times for being served are horrible, no one even says hi for the first 10 minutes.',\n",
       " \"i won't be back.\",\n",
       " 'they have great dinners.',\n",
       " 'the service was outshining & i definitely recommend the halibut.',\n",
       " 'the food was terrible.',\n",
       " 'will never ever go back and have told many people what had happened.',\n",
       " \"i don't recommend unless your car breaks down in front of it and you are starving.\",\n",
       " \"i will come back here every time i'm in vegas.\",\n",
       " 'this place deserves one star and 90% has to do with the food.',\n",
       " 'this is a disgrace.',\n",
       " 'def coming back to bowl next time',\n",
       " 'if you want healthy authentic or ethic food, try this place.',\n",
       " 'i will continue to come here on ladies night andddd date night ... highly recommend this place to anyone who is in the area.',\n",
       " 'i have been here several times in the past, and the experience has always been great.',\n",
       " 'we walked away stuffed and happy about our first vegas buffet experience.',\n",
       " 'service was excellent and prices are pretty reasonable considering this is vegas and located inside the crystals shopping mall by aria.',\n",
       " 'to summarize... the food was incredible, nay, transcendant... but nothing brings me joy quite like the memory of the pneumatic condiment dispenser.',\n",
       " \"i'm probably one of the few people to ever go to ians and not like it.\",\n",
       " 'kids pizza is always a hit too with lots of great side dish options for the kiddos!',\n",
       " 'service is perfect and the family atmosphere is nice to see.',\n",
       " 'cooked to perfection and the service was impeccable.',\n",
       " 'this one is simply a disappointment.',\n",
       " 'overall, i was very disappointed with the quality of food at bouchon.',\n",
       " \"i don't have to be an accountant to know i'm getting screwed!\",\n",
       " 'great place to eat, reminds me of the little mom and pop shops in the san francisco bay area.',\n",
       " 'today was my first taste of a buldogis gourmet hot dog and i have to tell you it was more than i ever thought possible.',\n",
       " 'left very frustrated.',\n",
       " \"i'll definitely be in soon again.\",\n",
       " 'food was really good and i got full petty fast.',\n",
       " 'service was fantastic.',\n",
       " 'total waste of time.',\n",
       " \"i don't know what kind it is but they have the best iced tea.\",\n",
       " 'come hungry, leave happy and stuffed!',\n",
       " 'for service, i give them no stars.',\n",
       " \"i can assure you that you won't be disappointed.\",\n",
       " 'i can take a little bad service but the food sucks.',\n",
       " 'gave up trying to eat any of the crust (teeth still sore).',\n",
       " 'but now i was completely grossed out.',\n",
       " 'i really enjoyed eating here.',\n",
       " 'first time going but i think i will quickly become a regular.',\n",
       " 'our server was very nice, and even though he looked a little overwhelmed with all of our needs, he stayed professional and friendly until the end.',\n",
       " 'from what my dinner companions told me...everything was very fresh with nice texture and taste.',\n",
       " 'on the ground, right next to our table was a large, smeared, been-stepped-in-and-tracked-everywhere pile of green bird poop.',\n",
       " \"furthermore, you can't even find hours of operation on the website!\",\n",
       " \"we've tried to like this place but after 10+ times i think we're done with them.\",\n",
       " 'what a mistake that was!',\n",
       " 'no complaints!',\n",
       " \"this is some seriously good pizza and i'm an expert/connisseur on the topic.\",\n",
       " 'waiter was a jerk.',\n",
       " 'strike 2, who wants to be rushed.',\n",
       " \"these are the nicest restaurant owners i've ever come across.\",\n",
       " 'i never come again.',\n",
       " 'we loved the biscuits!!!',\n",
       " 'service is quick and friendly.',\n",
       " 'ordered an appetizer and took 40 minutes and then the pizza another 10 minutes.',\n",
       " 'so absolutley fantastic.',\n",
       " 'it was a huge awkward 1.5lb piece of cow that was 3/4ths gristle and fat.',\n",
       " 'definitely will come back here again.',\n",
       " \"i like steiners because it's dark and it feels like a bar.\",\n",
       " 'wow very spicy but delicious.',\n",
       " \"if you're not familiar, check it out.\",\n",
       " \"i'll take my business dinner dollars elsewhere.\",\n",
       " \"i'd love to go back.\",\n",
       " 'anyway, this fs restaurant has a wonderful breakfast/lunch.',\n",
       " 'nothing special.',\n",
       " \"each day of the week they have a different deal and it's all so delicious!\",\n",
       " 'not to mention the combination of pears, almonds and bacon is a big winner!',\n",
       " 'will not be back.',\n",
       " 'sauce was tasteless.',\n",
       " 'the food is delicious and just spicy enough, so be sure to ask for spicier if you prefer it that way.',\n",
       " 'my ribeye steak was cooked perfectly and had great mesquite flavor.',\n",
       " \"i don't think we'll be going back anytime soon.\",\n",
       " 'food was so gooodd.',\n",
       " 'i am far from a sushi connoisseur but i can definitely tell the difference between good food and bad food and this was certainly bad food.',\n",
       " 'i was so insulted.',\n",
       " 'the last 3 times i had lunch here has been bad.',\n",
       " 'the chicken wings contained the driest chicken meat i have ever eaten.',\n",
       " 'the food was very good and i enjoyed every mouthful, an enjoyable relaxed venue for couples small family groups etc.',\n",
       " 'nargile - i think you are great.',\n",
       " 'best tater tots in the southwest.',\n",
       " 'we loved the place.',\n",
       " 'definitely not worth the $3 i paid.',\n",
       " 'the vanilla ice cream was creamy and smooth while the profiterole (choux) pastry was fresh enough.',\n",
       " 'im in az all the time and now have my new spot.',\n",
       " 'the manager was the worst.',\n",
       " 'the inside is really quite nice and very clean.',\n",
       " 'the food was outstanding and the prices were very reasonable.',\n",
       " \"i don't think i'll be running back to carly's anytime soon for food.\",\n",
       " 'this is was due to the fact that it took 20 minutes to be acknowledged, then another 35 minutes to get our food...and they kept forgetting things.',\n",
       " 'love the margaritas, too!',\n",
       " 'this was my first and only vegas buffet and it did not disappoint.',\n",
       " 'very good, though!',\n",
       " 'the one down note is the ventilation could use some upgrading.',\n",
       " 'great pork sandwich.',\n",
       " \"don't waste your time here.\",\n",
       " 'total letdown, i would much rather just go to the camelback flower shop and cartel coffee.',\n",
       " \"third, the cheese on my friend's burger was cold.\",\n",
       " 'we enjoy their pizza and brunch.',\n",
       " 'the steaks are all well trimmed and also perfectly cooked.',\n",
       " 'we had a group of 70+ when we claimed we would only have 40 and they handled us beautifully.',\n",
       " 'i loved it!',\n",
       " \"we asked for the bill to leave without eating and they didn't bring that either.\",\n",
       " \"this place is a jewel in las vegas, and exactly what i've been hoping to find in nearly ten years living here.\",\n",
       " 'seafood was limited to boiled shrimp and crab legs but the crab legs definitely did not taste fresh.',\n",
       " 'the selection of food was not the best.',\n",
       " 'delicious and i will absolutely be back!',\n",
       " \"this isn't a small family restaurant, this is a fine dining establishment.\",\n",
       " 'they had a toro tartare with a cavier that was extraordinary and i liked the thinly sliced wagyu with white truffle.',\n",
       " 'i dont think i will be back for a very long time.',\n",
       " 'it was attached to a gas station, and that is rarely a good sign.',\n",
       " 'how awesome is that.',\n",
       " 'i will be back many times soon.',\n",
       " 'the menu had so much good stuff on it i could not decide!',\n",
       " 'worse of all, he humiliated his worker right in front of me..bunch of horrible name callings.',\n",
       " 'conclusion: very filling meals.',\n",
       " 'their daily specials are always a hit with my group.',\n",
       " 'and then tragedy struck.',\n",
       " 'the pancake was also really good and pretty large at that.',\n",
       " 'this was my first crawfish experience, and it was delicious!',\n",
       " 'their monster chicken fried steak and eggs is my all time favorite.',\n",
       " 'waitress was sweet and funny.',\n",
       " \"i also had to taste my mom's multi-grain pumpkin pancakes with pecan butter and they were amazing, fluffy, and delicious!\",\n",
       " \"i'd rather eat airline food, seriously.\",\n",
       " 'cant say enough good things about this place.',\n",
       " 'the ambiance was incredible.',\n",
       " 'the waitress and manager are so friendly.',\n",
       " 'i would not recommend this place.',\n",
       " \"overall i wasn't very impressed with noca.\",\n",
       " 'my gyro was basically lettuce only.',\n",
       " 'terrible service!',\n",
       " 'thoroughly disappointed!',\n",
       " \"i don't each much pasta, but i love the homemade /hand made pastas and thin pizzas here.\",\n",
       " 'give it a try, you will be happy you did.',\n",
       " 'by far the best cheesecurds we have ever had!',\n",
       " 'reasonably priced also!',\n",
       " 'everything was perfect the night we were in.',\n",
       " 'the food is very good for your typical bar food.',\n",
       " 'it was a drive to get there.',\n",
       " 'at first glance it is a lovely bakery cafe - nice ambiance, clean, friendly staff.',\n",
       " 'anyway, i do not think i will go back there.',\n",
       " \"point your finger at any item on the menu, order it and you won't be disappointed.\",\n",
       " 'oh this is such a thing of beauty, this restaurant.',\n",
       " \"if you haven't gone here go now!\",\n",
       " 'a greasy, unhealthy meal.',\n",
       " 'first time there and might just be the last.',\n",
       " 'those burgers were amazing.',\n",
       " 'similarly, the delivery man did not say a word of apology when our food was 45 minutes late.',\n",
       " 'and it was way to expensive.',\n",
       " 'be sure to order dessert, even if you need to pack it to-go - the tiramisu and cannoli are both to die for.',\n",
       " \"this was my first time and i can't wait until the next.\",\n",
       " 'the bartender was also nice.',\n",
       " 'everything was good and tasty!',\n",
       " 'this place is two thumbs up....way up.',\n",
       " 'the best place in vegas for breakfast (just check out a sat, or sun.',\n",
       " 'if you love authentic mexican food and want a whole bunch of interesting, yet delicious meats to choose from, you need to try this place.',\n",
       " 'terrible management.',\n",
       " 'an excellent new restaurant by an experienced frenchman.',\n",
       " 'if there were zero stars i would give it zero stars.',\n",
       " 'great steak, great sides, great wine, amazing desserts.',\n",
       " 'worst martini ever!',\n",
       " 'the steak and the shrimp are in my opinion the best entrees at gc.',\n",
       " 'i had the opportunity today to sample your amazing pizzas!',\n",
       " 'we waited for thirty minutes to be seated (although there were 8 vacant tables and we were the only folks waiting).',\n",
       " 'the yellowtail carpaccio was melt in your mouth fresh.',\n",
       " \"i won't try going back there even if it's empty.\",\n",
       " \"no, i'm going to eat the potato that i found some strangers hair in it.\",\n",
       " 'just spicy enough.. perfect actually.',\n",
       " 'last night was my second time dining here and i was so happy i decided to go back!',\n",
       " 'not even a \"hello, we will be right with you.\"',\n",
       " 'the desserts were a bit strange.',\n",
       " 'my boyfriend and i came here for the first time on a recent trip to vegas and could not have been more pleased with the quality of food and service.',\n",
       " 'i really do recommend this place, you can go wrong with this donut place!',\n",
       " 'nice ambiance.',\n",
       " 'i would recommend saving room for this!',\n",
       " 'i guess maybe we went on an off night but it was disgraceful.',\n",
       " 'however, my recent experience at this particular location was not so good.',\n",
       " 'i know this is not like the other restaurants at all, something is very off here!',\n",
       " 'avoid this establishment!',\n",
       " 'i think this restaurant suffers from not trying hard enough.',\n",
       " 'all of the tapas dishes were delicious!',\n",
       " 'i *heart* this place.',\n",
       " 'my salad had a bland vinegrette on the baby greens and hearts of palm.',\n",
       " 'after two i felt disgusting.',\n",
       " 'a good time!',\n",
       " 'i believe that this place is a great stop for those with a huge belly and hankering for sushi.',\n",
       " 'generous portions and great taste.',\n",
       " 'i will never go back to this place and will never ever recommended this place to anyone!',\n",
       " 'the servers went back and forth several times, not even so much as an \"are you being helped?\"',\n",
       " 'food was delicious!',\n",
       " 'an hour... seriously?',\n",
       " 'i consider this theft.',\n",
       " 'eew... this location needs a complete overhaul.',\n",
       " 'we recently witnessed her poor quality of management towards other guests as well.',\n",
       " 'waited and waited and waited.',\n",
       " 'he also came back to check on us regularly, excellent service.',\n",
       " 'our server was super nice and checked on us many times.',\n",
       " 'the pizza tasted old, super chewy in not a good way.',\n",
       " 'i swung in to give them a try but was deeply disappointed.',\n",
       " 'service was good and the company was better!',\n",
       " 'the staff are also very friendly and efficient.',\n",
       " \"as for the service: i'm a fan, because it's quick and you're being served by some nice folks.\",\n",
       " 'boy was that sucker dry!!.',\n",
       " 'over rated.',\n",
       " 'if you look for authentic thai food, go else where.',\n",
       " 'their steaks are 100% recommended!',\n",
       " 'after i pulled up my car i waited for another 15 minutes before being acknowledged.',\n",
       " 'great food and great service in a clean and friendly setting.',\n",
       " \"all in all, i can assure you i'll be back.\",\n",
       " 'i hate those things as much as cheap quality black olives.',\n",
       " 'my breakfast was perpared great, with a beautiful presentation of 3 giant slices of toast, lightly dusted with powdered sugar.',\n",
       " 'the kids play area is nasty!',\n",
       " 'great place fo take out or eat in.',\n",
       " 'the waitress was friendly and happy to accomodate for vegan/veggie options.',\n",
       " 'omg i felt like i had never eaten thai food until this dish.',\n",
       " 'it was extremely \"crumby\" and pretty tasteless.',\n",
       " 'it was a pale color instead of nice and char and has no flavor.',\n",
       " 'the croutons also taste homemade which is an extra plus.',\n",
       " 'i got home to see the driest damn wings ever!',\n",
       " \"it'll be a regular stop on my trips to phoenix!\",\n",
       " 'i really enjoyed crema café before they expanded. i even told friends they had the best breakfast.',\n",
       " 'not good for the money.',\n",
       " 'i miss it and wish they had one in philadelphia!',\n",
       " 'we got sitting fairly fast, but, ended up waiting 40 minutes just to place our order, another 30 minutes before the food arrived.',\n",
       " 'they also have the best cheese crisp in town.',\n",
       " 'good value, great food, great service.',\n",
       " \"couldn't ask for a more satisfying meal.\",\n",
       " 'the food is good.',\n",
       " 'it was awesome.',\n",
       " 'i just wanted to leave.',\n",
       " 'we made the drive all the way from north scottsdale... and i was not one bit disappointed!',\n",
       " 'i will not be eating there again.',\n",
       " '!....the owners really really need to quit being soooooo cheap let them wrap my freaking sandwich in two papers not one!',\n",
       " 'i checked out this place a couple years ago and was not impressed.',\n",
       " 'the chicken i got was definitely reheated and was only ok, the wedges were cold and soggy.',\n",
       " 'sorry, i will not be getting food from here anytime soon :(',\n",
       " 'an absolute must visit!',\n",
       " 'the cow tongue and cheek tacos are amazing.',\n",
       " 'my friend did not like his bloody mary.',\n",
       " 'despite how hard i rate businesses, its actually rare for me to give a 1 star.',\n",
       " 'they really want to make your experience a good one.',\n",
       " 'i will not return.',\n",
       " 'i had the chicken pho and it tasted very bland.',\n",
       " 'very disappointing!!!',\n",
       " 'the grilled chicken was so tender and yellow from the saffron seasoning.',\n",
       " 'a drive thru means you do not want to wait around for half an hour for your food, but somehow when we end up going here they make us wait and wait.',\n",
       " 'pretty awesome place.',\n",
       " 'ambience is perfect.',\n",
       " 'best of luck to the rude and non-customer service focused new management.',\n",
       " 'any grandmother can make a roasted chicken better than this one.',\n",
       " 'i asked multiple times for the wine list and after some time of being ignored i went to the hostess and got one myself.',\n",
       " 'the staff is always super friendly and helpful, which is especially cool when you bring two small boys and a baby!',\n",
       " 'four stars for the food & the guy in the blue shirt for his great vibe & still letting us in to eat !',\n",
       " 'the roast beef sandwich tasted really good!',\n",
       " 'same evening, him and i are both drastically sick.',\n",
       " 'high-quality chicken on the chicken caesar salad.',\n",
       " \"ordered burger rare came in we'll done.\",\n",
       " 'we were promptly greeted and seated.',\n",
       " 'tried to go here for lunch and it was a madhouse.',\n",
       " 'i was proven dead wrong by this sushi bar, not only because the quality is great, but the service is fast and the food, impeccable.',\n",
       " 'after waiting an hour and being seated, i was not in the greatest of moods.',\n",
       " 'this is a good joint.',\n",
       " 'the macarons here are insanely good.',\n",
       " \"i'm not eating here!\",\n",
       " 'our waiter was very attentive, friendly, and informative.',\n",
       " \"maybe if they weren't cold they would have been somewhat edible.\",\n",
       " 'this place has a lot of promise but fails to deliver.',\n",
       " 'very bad experience!',\n",
       " 'what a mistake.',\n",
       " 'food was average at best.',\n",
       " 'great food.',\n",
       " \"we won't be going back anytime soon!\",\n",
       " 'very very disappointed ordered the $35 big bay plater.',\n",
       " 'great place to relax and have an awesome burger and beer.',\n",
       " 'it is perfect for a sit-down family meal or get together with a few friends.',\n",
       " 'not much flavor to them, and very poorly constructed.',\n",
       " 'the patio seating was very comfortable.',\n",
       " 'the fried rice was dry as well.',\n",
       " 'hands down my favorite italian restaurant!',\n",
       " 'that just screams \"legit\" in my book...somethat\\'s also pretty rare here in vegas.',\n",
       " 'it was just not a fun experience.',\n",
       " 'the atmosphere was great with a lovely duo of violinists playing songs we requested.',\n",
       " \"i personally love the hummus, pita, baklava, falafels and baba ganoush (it's amazing what they do with eggplant!).\",\n",
       " 'very convenient, since we were staying at the mgm!',\n",
       " 'the owners are super friendly and the staff is courteous.',\n",
       " 'both great!',\n",
       " 'eclectic selection.',\n",
       " 'the sweet potato tots were good but the onion rings were perfection or as close as i have had.',\n",
       " 'the staff was very attentive.',\n",
       " 'and the chef was generous with his time (even came around twice so we can take pictures with him).',\n",
       " 'the owner used to work at nobu, so this place is really similar for half the price.',\n",
       " 'google mediocre and i imagine smashburger will pop up.',\n",
       " 'dont go here.',\n",
       " \"i promise they won't disappoint.\",\n",
       " 'as a sushi lover avoid this place by all means.',\n",
       " 'what a great double cheeseburger!',\n",
       " 'awesome service and food.',\n",
       " 'a fantastic neighborhood gem !!!',\n",
       " \"i can't wait to go back.\",\n",
       " \"the plantains were the worst i've ever tasted.\",\n",
       " \"it's a great place and i highly recommend it.\",\n",
       " 'service was slow and not attentive.',\n",
       " \"i gave it 5 stars then, and i'm giving it 5 stars now.\",\n",
       " 'your staff spends more time talking to themselves than me.',\n",
       " 'dessert: panna cotta was amazing.',\n",
       " 'very good food, great atmosphere.1',\n",
       " 'damn good steak.',\n",
       " 'total brunch fail.',\n",
       " 'prices are very reasonable, flavors are spot on, the sauce is home made, and the slaw is not drenched in mayo.',\n",
       " 'the decor is nice, and the piano music soundtrack is pleasant.',\n",
       " 'the steak was amazing...rge fillet relleno was the best seafood plate i have ever had!',\n",
       " 'good food , good service .',\n",
       " 'it was absolutely amazing.',\n",
       " \"i probably won't be back, to be honest.\",\n",
       " 'will definitely be back!',\n",
       " 'the sergeant pepper beef sandwich with auju sauce is an excellent sandwich as well.',\n",
       " \"hawaiian breeze, mango magic, and pineapple delight are the smoothies that i've tried so far and they're all good.\",\n",
       " 'went for lunch - service was slow.',\n",
       " 'we had so much to say about the place before we walked in that he expected it to be amazing, but was quickly disappointed.',\n",
       " 'i was mortified.',\n",
       " 'needless to say, we will never be back here again.',\n",
       " 'anyways, the food was definitely not filling at all, and for the price you pay you should expect more.',\n",
       " 'the chips that came out were dripping with grease, and mostly not edible.',\n",
       " \"i wasn't really impressed with strip steak.\",\n",
       " 'have been going since 2007 and every meal has been awesome!!',\n",
       " 'our server was very nice and attentive as were the other serving staff.',\n",
       " 'the cashier was friendly and even brought the food out to me.',\n",
       " 'i work in the hospitality industry in paradise valley and have refrained from recommending cibo any longer.',\n",
       " 'the atmosphere here is fun.',\n",
       " 'would not recommend to others.',\n",
       " 'service is quick and even \"to go\" orders are just like we like it!',\n",
       " \"i mean really, how do you get so famous for your fish and chips when it's so terrible!?!\",\n",
       " 'that said, our mouths and bellies were still quite pleased.',\n",
       " 'not my thing.',\n",
       " '2 thumbs up!!',\n",
       " \"if you are reading this please don't go there.\",\n",
       " 'i loved the grilled pizza, reminded me of legit italian pizza.',\n",
       " 'only pros : large seating area/ nice bar area/ great simple drink menu/ the best brick oven pizza with homemade dough!',\n",
       " 'they have a really nice atmosphere.',\n",
       " 'tonight i had the elk filet special...and it sucked.',\n",
       " 'after one bite, i was hooked.',\n",
       " 'we ordered some old classics and some new dishes after going there a few times and were sorely disappointed with everything.',\n",
       " 'cute, quaint, simple, honest.',\n",
       " 'the chicken was deliciously seasoned and had the perfect fry on the outside and moist chicken on the inside.',\n",
       " 'the food was great as always, compliments to the chef.',\n",
       " 'special thanks to dylan t. for the recommendation on what to order :) all yummy for my tummy.',\n",
       " 'awesome selection of beer.',\n",
       " 'great food and awesome service!',\n",
       " \"one nice thing was that they added gratuity on the bill since our party was larger than 6 or 8, and they didn't expect more tip than that.\",\n",
       " 'a fly was in my apple juice.. a fly!!!!!!!!',\n",
       " 'the han nan chicken was also very tasty.',\n",
       " 'as for the service, i thought it was good.',\n",
       " 'the food was barely lukewarm, so it must have been sitting waiting for the server to bring it out to us.',\n",
       " \"ryan's bar is definitely one edinburgh establishment i won't be revisiting.\",\n",
       " \"nicest chinese restaurant i've been in a while.\",\n",
       " 'overall, i like there food and the service.',\n",
       " 'they also now serve indian naan bread with hummus and some spicy pine nut sauce that was out of this world.',\n",
       " \"probably never coming back, and wouldn't recommend it.\",\n",
       " \"friend's pasta -- also bad, he barely touched it.\",\n",
       " 'try them in the airport to experience some tasty food and speedy, friendly service.',\n",
       " 'i love the decor with the chinese calligraphy wall paper.',\n",
       " 'never had anything to complain about here.',\n",
       " 'the restaurant is very clean and has a family restaurant feel to it.',\n",
       " 'it was way over fried.',\n",
       " \"i'm not sure how long we stood there but it was long enough for me to begin to feel awkwardly out of place.\",\n",
       " 'when i opened the sandwich, i was impressed, but not in a good way.',\n",
       " 'will not be back!',\n",
       " 'there was a warm feeling with the service and i felt like their guest for a special treat.',\n",
       " 'an extensive menu provides lots of options for breakfast.',\n",
       " 'i always order from the vegetarian menu during dinner, which has a wide array of options to choose from.',\n",
       " 'i have watched their prices inflate, portions get smaller and management attitudes grow rapidly!',\n",
       " 'wonderful lil tapas and the ambience made me feel all warm and fuzzy inside.',\n",
       " 'i got to enjoy the seafood salad, with a fabulous vinegrette.',\n",
       " 'the wontons were thin, not thick and chewy, almost melt in your mouth.',\n",
       " \"level 5 spicy was perfect, where spice didn't over-whelm the soup.\",\n",
       " 'we were sat right on time and our server from the get go was fantastic!',\n",
       " \"main thing i didn't enjoy is that the crowd is of older crowd, around mid 30s and up.\",\n",
       " \"when i'm on this side of town, this will definitely be a spot i'll hit up again!\",\n",
       " 'i had to wait over 30 minutes to get my drink and longer to get 2 arepas.',\n",
       " 'this is a great place to eat!',\n",
       " 'the jalapeno bacon is soooo good.',\n",
       " 'the service was poor and thats being nice.',\n",
       " 'food was good, service was good, prices were good.',\n",
       " 'the place was not clean and the food oh so stale!',\n",
       " 'the chicken dishes are ok, the beef is like shoe leather.',\n",
       " 'but the service was beyond bad.',\n",
       " 'i\\'m so happy to be here!!!\"',\n",
       " 'tasted like dirt.',\n",
       " 'one of the few places in phoenix that i would definately go back to again .',\n",
       " 'the block was amazing.',\n",
       " \"it's close to my house, it's low-key, non-fancy, affordable prices, good food.\",\n",
       " '* both the hot & sour & the egg flower soups were absolutely 5 stars!',\n",
       " 'my sashimi was poor quality being soggy and tasteless.',\n",
       " 'great time - family dinner on a sunday night.',\n",
       " 'the food is not tasty at all, not to say its \"real traditional hunan style\".',\n",
       " 'what did bother me, was the slow service.',\n",
       " 'the flair bartenders are absolutely amazing!',\n",
       " 'their frozen margaritas are way too sugary for my taste.',\n",
       " 'these were so good we ordered them twice.',\n",
       " 'so in a nutshell: 1) the restaraunt smells like a combination of a dirty fish market and a sewer.',\n",
       " \"my girlfriend's veal was very bad.\",\n",
       " 'unfortunately, it was not good.',\n",
       " 'i had a pretty satifying experience.',\n",
       " 'join the club and get awesome offers via email.',\n",
       " 'perfect for someone (me) who only likes beer ice cold, or in this case, even colder.',\n",
       " 'bland and flavorless is a good way of describing the barely tepid meat.',\n",
       " \"the chains, which i'm no fan of, beat this place easily.\",\n",
       " 'the nachos are a must have!',\n",
       " 'we will not be coming back.',\n",
       " \"i don't have very many words to say about this place, but it does everything pretty well.\",\n",
       " 'the staff is super nice and very quick even with the crazy crowds of the downtown juries, lawyers, and court staff.',\n",
       " 'great atmosphere, friendly and fast service.',\n",
       " 'when i received my pita it was huge it did have a lot of meat in it so thumbs up there.',\n",
       " \"once your food arrives it's meh.\",\n",
       " \"paying $7.85 for a hot dog and fries that looks like it came out of a kid's meal at the wienerschnitzel is not my idea of a good meal.\",\n",
       " 'the classic maine lobster roll was fantastic.',\n",
       " 'my brother in law who works at the mall ate here same day, and guess what he was sick all night too.',\n",
       " 'so good i am going to have to review this place twice - once hereas a tribute to the place and once as a tribute to an event held here last night.',\n",
       " 'the chips and salsa were really good, the salsa was very fresh.',\n",
       " 'this place is great!!!!!!!!!!!!!!',\n",
       " 'mediocre food.',\n",
       " \"once you get inside you'll be impressed with the place.\",\n",
       " \"i'm super pissd.\",\n",
       " 'and service was super friendly.',\n",
       " 'why are these sad little vegetables so overcooked?',\n",
       " 'this place was such a nice surprise!',\n",
       " 'they were golden-crispy and delicious.',\n",
       " 'i had high hopes for this place since the burgers are cooked over a charcoal grill, but unfortunately the taste fell flat, way flat.',\n",
       " 'i could eat their bruschetta all day it is devine.',\n",
       " 'not a single employee came out to see if we were ok or even needed a water refill once they finally served us our food.',\n",
       " 'lastly, the mozzarella sticks, they were the best thing we ordered.',\n",
       " 'the first time i ever came here i had an amazing experience, i still tell people how awesome the duck was.',\n",
       " 'the server was very negligent of our needs and made us feel very unwelcome... i would not suggest this place!',\n",
       " 'the service was terrible though.',\n",
       " 'this place is overpriced, not consistent with their boba, and it really is overpriced!',\n",
       " 'it was packed!!',\n",
       " 'i love this place.',\n",
       " 'i can say that the desserts were yummy.',\n",
       " 'the food was terrible.',\n",
       " 'the seasonal fruit was fresh white peach puree.',\n",
       " \"it kept getting worse and worse so now i'm officially done.\",\n",
       " 'this place should honestly be blown up.',\n",
       " 'but i definitely would not eat here again.',\n",
       " 'do not waste your money here!',\n",
       " 'i love that they put their food in nice plastic containers as opposed to cramming it in little paper takeout boxes.',\n",
       " 'the crêpe was delicate and thin and moist.',\n",
       " 'awful service.',\n",
       " \"won't ever go here again.\",\n",
       " 'food quality has been horrible.',\n",
       " 'for that price i can think of a few place i would have much rather gone.',\n",
       " 'the service here is fair at best.',\n",
       " 'i do love sushi, but i found kabuki to be over-priced, over-hip and under-services.',\n",
       " 'do yourself a favor and stay away from this dish.',\n",
       " 'very poor service.',\n",
       " 'no one at the table thought the food was above average or worth the wait that we had for it.',\n",
       " 'best service and food ever, maria our server was so good and friendly she made our day.',\n",
       " 'they were excellent.',\n",
       " 'i paid the bill but did not tip because i felt the server did a terrible job.',\n",
       " 'just had lunch here and had a great experience.',\n",
       " 'i have never had such bland food which surprised me considering the article we read focused so much on their spices and flavor.',\n",
       " 'food is way overpriced and portions are fucking small.',\n",
       " \"i recently tried caballero's and i have been back every week since!\",\n",
       " 'for 40 bucks a head, i really expect better food.',\n",
       " 'the food came out at a good pace.',\n",
       " 'i ate there twice on my last visit, and especially enjoyed the salmon salad.',\n",
       " \"i won't be back.\",\n",
       " 'we could not believe how dirty the oysters were!',\n",
       " 'this place deserves no stars.',\n",
       " 'i would not recommend this place.',\n",
       " \"in fact i'm going to round up to 4 stars, just because she was so awesome.\",\n",
       " 'to my disbelief, each dish qualified as the worst version of these foods i have ever tasted.',\n",
       " 'bad day or not, i have a very low tolerance for rude customer service people, it is your job to be nice and polite, wash dishes otherwise!!',\n",
       " 'the potatoes were great and so was the biscuit.',\n",
       " 'i probably would not go here again.',\n",
       " 'so flavorful and has just the perfect amount of heat.',\n",
       " 'the price is reasonable and the service is great.',\n",
       " 'the wife hated her meal (coconut shrimp), and our friends really did not enjoy their meals, either.',\n",
       " \"my fella got the huevos rancheros and they didn't look too appealing.\",\n",
       " 'went in for happy hour, great list of wines.',\n",
       " 'some may say this buffet is pricey but i think you get what you pay for and this place you are getting quite a lot!',\n",
       " \"i probably won't be coming back here.\",\n",
       " \"worst food/service i've had in a while.\",\n",
       " 'this place is pretty good, nice little vibe in the restaurant.',\n",
       " 'talk about great customer service of course we will be back.',\n",
       " 'hot dishes are not hot, cold dishes are close to room temp.i watched staff prepare food with bare hands, no gloves.everything is deep fried in oil.',\n",
       " 'i love their fries and their beans.',\n",
       " 'always a pleasure dealing with him.',\n",
       " \"they have a plethora of salads and sandwiches, and everything i've tried gets my seal of approval.\",\n",
       " 'this place is awesome if you want something light and healthy during the summer.',\n",
       " 'for sushi on the strip, this is the place to go.',\n",
       " 'the service was great, even the manager came and helped with our table.',\n",
       " 'the feel of the dining room was more college cooking course than high class dining and the service was slow at best.',\n",
       " \"i started this review with two stars, but i'm editing it to give it only one.\",\n",
       " \"this is the worst sushi i have ever eat besides costco's.\",\n",
       " 'all in all an excellent restaurant highlighted by great service, a unique menu, and a beautiful setting.',\n",
       " 'my boyfriend and i sat at the bar and had a completely delightful experience.',\n",
       " 'weird vibe from owners.',\n",
       " 'there was hardly any meat.',\n",
       " \"i've had better bagels from the grocery store.\",\n",
       " 'go to place for gyros.',\n",
       " 'i love the owner/chef, his one authentic japanese cool dude!',\n",
       " \"now the burgers aren't as good, the pizza which used to be amazing is doughy and flavorless.\",\n",
       " 'i found a six inch long piece of wire in my salsa.',\n",
       " 'the service was terrible, food was mediocre.',\n",
       " 'we definately enjoyed ourselves.',\n",
       " 'i ordered albondigas soup - which was just warm - and tasted like tomato soup with frozen meatballs.',\n",
       " 'on three different occasions i asked for well done or medium well, and all three times i got the bloodiest piece of meat on my plate.',\n",
       " 'i had about two bites and refused to eat anymore.',\n",
       " 'the service was extremely slow.',\n",
       " 'after 20 minutes wait, i got a table.',\n",
       " 'seriously killer hot chai latte.',\n",
       " 'no allergy warnings on the menu, and the waitress had absolutely no clue as to which meals did or did not contain peanuts.',\n",
       " 'my boyfriend tried the mediterranean chicken salad and fell in love.',\n",
       " 'their rotating beers on tap is also a highlight of this place.',\n",
       " 'pricing is a bit of a concern at mellow mushroom.',\n",
       " 'worst thai ever.',\n",
       " 'if you stay in vegas you must get breakfast here at least once.',\n",
       " 'i want to first say our server was great and we had perfect service.',\n",
       " 'the pizza selections are good.',\n",
       " 'i had strawberry tea, which was good.',\n",
       " 'highly unprofessional and rude to a loyal patron!',\n",
       " 'overall, a great experience.',\n",
       " 'spend your money elsewhere.',\n",
       " 'their regular toasted bread was equally satisfying with the occasional pats of butter... mmmm...!',\n",
       " 'the buffet at bellagio was far from what i anticipated.',\n",
       " 'and the drinks are weak, people!',\n",
       " '-my order was not correct.',\n",
       " 'also, i feel like the chips are bought, not made in house.',\n",
       " 'after the disappointing dinner we went elsewhere for dessert.',\n",
       " 'the chips and sals a here is amazing!!!!!!!!!!!!!!!!!!!',\n",
       " \"we won't be returning.\",\n",
       " 'this is my new fav vegas buffet spot.',\n",
       " 'i seriously cannot believe that the owner has so many unexperienced employees that all are running around like chickens with their heads cut off.',\n",
       " 'very, very sad.',\n",
       " 'i felt insulted and disrespected, how could you talk and judge another human being like that?',\n",
       " \"how can you call yourself a steakhouse if you can't properly cook a steak, i don't understand!\",\n",
       " \"i'm not impressed with the concept or the food.\",\n",
       " \"the only thing i wasn't too crazy about was their guacamole as i don't like it puréed.\",\n",
       " 'there is really nothing for me at postinos, hope your experience is better',\n",
       " 'i got food poisoning here at the buffet.',\n",
       " 'they brought a fresh batch of fries and i was thinking yay something warm but no!',\n",
       " 'what should have been a hilarious, yummy christmas eve dinner to remember was the biggest fail of the entire trip for us.',\n",
       " \"needless to say, i won't be going back anytime soon.\",\n",
       " 'this place is disgusting!',\n",
       " 'every time i eat here, i see caring teamwork to a professional degree.',\n",
       " 'the ri style calamari was a joke.',\n",
       " 'however, there was so much garlic in the fondue, it was barely edible.',\n",
       " \"i could barely stomach the meal, but didn't complain because it was a business lunch.\",\n",
       " 'it was so bad, i had lost the heart to finish it.',\n",
       " 'it also took her forever to bring us the check when we asked for it.',\n",
       " \"we aren't ones to make a scene at restaurants but i just don't get it...definitely lost the love after this one!\",\n",
       " 'disappointing experience.',\n",
       " \"the food is about on par with denny's, which is to say, not good at all.\",\n",
       " 'if you want to wait for mediocre food and downright terrible service, then this is the place for you.',\n",
       " 'waaaaaayyyyyyyyyy over rated is all i am saying.',\n",
       " \"we won't be going back.\",\n",
       " \"the place was fairly clean but the food simply wasn't worth it.\",\n",
       " 'this place lacked style!!',\n",
       " 'the sangria was about half of a glass wine full and was $12, ridiculous.',\n",
       " \"don't bother coming here.\",\n",
       " 'the meat was pretty dry, i had the sliced brisket and pulled pork.',\n",
       " \"the building itself seems pretty neat, the bathroom is pretty trippy, but i wouldn't eat here again.\",\n",
       " 'it was equally awful.',\n",
       " 'probably not in a hurry to go back.',\n",
       " 'very slow at seating even with reservation.',\n",
       " 'not good by any stretch of the imagination.',\n",
       " 'the cashew cream sauce was bland and the vegetables were undercooked.',\n",
       " 'the chipolte ranch dipping sause was tasteless, seemed thin and watered down with no heat.',\n",
       " 'it was a bit too sweet, not really spicy enough, and lacked flavor.',\n",
       " 'i was very disappointed!!',\n",
       " 'this place is horrible and way overpriced.',\n",
       " \"maybe it's just their vegetarian fare, but i've been twice and i thought it was average at best.\",\n",
       " \"it wasn't busy at all and now we know why.\",\n",
       " 'the tables outside are also dirty a lot of the time and the workers are not always friendly and helpful with the menu.',\n",
       " 'the ambiance here did not feel like a buffet setting, but more of a douchey indoor garden for tea and biscuits.',\n",
       " 'con: spotty service.',\n",
       " 'the fries were not hot, and neither was my burger.',\n",
       " 'but then they came back cold.',\n",
       " 'then our food came out, disappointment ensued.',\n",
       " 'the real disappointment was our waiter.',\n",
       " 'my husband said she was very rude... did not even apologize for the bad food or anything.',\n",
       " 'the only reason to eat here would be to fill up before a night of binge drinking just to get some carbs in your stomach.',\n",
       " 'insults, profound deuchebaggery, and had to go outside for a smoke break while serving just to solidify it.',\n",
       " \"if someone orders two tacos don't' you think it may be part of customer service to ask if it is combo or ala cart?\",\n",
       " 'she was quite disappointed although some blame needs to be placed at her door.',\n",
       " \"after all the rave reviews i couldn't wait to eat here......what a disappointment!\",\n",
       " 'del taco is pretty nasty and should be avoided if possible.',\n",
       " \"it's not hard to make a decent hamburger.\",\n",
       " \"but i don't like it.\",\n",
       " 'hell no will i go back',\n",
       " \"we've have gotten a much better service from the pizza place next door than the services we received from this restaurant.\",\n",
       " 'i don\\'t know what the big deal is about this place, but i won\\'t be back \"ya\\'all\".',\n",
       " 'i immediately said i wanted to talk to the manager but i did not want to talk to the guy who was doing shots of fireball behind the bar.',\n",
       " \"the ambiance isn't much better.\",\n",
       " 'unfortunately, it only set us up for disapppointment with our entrees.',\n",
       " \"the food wasn't good.\",\n",
       " 'your servers suck, wait, correction, our server heimer sucked.',\n",
       " 'what happened next was pretty....off putting.',\n",
       " \"too bad cause i know it's family owned, i really wanted to like this place.\",\n",
       " 'overpriced for what you are getting.',\n",
       " 'i vomited in the bathroom mid lunch.',\n",
       " 'i kept looking at the time and it had soon become 35 minutes, yet still no food.',\n",
       " 'i have been to very few places to eat that under no circumstances would i ever return to, and this tops the list.',\n",
       " \"we started with the tuna sashimi which was brownish in color and obviously wasn't fresh.\",\n",
       " 'food was below average.',\n",
       " 'it sure does beat the nachos at the movies but i would expect a little bit more coming from a restaurant.',\n",
       " 'all in all, ha long bay was a bit of a flop.',\n",
       " 'the problem i have is that they charge $11.99 for a sandwich that is no bigger than a subway sub (which offers better and more amount of vegetables).',\n",
       " 'shrimp- when i unwrapped it (i live only 1/2 a mile from brushfire) it was literally ice cold.',\n",
       " 'it lacked flavor, seemed undercooked, and dry.',\n",
       " \"it really is impressive that the place hasn't closed down.\",\n",
       " 'i would avoid this place if you are staying in the mirage.',\n",
       " 'the refried beans that came with my meal were dried out and crusty and the food was bland.',\n",
       " 'spend your money and time some place else.',\n",
       " 'a lady at the table next to us found a live green caterpillar in her salad.',\n",
       " 'the presentation of the food was awful.',\n",
       " \"i can't tell you how disappointed i was.\",\n",
       " 'i think food should have flavor and texture and both were lacking.',\n",
       " 'appetite instantly gone.',\n",
       " 'overall i was not impressed and would not go back.',\n",
       " \"the whole experience was underwhelming, and i think we'll just go to ninja sushi next time.\",\n",
       " \"then, as if i hadn't wasted enough of my life there, they poured salt in the wound by drawing out the time it took to bring the check.\"]"
      ]
     },
     "execution_count": 9,
     "metadata": {},
     "output_type": "execute_result"
    }
   ],
   "source": [
    "new_text_after_stopwords = []\n",
    "for word in lower_casing:\n",
    "    if word not in Stopwords:\n",
    "        new_text_after_stopwords.append(word)\n",
    "new_text_after_stopwords"
   ]
  },
  {
   "cell_type": "code",
   "execution_count": 13,
   "metadata": {},
   "outputs": [],
   "source": [
    "from nltk.stem import WordNetLemmatizer\n",
    "from nltk.stem import PorterStemmer"
   ]
  },
  {
   "cell_type": "code",
   "execution_count": 14,
   "metadata": {},
   "outputs": [],
   "source": [
    "Lemma = WordNetLemmatizer()\n",
    "stem = PorterStemmer()"
   ]
  },
  {
   "cell_type": "code",
   "execution_count": null,
   "metadata": {},
   "outputs": [],
   "source": []
  },
  {
   "cell_type": "code",
   "execution_count": null,
   "metadata": {},
   "outputs": [],
   "source": []
  },
  {
   "cell_type": "code",
   "execution_count": null,
   "metadata": {},
   "outputs": [],
   "source": []
  },
  {
   "cell_type": "markdown",
   "metadata": {},
   "source": [
    "1. Data Gathering \n",
    "2. Preprocessing \n",
    "   1. lowercasing\n",
    "   2. stopwords, domain specific stopwords\n",
    "   3. contraction mapping\n",
    "   4. lemmatization,Stemming\n",
    "   5. spell check\n",
    "   6. removing punctations\n",
    "   7. laveshtian distance\n",
    "3. Text representation\n",
    "   1. Count Vectorizer \n",
    "   2. TF - IDF \n",
    "   3. Word2vec\n",
    "   4. Fasttext\n",
    "   5. Glove\n",
    "4. Use of Algorithms\n",
    "   1. Naive Bayes\n",
    "   2. RNN \n",
    "   3. LSTM\n",
    "5. Evaluation\n",
    "   1. COnfusion matrix\n",
    "   2. Classification report\n",
    "   3. AUC - ROC curve\n",
    "   "
   ]
  },
  {
   "cell_type": "code",
   "execution_count": 1,
   "metadata": {},
   "outputs": [],
   "source": [
    "import numpy as np"
   ]
  },
  {
   "cell_type": "code",
   "execution_count": 2,
   "metadata": {},
   "outputs": [
    {
     "data": {
      "text/plain": [
       "array([0., 0., 0., 0., 0., 0., 0., 0., 0., 0.])"
      ]
     },
     "execution_count": 2,
     "metadata": {},
     "output_type": "execute_result"
    }
   ],
   "source": [
    "arr1 = np.zeros(10)\n",
    "arr1"
   ]
  },
  {
   "cell_type": "code",
   "execution_count": 3,
   "metadata": {},
   "outputs": [
    {
     "data": {
      "text/plain": [
       "80"
      ]
     },
     "execution_count": 3,
     "metadata": {},
     "output_type": "execute_result"
    }
   ],
   "source": [
    "arr1.nbytes"
   ]
  },
  {
   "cell_type": "code",
   "execution_count": 5,
   "metadata": {},
   "outputs": [
    {
     "data": {
      "text/plain": [
       "array([0., 0., 0., 0., 1., 0., 0., 0., 0., 0.])"
      ]
     },
     "execution_count": 5,
     "metadata": {},
     "output_type": "execute_result"
    }
   ],
   "source": [
    "arr1 = np.zeros(10)\n",
    "arr1\n",
    "arr1[4] = 1\n",
    "arr1"
   ]
  },
  {
   "cell_type": "code",
   "execution_count": 6,
   "metadata": {},
   "outputs": [
    {
     "data": {
      "text/plain": [
       "array([15, 16, 17, 18, 19, 20, 21, 22, 23, 24, 25, 26, 27, 28, 29, 30, 31,\n",
       "       32, 33, 34, 35, 36, 37, 38, 39, 40, 41, 42, 43, 44, 45])"
      ]
     },
     "execution_count": 6,
     "metadata": {},
     "output_type": "execute_result"
    }
   ],
   "source": [
    "arr1 = np.arange(15,46)\n",
    "arr1"
   ]
  },
  {
   "cell_type": "code",
   "execution_count": 7,
   "metadata": {},
   "outputs": [
    {
     "data": {
      "text/plain": [
       "array([45, 44, 43, 42, 41, 40, 39, 38, 37, 36, 35, 34, 33, 32, 31, 30, 29,\n",
       "       28, 27, 26, 25, 24, 23, 22, 21, 20, 19, 18, 17, 16, 15])"
      ]
     },
     "execution_count": 7,
     "metadata": {},
     "output_type": "execute_result"
    }
   ],
   "source": [
    "arr1[::-1]"
   ]
  },
  {
   "cell_type": "code",
   "execution_count": 9,
   "metadata": {},
   "outputs": [
    {
     "data": {
      "text/plain": [
       "[45,\n",
       " 44,\n",
       " 43,\n",
       " 42,\n",
       " 41,\n",
       " 40,\n",
       " 39,\n",
       " 38,\n",
       " 37,\n",
       " 36,\n",
       " 35,\n",
       " 34,\n",
       " 33,\n",
       " 32,\n",
       " 31,\n",
       " 30,\n",
       " 29,\n",
       " 28,\n",
       " 27,\n",
       " 26,\n",
       " 25,\n",
       " 24,\n",
       " 23,\n",
       " 22,\n",
       " 21,\n",
       " 20,\n",
       " 19,\n",
       " 18,\n",
       " 17,\n",
       " 16,\n",
       " 15]"
      ]
     },
     "execution_count": 9,
     "metadata": {},
     "output_type": "execute_result"
    }
   ],
   "source": [
    "arr2 = reversed(arr1)\n",
    "list(arr2)"
   ]
  },
  {
   "cell_type": "code",
   "execution_count": 10,
   "metadata": {},
   "outputs": [
    {
     "name": "stdout",
     "output_type": "stream",
     "text": [
      "Array 1:\n",
      " [[8 5]\n",
      " [3 5]]\n",
      "Array 2:\n",
      " [[27 24]\n",
      " [20 26]]\n"
     ]
    }
   ],
   "source": [
    "arr1 = np.random.randint(1,10,size=(2,2))\n",
    "print(\"Array 1:\\n\",arr1)\n",
    "arr2 = np.random.randint(20,30,size=(2,2))\n",
    "print(\"Array 2:\\n\",arr2)"
   ]
  },
  {
   "cell_type": "code",
   "execution_count": 11,
   "metadata": {},
   "outputs": [
    {
     "data": {
      "text/plain": [
       "array([[35, 29],\n",
       "       [23, 31]])"
      ]
     },
     "execution_count": 11,
     "metadata": {},
     "output_type": "execute_result"
    }
   ],
   "source": [
    "add = arr1 + arr2\n",
    "add"
   ]
  },
  {
   "cell_type": "code",
   "execution_count": 12,
   "metadata": {},
   "outputs": [
    {
     "data": {
      "text/plain": [
       "array([[-19, -19],\n",
       "       [-17, -21]])"
      ]
     },
     "execution_count": 12,
     "metadata": {},
     "output_type": "execute_result"
    }
   ],
   "source": [
    "sub = arr1 - arr2\n",
    "sub"
   ]
  },
  {
   "cell_type": "code",
   "execution_count": 13,
   "metadata": {},
   "outputs": [
    {
     "data": {
      "text/plain": [
       "array([1., 2., 2., 4., 1., 4., 2., 9., 0.])"
      ]
     },
     "execution_count": 13,
     "metadata": {},
     "output_type": "execute_result"
    }
   ],
   "source": [
    "arr1 = np.array([1.3,1.8,2.3,3.9,1,4,1.9,9,.3])\n",
    "arr1.round()"
   ]
  },
  {
   "cell_type": "code",
   "execution_count": 14,
   "metadata": {},
   "outputs": [
    {
     "data": {
      "text/plain": [
       "array([1., 1., 2., 3., 1., 4., 1., 9., 0.])"
      ]
     },
     "execution_count": 14,
     "metadata": {},
     "output_type": "execute_result"
    }
   ],
   "source": [
    "np.floor(arr1)"
   ]
  },
  {
   "cell_type": "code",
   "execution_count": 15,
   "metadata": {},
   "outputs": [
    {
     "data": {
      "text/plain": [
       "array([2., 2., 3., 4., 1., 4., 2., 9., 1.])"
      ]
     },
     "execution_count": 15,
     "metadata": {},
     "output_type": "execute_result"
    }
   ],
   "source": [
    "np.ceil(arr1)"
   ]
  },
  {
   "cell_type": "code",
   "execution_count": 16,
   "metadata": {},
   "outputs": [
    {
     "name": "stdout",
     "output_type": "stream",
     "text": [
      "Array :\n",
      " [[1 2 3]\n",
      " [4 5 6]\n",
      " [7 8 9]]\n",
      "Mean across rows : [2. 5. 8.]\n",
      "Mean across columns : [4. 5. 6.]\n"
     ]
    }
   ],
   "source": [
    "arr1 = np.array([[1,2,3],[4,5,6],[7,8,9]])\n",
    "print(\"Array :\\n\",arr1)\n",
    "mean_row = np.mean(arr1,axis=1)\n",
    "print(\"Mean across rows :\",mean_row)\n",
    "mean_col = np.mean(arr1,axis=0)\n",
    "print(\"Mean across columns :\",mean_col)"
   ]
  },
  {
   "cell_type": "code",
   "execution_count": 17,
   "metadata": {},
   "outputs": [
    {
     "data": {
      "text/plain": [
       "array([0.        , 0.52359878, 0.78539816, 1.04719755, 1.57079633])"
      ]
     },
     "execution_count": 17,
     "metadata": {},
     "output_type": "execute_result"
    }
   ],
   "source": [
    "list1 = [0,30,45,60,90]\n",
    "result = np.deg2rad(list1)\n",
    "result"
   ]
  },
  {
   "cell_type": "code",
   "execution_count": 18,
   "metadata": {},
   "outputs": [
    {
     "name": "stdout",
     "output_type": "stream",
     "text": [
      "Array :\n",
      " [[0 1 2]\n",
      " [3 4 5]\n",
      " [6 7 8]]\n"
     ]
    }
   ],
   "source": [
    "arr1 = np.arange(9).reshape(3,3)\n",
    "print(\"Array :\\n\",arr1)"
   ]
  },
  {
   "cell_type": "code",
   "execution_count": 19,
   "metadata": {},
   "outputs": [
    {
     "name": "stdout",
     "output_type": "stream",
     "text": [
      "Array :\n",
      " [[1 2 3]\n",
      " [4 5 6]\n",
      " [7 8 9]]\n"
     ]
    },
    {
     "data": {
      "text/plain": [
       "array([[3, 2, 1],\n",
       "       [6, 5, 4],\n",
       "       [9, 8, 7]])"
      ]
     },
     "execution_count": 19,
     "metadata": {},
     "output_type": "execute_result"
    }
   ],
   "source": [
    "arr1 = np.array([[1,2,3],[4,5,6],[7,8,9]])\n",
    "print(\"Array :\\n\",arr1)\n",
    "arr1[:: , ::-1]"
   ]
  },
  {
   "cell_type": "code",
   "execution_count": 20,
   "metadata": {},
   "outputs": [
    {
     "data": {
      "text/plain": [
       "array([[1, 2, 3],\n",
       "       [4, 5, 6],\n",
       "       [7, 8, 9]])"
      ]
     },
     "execution_count": 20,
     "metadata": {},
     "output_type": "execute_result"
    }
   ],
   "source": [
    "arr1"
   ]
  },
  {
   "cell_type": "code",
   "execution_count": 21,
   "metadata": {},
   "outputs": [
    {
     "data": {
      "text/plain": [
       "array([[7, 8, 9],\n",
       "       [4, 5, 6],\n",
       "       [1, 2, 3]])"
      ]
     },
     "execution_count": 21,
     "metadata": {},
     "output_type": "execute_result"
    }
   ],
   "source": [
    "arr1[::-1]"
   ]
  },
  {
   "cell_type": "code",
   "execution_count": 22,
   "metadata": {},
   "outputs": [
    {
     "data": {
      "text/plain": [
       "(array([0, 1, 4], dtype=int64),)"
      ]
     },
     "execution_count": 22,
     "metadata": {},
     "output_type": "execute_result"
    }
   ],
   "source": [
    "result = np.nonzero([1,2,0,0,4,0])\n",
    "result"
   ]
  },
  {
   "cell_type": "code",
   "execution_count": 23,
   "metadata": {},
   "outputs": [
    {
     "name": "stdout",
     "output_type": "stream",
     "text": [
      "Array :\n",
      " [[1 2]\n",
      " [3 4]]\n"
     ]
    },
    {
     "data": {
      "text/plain": [
       "-2.0000000000000004"
      ]
     },
     "execution_count": 23,
     "metadata": {},
     "output_type": "execute_result"
    }
   ],
   "source": [
    "arr1 = np.array([[1,2],[3,4]])\n",
    "print(\"Array :\\n\",arr1)\n",
    "result = np.linalg.det(arr1)\n",
    "result"
   ]
  },
  {
   "cell_type": "code",
   "execution_count": 24,
   "metadata": {},
   "outputs": [
    {
     "data": {
      "text/plain": [
       "array([[1, 2],\n",
       "       [3, 4]])"
      ]
     },
     "execution_count": 24,
     "metadata": {},
     "output_type": "execute_result"
    }
   ],
   "source": [
    "arr1"
   ]
  },
  {
   "cell_type": "code",
   "execution_count": 25,
   "metadata": {},
   "outputs": [
    {
     "data": {
      "text/plain": [
       "array([[-2. ,  1. ],\n",
       "       [ 1.5, -0.5]])"
      ]
     },
     "execution_count": 25,
     "metadata": {},
     "output_type": "execute_result"
    }
   ],
   "source": [
    "result = np.linalg.inv(arr1)\n",
    "result"
   ]
  },
  {
   "cell_type": "code",
   "execution_count": 26,
   "metadata": {},
   "outputs": [
    {
     "name": "stdout",
     "output_type": "stream",
     "text": [
      "Array :\n",
      " [6 4 7 9 9 2 3 8 4 1 8 8 3 9 8 4 5 1 8 3 4 3 5 1 9 5 8 8 1 7]\n"
     ]
    },
    {
     "data": {
      "text/plain": [
       "5.366666666666666"
      ]
     },
     "execution_count": 26,
     "metadata": {},
     "output_type": "execute_result"
    }
   ],
   "source": [
    "arr1 = np.random.randint(1,10,size=(30))\n",
    "print(\"Array :\\n\",arr1)\n",
    "result = np.mean(arr1)\n",
    "result"
   ]
  },
  {
   "cell_type": "code",
   "execution_count": 27,
   "metadata": {},
   "outputs": [
    {
     "name": "stdout",
     "output_type": "stream",
     "text": [
      "Array :\n",
      " [ 1  2  3  4  5  6  7  8  9 10]\n"
     ]
    },
    {
     "data": {
      "text/plain": [
       "(array([5, 6, 7, 8, 9], dtype=int64),)"
      ]
     },
     "execution_count": 27,
     "metadata": {},
     "output_type": "execute_result"
    }
   ],
   "source": [
    "arr1 = np.array([1,2,3,4,5,6,7,8,9,10])\n",
    "print(\"Array :\\n\",arr1)\n",
    "result = np.where(arr1 > 5)\n",
    "result"
   ]
  },
  {
   "cell_type": "code",
   "execution_count": 28,
   "metadata": {},
   "outputs": [
    {
     "name": "stdout",
     "output_type": "stream",
     "text": [
      "Array :\n",
      " [[[0.4741754  0.61338741 0.34267948]\n",
      "  [0.07365331 0.54792035 0.95446653]\n",
      "  [0.8763885  0.77081324 0.03847026]]\n",
      "\n",
      " [[0.61085631 0.37096675 0.06858381]\n",
      "  [0.73267909 0.09863887 0.1292516 ]\n",
      "  [0.3420986  0.76183414 0.79958009]]\n",
      "\n",
      " [[0.43467136 0.05912593 0.01755935]\n",
      "  [0.08344712 0.10032393 0.16034869]\n",
      "  [0.36646472 0.26444025 0.09906588]]]\n"
     ]
    }
   ],
   "source": [
    "arr1 = np.random.random((3,3,3))\n",
    "print(\"Array :\\n\",arr1)"
   ]
  },
  {
   "cell_type": "code",
   "execution_count": 30,
   "metadata": {},
   "outputs": [
    {
     "name": "stdout",
     "output_type": "stream",
     "text": [
      "Array :\n",
      " [[0.97132006 0.48304303 0.3851227  0.78350675 0.34392007 0.39383662\n",
      "  0.02222404 0.72462964 0.5859613  0.80284726]\n",
      " [0.91606004 0.11272656 0.18571598 0.60692281 0.01676893 0.81871929\n",
      "  0.21479829 0.76634486 0.4468287  0.8349704 ]\n",
      " [0.3515856  0.09967324 0.01247895 0.74935674 0.29100608 0.27992913\n",
      "  0.45330098 0.66841167 0.78199609 0.49896228]\n",
      " [0.97846541 0.20383806 0.91107091 0.76037941 0.50281297 0.85017567\n",
      "  0.62584348 0.16812155 0.85260172 0.1172363 ]\n",
      " [0.09951709 0.73769067 0.44354901 0.943424   0.54209621 0.07454408\n",
      "  0.06991675 0.69217006 0.03545471 0.24983634]\n",
      " [0.55218767 0.5642437  0.30185151 0.72019874 0.82007075 0.99182286\n",
      "  0.12272339 0.53526174 0.77201683 0.88512969]\n",
      " [0.55682375 0.35505102 0.11459045 0.15827047 0.12557667 0.79242143\n",
      "  0.23331405 0.29753678 0.44757632 0.12055803]\n",
      " [0.77030516 0.51279797 0.43396564 0.11515102 0.69705184 0.01825491\n",
      "  0.86764756 0.63666881 0.32311392 0.64887162]\n",
      " [0.53262002 0.5787348  0.99502849 0.50089525 0.41076727 0.75504967\n",
      "  0.66877691 0.88938108 0.26743808 0.03255143]\n",
      " [0.43203436 0.72280493 0.39011804 0.97945461 0.32443946 0.92559743\n",
      "  0.68720923 0.07710256 0.26302965 0.89021514]]\n",
      "Maximum : 0.9950284934050516\n",
      "Minimum : 0.012478947441717847\n"
     ]
    }
   ],
   "source": [
    "arr1 = np.random.rand(10,10)\n",
    "print(\"Array :\\n\",arr1)\n",
    "print(\"Maximum :\",np.max(arr1))\n",
    "print(\"Minimum :\",np.min(arr1))"
   ]
  },
  {
   "cell_type": "code",
   "execution_count": 31,
   "metadata": {},
   "outputs": [
    {
     "name": "stdout",
     "output_type": "stream",
     "text": [
      "Array:\n",
      " [[1. 1. 1. 1. 1. 1. 1. 1. 1. 1.]\n",
      " [1. 1. 1. 1. 1. 1. 1. 1. 1. 1.]\n",
      " [1. 1. 1. 1. 1. 1. 1. 1. 1. 1.]\n",
      " [1. 1. 1. 1. 1. 1. 1. 1. 1. 1.]\n",
      " [1. 1. 1. 1. 1. 1. 1. 1. 1. 1.]\n",
      " [1. 1. 1. 1. 1. 1. 1. 1. 1. 1.]\n",
      " [1. 1. 1. 1. 1. 1. 1. 1. 1. 1.]\n",
      " [1. 1. 1. 1. 1. 1. 1. 1. 1. 1.]\n",
      " [1. 1. 1. 1. 1. 1. 1. 1. 1. 1.]\n",
      " [1. 1. 1. 1. 1. 1. 1. 1. 1. 1.]]\n"
     ]
    },
    {
     "data": {
      "text/plain": [
       "array([[1., 1., 1., 1., 1., 1., 1., 1., 1., 1.],\n",
       "       [1., 0., 0., 0., 0., 0., 0., 0., 0., 1.],\n",
       "       [1., 0., 0., 0., 0., 0., 0., 0., 0., 1.],\n",
       "       [1., 0., 0., 0., 0., 0., 0., 0., 0., 1.],\n",
       "       [1., 0., 0., 0., 0., 0., 0., 0., 0., 1.],\n",
       "       [1., 0., 0., 0., 0., 0., 0., 0., 0., 1.],\n",
       "       [1., 0., 0., 0., 0., 0., 0., 0., 0., 1.],\n",
       "       [1., 0., 0., 0., 0., 0., 0., 0., 0., 1.],\n",
       "       [1., 0., 0., 0., 0., 0., 0., 0., 0., 1.],\n",
       "       [1., 1., 1., 1., 1., 1., 1., 1., 1., 1.]])"
      ]
     },
     "execution_count": 31,
     "metadata": {},
     "output_type": "execute_result"
    }
   ],
   "source": [
    "arr1 = np.ones((10,10))\n",
    "print(\"Array:\\n\",arr1)\n",
    "arr1[1:-1,1:-1] = 0\n",
    "arr1"
   ]
  },
  {
   "cell_type": "code",
   "execution_count": 32,
   "metadata": {},
   "outputs": [
    {
     "data": {
      "text/plain": [
       "array([[0, 0, 0, 0, 0],\n",
       "       [1, 0, 0, 0, 0],\n",
       "       [0, 2, 0, 0, 0],\n",
       "       [0, 0, 3, 0, 0],\n",
       "       [0, 0, 0, 4, 0]])"
      ]
     },
     "execution_count": 32,
     "metadata": {},
     "output_type": "execute_result"
    }
   ],
   "source": [
    "arr1 = np.zeros((5,5),dtype=int)\n",
    "np.fill_diagonal(arr1[1:],[1,2,3,4])\n",
    "arr1"
   ]
  },
  {
   "cell_type": "code",
   "execution_count": 33,
   "metadata": {},
   "outputs": [
    {
     "data": {
      "text/plain": [
       "array([[1., 0., 0.],\n",
       "       [0., 1., 0.],\n",
       "       [0., 0., 1.]])"
      ]
     },
     "execution_count": 33,
     "metadata": {},
     "output_type": "execute_result"
    }
   ],
   "source": [
    "arr1 = np.eye(3,3)\n",
    "arr1"
   ]
  },
  {
   "cell_type": "code",
   "execution_count": 34,
   "metadata": {},
   "outputs": [
    {
     "name": "stdout",
     "output_type": "stream",
     "text": [
      "Array 1 :\n",
      " [[5 2 7]\n",
      " [1 3 5]\n",
      " [7 3 4]\n",
      " [6 1 8]\n",
      " [5 6 5]]\n",
      "Array 2 :\n",
      " [[3 3]\n",
      " [7 1]\n",
      " [6 7]]\n",
      "Multiplication array :\n",
      " [[71 66]\n",
      " [54 41]\n",
      " [66 52]\n",
      " [73 75]\n",
      " [87 56]]\n"
     ]
    }
   ],
   "source": [
    "arr1 = np.random.randint(1,9,size=(5,3))\n",
    "arr2 = np.random.randint(1,9,size=(3,2))\n",
    "result = np.dot(arr1,arr2)\n",
    "print(\"Array 1 :\\n\",arr1)\n",
    "print(\"Array 2 :\\n\",arr2)\n",
    "print(\"Multiplication array :\\n\",result)"
   ]
  },
  {
   "cell_type": "code",
   "execution_count": 35,
   "metadata": {},
   "outputs": [
    {
     "data": {
      "text/plain": [
       "array([ 1,  2, -3, -4, -5, -6, -7, -8, 44,  9, 33, -6, -5, 10])"
      ]
     },
     "execution_count": 35,
     "metadata": {},
     "output_type": "execute_result"
    }
   ],
   "source": [
    "arr1 = np.array([1,2,3,4,5,6,7,8,44,9,33,6,5,10])\n",
    "result = np.where((arr1 >= 3) & (arr1 <= 8), -1*arr1 , arr1)\n",
    "result"
   ]
  },
  {
   "cell_type": "code",
   "execution_count": 36,
   "metadata": {},
   "outputs": [
    {
     "name": "stdout",
     "output_type": "stream",
     "text": [
      "Array:\n",
      " [[1.215413  2.654139 ]\n",
      " [3.4513056 5.2141555]]\n"
     ]
    },
    {
     "data": {
      "text/plain": [
       "array([[1.2, 2.7],\n",
       "       [3.5, 5.2]])"
      ]
     },
     "execution_count": 36,
     "metadata": {},
     "output_type": "execute_result"
    }
   ],
   "source": [
    "arr1 = np.array([[1.215413,2.654139],[3.4513056,5.2141555]])\n",
    "print(\"Array:\\n\",arr1)\n",
    "result = np.around(arr1,1)\n",
    "result"
   ]
  },
  {
   "cell_type": "code",
   "execution_count": 37,
   "metadata": {},
   "outputs": [
    {
     "data": {
      "text/plain": [
       "array([4, 5, 6])"
      ]
     },
     "execution_count": 37,
     "metadata": {},
     "output_type": "execute_result"
    }
   ],
   "source": [
    "arr1 = np.array([1,2,3,4,5,6])\n",
    "arr2 = np.array([4,5,6,7,8,9])\n",
    "result = np.intersect1d(arr1,arr2)\n",
    "result"
   ]
  },
  {
   "cell_type": "code",
   "execution_count": 38,
   "metadata": {},
   "outputs": [
    {
     "data": {
      "text/plain": [
       "array([0.11111111, 0.22222222, 0.33333333, 0.44444444, 0.55555556,\n",
       "       0.66666667, 0.77777778, 0.88888889])"
      ]
     },
     "execution_count": 38,
     "metadata": {},
     "output_type": "execute_result"
    }
   ],
   "source": [
    "arr1 = np.linspace(0,1,10)[1:-1]\n",
    "arr1"
   ]
  },
  {
   "cell_type": "code",
   "execution_count": 39,
   "metadata": {},
   "outputs": [
    {
     "name": "stdout",
     "output_type": "stream",
     "text": [
      "Array: [4 6 7 1 1 4 6 7 4 5]\n"
     ]
    },
    {
     "data": {
      "text/plain": [
       "array([1, 1, 4, 4, 4, 5, 6, 6, 7, 7])"
      ]
     },
     "execution_count": 39,
     "metadata": {},
     "output_type": "execute_result"
    }
   ],
   "source": [
    "arr1 = np.random.randint(1,10,size=(10))\n",
    "print(\"Array:\",arr1)\n",
    "result = np.sort(arr1)\n",
    "result"
   ]
  },
  {
   "cell_type": "code",
   "execution_count": 40,
   "metadata": {},
   "outputs": [
    {
     "name": "stdout",
     "output_type": "stream",
     "text": [
      "Array: [[0. 0. 0. 0. 0.]\n",
      " [0. 0. 0. 0. 0.]\n",
      " [0. 0. 0. 0. 0.]\n",
      " [0. 0. 0. 0. 0.]\n",
      " [0. 0. 0. 0. 0.]]\n"
     ]
    },
    {
     "data": {
      "text/plain": [
       "array([[0., 1., 2., 3., 4.],\n",
       "       [0., 1., 2., 3., 4.],\n",
       "       [0., 1., 2., 3., 4.],\n",
       "       [0., 1., 2., 3., 4.],\n",
       "       [0., 1., 2., 3., 4.]])"
      ]
     },
     "execution_count": 40,
     "metadata": {},
     "output_type": "execute_result"
    }
   ],
   "source": [
    "arr1 = np.zeros((5,5))\n",
    "print(\"Array:\",arr1)\n",
    "arr2 = arr1 + np.arange(5)\n",
    "arr2"
   ]
  },
  {
   "cell_type": "code",
   "execution_count": 41,
   "metadata": {},
   "outputs": [
    {
     "name": "stdout",
     "output_type": "stream",
     "text": [
      "Both arrays are not equal\n"
     ]
    }
   ],
   "source": [
    "arr1 = np.random.randint(0,5,size=(5))\n",
    "arr2 = np.random.randint(0,5,size=(5))\n",
    "if np.equal == True:\n",
    "    print(\"Both arrays are equal\")\n",
    "else:\n",
    "    print(\"Both arrays are not equal\")"
   ]
  },
  {
   "cell_type": "code",
   "execution_count": 42,
   "metadata": {},
   "outputs": [
    {
     "data": {
      "text/plain": [
       "False"
      ]
     },
     "execution_count": 42,
     "metadata": {},
     "output_type": "execute_result"
    }
   ],
   "source": [
    "result = np.allclose(arr1,arr2)\n",
    "result"
   ]
  },
  {
   "cell_type": "code",
   "execution_count": 43,
   "metadata": {},
   "outputs": [
    {
     "name": "stdout",
     "output_type": "stream",
     "text": [
      "Array: [5 6 8 5 7 5 9 2 2 6]\n"
     ]
    },
    {
     "data": {
      "text/plain": [
       "array([5, 6, 8, 5, 7, 5, 0, 2, 2, 6])"
      ]
     },
     "execution_count": 43,
     "metadata": {},
     "output_type": "execute_result"
    }
   ],
   "source": [
    "arr1 = np.random.randint(1,10,size=(10))\n",
    "print(\"Array:\",arr1)\n",
    "result = np.where((np.max(arr1) == arr1),0,arr1)\n",
    "result"
   ]
  },
  {
   "cell_type": "code",
   "execution_count": 44,
   "metadata": {},
   "outputs": [
    {
     "name": "stdout",
     "output_type": "stream",
     "text": [
      "1 2 3 4 5 6 7 8 9 "
     ]
    }
   ],
   "source": [
    "arr1 = np.array([[[1,2,3],[4,5,6],[7,8,9]]])\n",
    "for i in np.nditer(arr1):\n",
    "    print(i,end=\" \")"
   ]
  },
  {
   "cell_type": "code",
   "execution_count": 45,
   "metadata": {},
   "outputs": [
    {
     "name": "stdout",
     "output_type": "stream",
     "text": [
      "(0, 0) index has 1 values\n",
      "(0, 1) index has 2 values\n",
      "(0, 2) index has 3 values\n",
      "(1, 0) index has 4 values\n",
      "(1, 1) index has 5 values\n",
      "(1, 2) index has 6 values\n",
      "(2, 0) index has 7 values\n",
      "(2, 1) index has 8 values\n",
      "(2, 2) index has 9 values\n"
     ]
    }
   ],
   "source": [
    "arr1 = np.array([[1,2,3],[4,5,6],[7,8,9]])\n",
    "for index,value in np.ndenumerate(arr1):\n",
    "    print(f\"{index} index has {value} values\")"
   ]
  },
  {
   "cell_type": "code",
   "execution_count": 46,
   "metadata": {},
   "outputs": [
    {
     "name": "stdout",
     "output_type": "stream",
     "text": [
      "Array:\n",
      " [[4 3 1]\n",
      " [5 8 9]\n",
      " [3 4 5]]\n"
     ]
    },
    {
     "data": {
      "text/plain": [
       "array([[3, 4, 5],\n",
       "       [5, 8, 9],\n",
       "       [4, 3, 1]])"
      ]
     },
     "execution_count": 46,
     "metadata": {},
     "output_type": "execute_result"
    }
   ],
   "source": [
    "arr1 = np.array([[4,3,1],[5,8,9],[3,4,5]])\n",
    "print(\"Array:\\n\",arr1)\n",
    "arr1[[0,2]] = arr1[[2,0]]\n",
    "arr1"
   ]
  },
  {
   "cell_type": "code",
   "execution_count": 47,
   "metadata": {},
   "outputs": [
    {
     "data": {
      "text/plain": [
       "5.5"
      ]
     },
     "execution_count": 47,
     "metadata": {},
     "output_type": "execute_result"
    }
   ],
   "source": [
    "arr1 = np.array([1,2,3,4,5,6,7,8,9,10])\n",
    "result = np.mean(arr1)\n",
    "result"
   ]
  },
  {
   "cell_type": "code",
   "execution_count": 48,
   "metadata": {},
   "outputs": [
    {
     "data": {
      "text/plain": [
       "5.5"
      ]
     },
     "execution_count": 48,
     "metadata": {},
     "output_type": "execute_result"
    }
   ],
   "source": [
    "result = np.median(arr1)\n",
    "result"
   ]
  },
  {
   "cell_type": "code",
   "execution_count": 49,
   "metadata": {},
   "outputs": [
    {
     "name": "stdout",
     "output_type": "stream",
     "text": [
      "Array:\n",
      " [3 6 2 4 4 8 6 5 6 3]\n"
     ]
    },
    {
     "data": {
      "text/plain": [
       "1.7349351572897473"
      ]
     },
     "execution_count": 49,
     "metadata": {},
     "output_type": "execute_result"
    }
   ],
   "source": [
    "arr1 = np.random.randint(1,10,size=(10))\n",
    "print(\"Array:\\n\",arr1)\n",
    "result = np.std(arr1)\n",
    "result"
   ]
  },
  {
   "cell_type": "code",
   "execution_count": 50,
   "metadata": {},
   "outputs": [
    {
     "data": {
      "text/plain": [
       "ModeResult(mode=1, count=1)"
      ]
     },
     "execution_count": 50,
     "metadata": {},
     "output_type": "execute_result"
    }
   ],
   "source": [
    "from scipy.stats import mode\n",
    "arr1 = np.array([1,2,3,4,5,6,7,8,9,10])\n",
    "result = mode(arr1)\n",
    "result"
   ]
  },
  {
   "cell_type": "code",
   "execution_count": 51,
   "metadata": {},
   "outputs": [
    {
     "data": {
      "text/plain": [
       "5.32"
      ]
     },
     "execution_count": 51,
     "metadata": {},
     "output_type": "execute_result"
    }
   ],
   "source": [
    "result = np.around(5.3245,2)\n",
    "result"
   ]
  },
  {
   "cell_type": "code",
   "execution_count": 52,
   "metadata": {},
   "outputs": [
    {
     "data": {
      "text/plain": [
       "array([ 1,  2,  3,  4,  5,  6,  7,  8,  9, 10])"
      ]
     },
     "execution_count": 52,
     "metadata": {},
     "output_type": "execute_result"
    }
   ],
   "source": [
    "arr1"
   ]
  },
  {
   "cell_type": "code",
   "execution_count": 54,
   "metadata": {},
   "outputs": [
    {
     "data": {
      "text/plain": [
       "array([[-4.,  3.],\n",
       "       [ 3., -2.]])"
      ]
     },
     "execution_count": 54,
     "metadata": {},
     "output_type": "execute_result"
    }
   ],
   "source": [
    "arr1 = np.array([[2,3],[3,4]])\n",
    "result = np.linalg.inv(arr1)\n",
    "result"
   ]
  },
  {
   "cell_type": "code",
   "execution_count": 55,
   "metadata": {},
   "outputs": [
    {
     "data": {
      "text/plain": [
       "array([[1., 1.],\n",
       "       [1., 1.]])"
      ]
     },
     "execution_count": 55,
     "metadata": {},
     "output_type": "execute_result"
    }
   ],
   "source": [
    "x = np.array([1,2,3])\n",
    "y = np.array([4,5,6])\n",
    "result = np.cov(x,y)\n",
    "result"
   ]
  },
  {
   "cell_type": "code",
   "execution_count": 56,
   "metadata": {},
   "outputs": [
    {
     "name": "stdout",
     "output_type": "stream",
     "text": [
      "Array: [ 1  2  3  4  5  6  7  8  9 10]\n"
     ]
    },
    {
     "data": {
      "text/plain": [
       "array([[[ 1],\n",
       "        [ 2],\n",
       "        [ 3],\n",
       "        [ 4],\n",
       "        [ 5]],\n",
       "\n",
       "       [[ 6],\n",
       "        [ 7],\n",
       "        [ 8],\n",
       "        [ 9],\n",
       "        [10]]])"
      ]
     },
     "execution_count": 56,
     "metadata": {},
     "output_type": "execute_result"
    }
   ],
   "source": [
    "arr1 = np.array([1,2,3,4,5,6,7,8,9,10])\n",
    "print(\"Array:\",arr1)\n",
    "arr2 = np.reshape(arr1,(2,5,1))\n",
    "arr2"
   ]
  },
  {
   "cell_type": "code",
   "execution_count": 57,
   "metadata": {},
   "outputs": [
    {
     "name": "stdout",
     "output_type": "stream",
     "text": [
      "Array:\n",
      " [[[[4 2 3 8]\n",
      "   [7 3 6 9]\n",
      "   [9 1 1 3]]\n",
      "\n",
      "  [[1 8 9 1]\n",
      "   [7 7 6 4]\n",
      "   [2 7 4 1]]]]\n"
     ]
    },
    {
     "data": {
      "text/plain": [
       "array([[4, 2, 3, 8],\n",
       "       [7, 3, 6, 9],\n",
       "       [9, 1, 1, 3],\n",
       "       [1, 8, 9, 1],\n",
       "       [7, 7, 6, 4],\n",
       "       [2, 7, 4, 1]])"
      ]
     },
     "execution_count": 57,
     "metadata": {},
     "output_type": "execute_result"
    }
   ],
   "source": [
    "arr1 = np.random.randint(1,10,size=(1,2,3,4))\n",
    "print(\"Array:\\n\",arr1)\n",
    "arr2 = np.reshape(arr1,(6,4))\n",
    "arr2"
   ]
  },
  {
   "cell_type": "code",
   "execution_count": 58,
   "metadata": {},
   "outputs": [
    {
     "data": {
      "text/plain": [
       "array([0, 0, 0, 0, 0, 0, 0, 0, 0, 0])"
      ]
     },
     "execution_count": 58,
     "metadata": {},
     "output_type": "execute_result"
    }
   ],
   "source": [
    "arr1 = np.zeros(10,dtype=int)\n",
    "arr1"
   ]
  },
  {
   "cell_type": "code",
   "execution_count": 59,
   "metadata": {},
   "outputs": [
    {
     "data": {
      "text/plain": [
       "(3, 4)"
      ]
     },
     "execution_count": 59,
     "metadata": {},
     "output_type": "execute_result"
    }
   ],
   "source": [
    "arr1 = np.array([[1,2,3,4],[5,6,8,7],[3,4,5,6]])\n",
    "arr1.shape"
   ]
  },
  {
   "cell_type": "code",
   "execution_count": null,
   "metadata": {},
   "outputs": [],
   "source": []
  }
 ],
 "metadata": {
  "kernelspec": {
   "display_name": "Abhishek",
   "language": "python",
   "name": "python3"
  },
  "language_info": {
   "codemirror_mode": {
    "name": "ipython",
    "version": 3
   },
   "file_extension": ".py",
   "mimetype": "text/x-python",
   "name": "python",
   "nbconvert_exporter": "python",
   "pygments_lexer": "ipython3",
   "version": "3.9.17"
  }
 },
 "nbformat": 4,
 "nbformat_minor": 2
}
